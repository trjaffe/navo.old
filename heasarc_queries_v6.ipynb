{
 "cells": [
  {
   "cell_type": "markdown",
   "metadata": {},
   "source": [
    "# Draft notebook:  HEASARC access through python\n",
    "This notebook goes through examples of how to access HEASARC data, whether catalogs, images, or spectra, using various VO protocols.  The services are described on the __[HEASARC VO](https://heasarc.gsfc.nasa.gov/docs/archive/vo/)__ page.\n",
    "\n",
    "* [1. VOTable](#votable): Creating a VO table of objects to work with\n",
    "* [2. SIA](#sia): Using the Simple Image Access protocol.  \n",
    "* [3a. TAP1](#tap1): Using the Table Access Protocol to find available VO resources\n",
    "* [3b. TAP2](#tap2): Using the TAP to cross-correlate our objects with a catalog\n",
    "* [4. Combining](#combo) data from different catalogs\n",
    "* [5. SCS](#scs):  Using the Simple Cone Search to query a different catalog in a loop\n",
    "* [6. SSA](#ssa):  Using the Simple Spectral Access protocol to retrieve spectra.\n"
   ]
  },
  {
   "cell_type": "markdown",
   "metadata": {},
   "source": [
    "## Notes:\n",
    "\n",
    "There are a number of ways to use VO services through Python.  From the AstroQuery web page (https://astroquery.readthedocs.io/en/latest/):\n",
    "\n",
    "<div class=\"alert alert-block alert-info\">\"There are two other packages with complimentary functionality as Astroquery: astropy.vo is in the Astropy core and pyvo is an Astropy affiliated package. They are more oriented to general virtual observatory discovery and queries, whereas Astroquery has web service specific interfaces.\"</div>\n",
    "    \n",
    "For this notebook, we will stick with the generic python requests method. In general, the queries are simple enough that this is almost as readable, and it has the benefit of depending on no specialized packages. There is as yet no single standardized set of Python tools for accessing VO data.  \n"
   ]
  },
  {
   "cell_type": "code",
   "execution_count": 1,
   "metadata": {
    "collapsed": false
   },
   "outputs": [],
   "source": [
    "import matplotlib\n",
    "import matplotlib.pyplot as plt\n",
    "%matplotlib inline  \n",
    "import numpy\n",
    "## There are a number of relatively unimportant warnings that \n",
    "## show up, so for now, suppress them:\n",
    "import warnings\n",
    "warnings.filterwarnings(\"ignore\")\n",
    "## The main HTTP request tool we will use:\n",
    "import requests\n",
    "## For simple astropy tables\n",
    "import astropy\n",
    "import io\n",
    "from IPython.display import Image, display\n",
    "\n",
    "## For handling ordinary astropy Tables\n",
    "from astropy.table import Table\n",
    "\n",
    "## For handling VO table type objects\n",
    "from astropy.io import votable as apvot\n",
    "\n",
    "## For reading FITS files\n",
    "import astropy.io.fits as apfits"
   ]
  },
  {
   "cell_type": "markdown",
   "metadata": {},
   "source": [
    "<a id=\"votable\"></a>\n",
    "# 1. VOTable:  Creating a VO Table of objects to work with\n"
   ]
  },
  {
   "cell_type": "markdown",
   "metadata": {},
   "source": [
    "We can use W3Browse to get a HEASARC catalog as a VOTable object.  W3Browse can be used to retrieve tables in a number of formats, one of which is a VO Table.  \n",
    "\n",
    "The requests package of python is a generic interface to web services.  The requests.get() method formats the given parameters for you and returns the results of the HTTP request in a useful object.  In this case, the result is a string containing the VOTable result.  We then use the python votable package to parse it and give us an object that works like an astropy Table."
   ]
  },
  {
   "cell_type": "code",
   "execution_count": 2,
   "metadata": {
    "collapsed": false
   },
   "outputs": [],
   "source": [
    "params = {'name': 'rosmaster'}\n",
    "r = requests.get('http://heasarc.gsfc.nasa.gov/cgi-bin/W3Browse/getvotable.pl', params=params)\n",
    "#r.text"
   ]
  },
  {
   "cell_type": "code",
   "execution_count": 3,
   "metadata": {
    "collapsed": false
   },
   "outputs": [],
   "source": [
    "table=Table.read(io.BytesIO(r.content))"
   ]
  },
  {
   "cell_type": "code",
   "execution_count": 4,
   "metadata": {
    "collapsed": false,
    "scrolled": true
   },
   "outputs": [
    {
     "name": "stdout",
     "output_type": "stream",
     "text": [
      "<class 'astropy.table.table.Table'>\n"
     ]
    },
    {
     "data": {
      "text/html": [
       "&lt;Table masked=True length=11431&gt;\n",
       "<table id=\"table4401991752\" class=\"table-striped table-bordered table-condensed\">\n",
       "<thead><tr><th>col1</th><th>col2</th><th>col3</th><th>col4</th><th>col5</th><th>col6</th><th>col7</th><th>col8</th><th>col9</th><th>col10</th><th>col11</th><th>col12</th><th>col13</th><th>col14</th><th>col15</th><th>col16</th><th>col17</th><th>col18</th><th>col19</th><th>col20</th><th>col21</th><th>col22</th><th>col23</th><th>col24</th><th>col25</th><th>col26</th><th>col27</th><th>col28</th></tr></thead>\n",
       "<thead><tr><th></th><th>deg</th><th>deg</th><th>deg</th><th>deg</th><th></th><th></th><th></th><th>s</th><th>s</th><th></th><th>MJD</th><th>MJD</th><th></th><th></th><th></th><th></th><th></th><th></th><th></th><th></th><th></th><th></th><th></th><th>deg</th><th>d</th><th>d</th><th></th></tr></thead>\n",
       "<thead><tr><th>bytes16</th><th>float64</th><th>float64</th><th>float64</th><th>float64</th><th>bytes6</th><th>bytes2</th><th>bytes4</th><th>int32</th><th>int32</th><th>bytes10</th><th>float64</th><th>float64</th><th>bytes20</th><th>bytes16</th><th>bytes14</th><th>int32</th><th>bytes4</th><th>int16</th><th>int16</th><th>bytes120</th><th>int32</th><th>int16</th><th>int32</th><th>int16</th><th>int32</th><th>int32</th><th>int16</th></tr></thead>\n",
       "<tr><td>RH202299N00</td><td>49.3200</td><td>-85.5400</td><td>299.8517</td><td>-30.6815</td><td>HRI</td><td>N</td><td>MPE</td><td>36146</td><td>70000</td><td>RDF 4_2</td><td>50174.496192129598</td><td>50187.986747685201</td><td>RE J0317-853</td><td>BURLEIGH</td><td>MATTHEW</td><td>202299</td><td>n00</td><td>2</td><td>2</td><td>RE J0317-853</td><td>24302</td><td>6</td><td>7128</td><td>307</td><td>2163</td><td>2177</td><td>2900</td></tr>\n",
       "<tr><td>RH202299A01</td><td>49.3200</td><td>-85.5400</td><td>299.8517</td><td>-30.6815</td><td>HRI</td><td>N</td><td>MPE</td><td>43683</td><td>70000</td><td>RDF 3_6</td><td>50324.742534722202</td><td>50377.477592592601</td><td>RE J0317-853</td><td>BURLEIGH</td><td>MATTHEW</td><td>202299</td><td>a01</td><td>2</td><td>2</td><td>RE J0317-853</td><td>24301</td><td>6</td><td>7128</td><td>162</td><td>2316</td><td>2369</td><td>2900</td></tr>\n",
       "<tr><td>RP200594N00</td><td>151.8800</td><td>-85.0800</td><td>299.4192</td><td>-23.3707</td><td>PSPCB</td><td>N</td><td>MPE</td><td>4231</td><td>5000</td><td>RDF 3_4</td><td>48682.1389583333</td><td>48690.983333333301</td><td>HD 89499</td><td>FLEMING</td><td>THOMAS</td><td>200594</td><td>n00</td><td>2</td><td>2</td><td>HD 89499</td><td>17171</td><td>2</td><td>3532</td><td>66</td><td>648</td><td>657</td><td>2900</td></tr>\n",
       "<tr><td>RH201328N00</td><td>107.9100</td><td>-84.4700</td><td>296.7740</td><td>-26.5072</td><td>HRI</td><td>N</td><td>MPE</td><td>2332</td><td>2000</td><td>RDF 3_4</td><td>48880.838020833296</td><td>48881.780729166698</td><td>HD 60102 AB</td><td>ZINNECKER</td><td>HANS</td><td>201328</td><td>n00</td><td>2</td><td>2</td><td>HD 60102 AB</td><td>22560</td><td>3</td><td>4268</td><td>215</td><td>850</td><td>851</td><td>2900</td></tr>\n",
       "<tr><td>RH400876A01</td><td>193.9400</td><td>-83.3700</td><td>303.0651</td><td>-20.4994</td><td>HRI</td><td>N</td><td>GSFC</td><td>19075</td><td>20000</td><td>RDF 4_2</td><td>50702.423530092601</td><td>50735.172557870399</td><td>2EG J1248-8306 POS 3</td><td>HALPERN</td><td>JULES</td><td>400876</td><td>a01</td><td>4</td><td>2</td><td>2EG J1248-8306 POS 3</td><td>25116</td><td>7</td><td>2460</td><td>299</td><td>2699</td><td>2733</td><td>9999</td></tr>\n",
       "<tr><td>RH400876N00</td><td>193.9400</td><td>-83.3700</td><td>303.0651</td><td>-20.4994</td><td>HRI</td><td>N</td><td>GSFC</td><td>1059</td><td>20000</td><td>RDF 4_0</td><td>50548.2425</td><td>50548.255474537</td><td>2EG J1248-8306 POS 3</td><td>HALPERN</td><td>JULES</td><td>400876</td><td>n00</td><td>4</td><td>2</td><td>2EG J1248-8306 POS 3</td><td>19808</td><td>7</td><td>2460</td><td>85</td><td>2543</td><td>2543</td><td>9999</td></tr>\n",
       "<tr><td>RH400877A02</td><td>190.1700</td><td>-83.3600</td><td>302.6001</td><td>-20.4952</td><td>HRI</td><td>N</td><td>GSFC</td><td>19384</td><td>20000</td><td>RDF 4_2</td><td>50893.248460648101</td><td>50895.138969907399</td><td>2EG J1248-8306 POS 4</td><td>HALPERN</td><td>JULES</td><td>400877</td><td>a02</td><td>4</td><td>2</td><td>2EG J1248-8306 POS 4</td><td>24927</td><td>7</td><td>2460</td><td>90</td><td>2893</td><td>2895</td><td>9999</td></tr>\n",
       "<tr><td>RH400877A01</td><td>190.1700</td><td>-83.3600</td><td>302.6001</td><td>-20.4952</td><td>HRI</td><td>N</td><td>GSFC</td><td>2363</td><td>20000</td><td>RDF 4_2</td><td>50735.5647916667</td><td>50735.574120370402</td><td>2EG J1248-8306 POS 4</td><td>HALPERN</td><td>JULES</td><td>400877</td><td>a01</td><td>4</td><td>2</td><td>2EG J1248-8306 POS 4</td><td>25115</td><td>7</td><td>2460</td><td>260</td><td>2733</td><td>2733</td><td>9999</td></tr>\n",
       "<tr><td>RH400877N00</td><td>190.1700</td><td>-83.3600</td><td>302.6001</td><td>-20.4952</td><td>HRI</td><td>N</td><td>GSFC</td><td>1250</td><td>20000</td><td>RDF 4_0</td><td>50548.770254629599</td><td>50548.785879629599</td><td>2EG J1248-8306 POS 4</td><td>HALPERN</td><td>JULES</td><td>400877</td><td>n00</td><td>4</td><td>2</td><td>2EG J1248-8306 POS 4</td><td>19809</td><td>7</td><td>2460</td><td>81</td><td>2543</td><td>2543</td><td>9999</td></tr>\n",
       "<tr><td>...</td><td>...</td><td>...</td><td>...</td><td>...</td><td>...</td><td>...</td><td>...</td><td>...</td><td>...</td><td>...</td><td>...</td><td>...</td><td>...</td><td>...</td><td>...</td><td>...</td><td>...</td><td>...</td><td>...</td><td>...</td><td>...</td><td>...</td><td>...</td><td>...</td><td>...</td><td>...</td><td>...</td></tr>\n",
       "<tr><td>RH180091N00</td><td>172.0200</td><td>85.5500</td><td>124.7826</td><td>31.2749</td><td>HRI</td><td>N</td><td>MPE</td><td>897</td><td>1000</td><td>RDF 3_9</td><td>50168.8914814815</td><td>50168.901898148099</td><td></td><td>SCHMITT</td><td>JUERGEN</td><td>180091</td><td>n00</td><td>1</td><td>2</td><td>COMET HYAKUTAKE POIN</td><td>23171</td><td>0</td><td>0</td><td>272</td><td>2158</td><td>2158</td><td>2900</td></tr>\n",
       "<tr><td>RP900512N00</td><td>110.3000</td><td>85.7000</td><td>127.7445</td><td>27.6030</td><td>PSPCB</td><td>N</td><td>GSFC</td><td>9029</td><td>10000</td><td>RDF 4_0</td><td>49221.753460648099</td><td>49221.921898148103</td><td>NGC2300 GROUP</td><td>MULCHAEY</td><td>JOHN</td><td>900512</td><td>n00</td><td>9</td><td>2</td><td>NGC2300 GROUP</td><td>20217</td><td>4</td><td>1818</td><td>132</td><td>1196</td><td>1196</td><td>3900</td></tr>\n",
       "<tr><td>RP900513N00</td><td>114.7000</td><td>85.7000</td><td>127.6963</td><td>27.9300</td><td>PSPCB</td><td>N</td><td>GSFC</td><td>8417</td><td>10000</td><td>RDF 4_0</td><td>49221.821967592601</td><td>49222.054560185199</td><td>NGC2300 GROUP</td><td>MULCHAEY</td><td>JOHN</td><td>900513</td><td>n00</td><td>9</td><td>2</td><td>NGC2300 GROUP</td><td>20221</td><td>4</td><td>1818</td><td>128</td><td>1196</td><td>1196</td><td>3900</td></tr>\n",
       "<tr><td>RP900161N00</td><td>111.7200</td><td>85.7500</td><td>127.6760</td><td>27.7031</td><td>PSPCB</td><td>N</td><td>GSFC</td><td>5997</td><td>14000</td><td>RDF 3_4</td><td>48737.362581018497</td><td>48739.391446759299</td><td>NGC2276</td><td>MUSHOTZKY</td><td>RICHARD</td><td>900161</td><td>n00</td><td>9</td><td>2</td><td>NGC2276</td><td>11708</td><td>2</td><td>676</td><td>12</td><td>704</td><td>706</td><td>3900</td></tr>\n",
       "<tr><td>RH600498A01</td><td>111.8000</td><td>85.7600</td><td>127.6640</td><td>27.7078</td><td>HRI</td><td>N</td><td>GSFC</td><td>21731</td><td>80000</td><td>RDF 3_6</td><td>49593.445428240702</td><td>49594.723287036999</td><td>NGC 2276</td><td>KEEL</td><td>WILLIAM</td><td>600498</td><td>a01</td><td>6</td><td>2</td><td>NGC 2276</td><td>16550</td><td>4</td><td>1635</td><td>140</td><td>1573</td><td>1575</td><td>6900</td></tr>\n",
       "<tr><td>RH600498N00</td><td>111.8000</td><td>85.7600</td><td>127.6640</td><td>27.7078</td><td>HRI</td><td>N</td><td>GSFC</td><td>52235</td><td>80000</td><td>RDF 3_4</td><td>49429.014386574097</td><td>49432.951921296299</td><td>NGC 2276</td><td>KEEL</td><td>WILLIAM</td><td>600498</td><td>n00</td><td>6</td><td>2</td><td>NGC 2276</td><td>12347</td><td>4</td><td>1635</td><td>336</td><td>1406</td><td>1410</td><td>6900</td></tr>\n",
       "<tr><td>RH800780N00</td><td>261.1700</td><td>85.8900</td><td>118.5825</td><td>28.5800</td><td>HRI</td><td>N</td><td>GSFC</td><td>29010</td><td>29000</td><td>RDF 3_4</td><td>50172.537326388898</td><td>50175.9321180556</td><td>A2294</td><td>BURNS</td><td>JACK</td><td>800780</td><td>n00</td><td>8</td><td>2</td><td>A2294</td><td>13937</td><td>6</td><td>2367</td><td>190</td><td>2161</td><td>2165</td><td>5000</td></tr>\n",
       "<tr><td>RH702064N00</td><td>35.7700</td><td>86.3200</td><td>124.4960</td><td>23.7300</td><td>HRI</td><td>N</td><td>GSFC</td><td>16115</td><td>19000</td><td>RDF 3_4</td><td>50171.413217592599</td><td>50173.290578703702</td><td>3C61.1</td><td>ARNAUD</td><td>KEITH</td><td>702064</td><td>n00</td><td>7</td><td>2</td><td>3C61.1</td><td>13935</td><td>6</td><td>2331</td><td>54</td><td>2160</td><td>2162</td><td>7000</td></tr>\n",
       "<tr><td>RH202532A01</td><td>37.9600</td><td>89.2600</td><td>123.2826</td><td>26.4577</td><td>HRI</td><td>N</td><td>MPE</td><td>8859</td><td>10000</td><td>RFITS V3.</td><td>50534.928391203699</td><td>50535.892175925903</td><td>ALPHA UMI</td><td>HUENSCH</td><td>MATTHIAS</td><td>202532</td><td>a01</td><td>2</td><td>2</td><td>ALPHA UMI</td><td>50167</td><td>7</td><td>3439</td><td>47</td><td>2529</td><td>2530</td><td>2900</td></tr>\n",
       "<tr><td>RH202532N00</td><td>37.9600</td><td>89.2600</td><td>123.2826</td><td>26.4577</td><td>HRI</td><td>N</td><td>MPE</td><td>2376</td><td>10000</td><td>RFITS V4.</td><td>50378.277361111097</td><td>50378.305798611102</td><td>ALPHA UMI</td><td>HUENSCH</td><td>MATTHIAS</td><td>202532</td><td>n00</td><td>2</td><td>2</td><td>ALPHA UMI</td><td>50168</td><td>7</td><td>3439</td><td>254</td><td>2370</td><td>2370</td><td>2900</td></tr>\n",
       "</table>"
      ],
      "text/plain": [
       "<Table masked=True length=11431>\n",
       "    col1      col2     col3     col4     col5   ... col25 col26 col27 col28\n",
       "              deg      deg      deg      deg    ...  deg    d     d        \n",
       "  bytes16   float64  float64  float64  float64  ... int16 int32 int32 int16\n",
       "----------- -------- -------- -------- -------- ... ----- ----- ----- -----\n",
       "RH202299N00  49.3200 -85.5400 299.8517 -30.6815 ...   307  2163  2177  2900\n",
       "RH202299A01  49.3200 -85.5400 299.8517 -30.6815 ...   162  2316  2369  2900\n",
       "RP200594N00 151.8800 -85.0800 299.4192 -23.3707 ...    66   648   657  2900\n",
       "RH201328N00 107.9100 -84.4700 296.7740 -26.5072 ...   215   850   851  2900\n",
       "RH400876A01 193.9400 -83.3700 303.0651 -20.4994 ...   299  2699  2733  9999\n",
       "RH400876N00 193.9400 -83.3700 303.0651 -20.4994 ...    85  2543  2543  9999\n",
       "RH400877A02 190.1700 -83.3600 302.6001 -20.4952 ...    90  2893  2895  9999\n",
       "RH400877A01 190.1700 -83.3600 302.6001 -20.4952 ...   260  2733  2733  9999\n",
       "RH400877N00 190.1700 -83.3600 302.6001 -20.4952 ...    81  2543  2543  9999\n",
       "        ...      ...      ...      ...      ... ...   ...   ...   ...   ...\n",
       "RH180091N00 172.0200  85.5500 124.7826  31.2749 ...   272  2158  2158  2900\n",
       "RP900512N00 110.3000  85.7000 127.7445  27.6030 ...   132  1196  1196  3900\n",
       "RP900513N00 114.7000  85.7000 127.6963  27.9300 ...   128  1196  1196  3900\n",
       "RP900161N00 111.7200  85.7500 127.6760  27.7031 ...    12   704   706  3900\n",
       "RH600498A01 111.8000  85.7600 127.6640  27.7078 ...   140  1573  1575  6900\n",
       "RH600498N00 111.8000  85.7600 127.6640  27.7078 ...   336  1406  1410  6900\n",
       "RH800780N00 261.1700  85.8900 118.5825  28.5800 ...   190  2161  2165  5000\n",
       "RH702064N00  35.7700  86.3200 124.4960  23.7300 ...    54  2160  2162  7000\n",
       "RH202532A01  37.9600  89.2600 123.2826  26.4577 ...    47  2529  2530  2900\n",
       "RH202532N00  37.9600  89.2600 123.2826  26.4577 ...   254  2370  2370  2900"
      ]
     },
     "execution_count": 4,
     "metadata": {},
     "output_type": "execute_result"
    }
   ],
   "source": [
    "print(type(table))\n",
    "table"
   ]
  },
  {
   "cell_type": "code",
   "execution_count": null,
   "metadata": {
    "collapsed": true
   },
   "outputs": [],
   "source": []
  },
  {
   "cell_type": "markdown",
   "metadata": {},
   "source": [
    "Alternatively, we can create a table from scratch using an array of values named whatever we want.  \n",
    "\n",
    "There are several ways of doing this, and there are a few object layers here, which can be confusing.  There are standard astropy Table objects, there are votable Table objects, and there are votable VOTableFile objects that might contain multiple votable Tables. Though some things can be done with only astropy Tables, other VO operations can only be done with VO Tables.  \n",
    "\n",
    "This is easiest to see with an example:"
   ]
  },
  {
   "cell_type": "code",
   "execution_count": 5,
   "metadata": {
    "collapsed": false
   },
   "outputs": [
    {
     "name": "stdout",
     "output_type": "stream",
     "text": [
      "<class 'astropy.table.table.Table'>\n",
      "   RA     DEC  \n",
      "------- -------\n",
      "19.0186 46.7304\n",
      "20.2887 40.4703\n",
      "125.886 21.3377\n",
      "136.002 21.9679\n",
      "141.057 40.6372\n",
      "  146.7 22.0116\n",
      "148.785 14.2922\n",
      "149.751 17.8168\n",
      "175.039  15.327\n",
      "191.542 30.7317\n",
      "194.913 28.8959\n",
      "199.026 41.5011\n",
      "206.577 43.8511\n",
      "209.963 38.1821\n",
      "213.556 15.6214\n",
      "219.967 42.7421\n",
      "226.693 12.8502\n",
      "237.489 20.8057\n",
      "241.519 20.8014\n",
      "317.088 18.2002\n",
      "329.235 6.64845\n",
      " 333.83 37.3012\n"
     ]
    }
   ],
   "source": [
    "##  Create a table with only two columns starting from an astropy Table:  \n",
    "from astropy.table import Table as apTable\n",
    "aptable=apTable(\n",
    "    numpy.array([\n",
    "            [19.0186,       46.7304],\n",
    "            [20.2887,       40.4703],\n",
    "            [125.886,       21.3377],\n",
    "            [136.002,       21.9679],\n",
    "            [141.057,       40.6372],\n",
    "            [146.700,       22.0116],\n",
    "            [148.785,       14.2922],\n",
    "            [149.751,       17.8168],\n",
    "            [175.039,       15.3270],\n",
    "            [191.542,       30.7317],\n",
    "            [194.913,       28.8959],\n",
    "            [199.026,       41.5011],\n",
    "            [206.577,       43.8511],\n",
    "            [209.963,       38.1821],\n",
    "            [213.556,       15.6214],\n",
    "            [219.967,       42.7421],\n",
    "            [226.693,       12.8502],\n",
    "            [237.489,       20.8057],\n",
    "            [241.519,       20.8014],\n",
    "            [317.088,       18.2002],\n",
    "            [329.235,       6.64845],\n",
    "            [333.830,       37.3012] ]), \n",
    "    names=[\"RA\",\"DEC\"])\n",
    "print(type(aptable))\n",
    "print(aptable)\n"
   ]
  },
  {
   "cell_type": "code",
   "execution_count": 9,
   "metadata": {
    "collapsed": false
   },
   "outputs": [
    {
     "name": "stdout",
     "output_type": "stream",
     "text": [
      "<class 'astropy.io.votable.tree.VOTableFile'>\n",
      "        RA                DEC        \n",
      "------------------ ------------------\n",
      "19.018599999999999 46.730400000000003\n",
      "20.288699999999999 40.470300000000002\n",
      "           125.886 21.337700000000002\n",
      "136.00200000000001            21.9679\n",
      "141.05699999999999            40.6372\n",
      "146.69999999999999 22.011600000000001\n",
      "           148.785 14.292199999999999\n",
      "           149.751 17.816800000000001\n",
      "175.03899999999999             15.327\n",
      "           191.542            30.7317\n",
      "194.91300000000001 28.895900000000001\n",
      "199.02600000000001 41.501100000000001\n",
      "           206.577 43.851100000000002\n",
      "209.96299999999999 38.182099999999998\n",
      "213.55600000000001            15.6214\n",
      "219.96700000000001 42.742100000000001\n",
      "226.69300000000001 12.850199999999999\n",
      "           237.489 20.805700000000002\n",
      "241.51900000000001 20.801400000000001\n",
      "317.08800000000002 18.200199999999999\n",
      "329.23500000000001 6.6484500000000004\n",
      "333.82999999999998 37.301200000000001\n"
     ]
    }
   ],
   "source": [
    "## Then convert this to a VOTableFile object.\n",
    "votablefile = apvot.from_table(aptable)\n",
    "print(type(votablefile))\n",
    "## Which contains a nested set of RESOURCES\n",
    "for r in votablefile.resources:\n",
    "    ## And tables (in this case, only one of each)\n",
    "    for t in r.tables:\n",
    "        print(t)\n"
   ]
  },
  {
   "cell_type": "code",
   "execution_count": 7,
   "metadata": {
    "collapsed": false
   },
   "outputs": [
    {
     "name": "stdout",
     "output_type": "stream",
     "text": [
      "<class 'astropy.io.votable.tree.Table'>\n"
     ]
    }
   ],
   "source": [
    "## Write it to a file (because some functions will be easier this way)\n",
    "apvot.writeto(votablefile, \"new_votable.xml\")\n",
    "## Read a single table from a file (note that the VOTableFile object \n",
    "##  could in theory contain multiple tables, but in this case, we \n",
    "##  have only one):\n",
    "#apvotable = apvot.parse_single_table(\"new_votable.xml\")\n",
    "## Or get the table out of a VOTableFile object:\n",
    "apvotable=votablefile.get_first_table()\n",
    "## And this is a single votable Table:  \n",
    "print(type(apvotable))\n",
    "## This is the same as above:\n",
    "#print(apvotable)"
   ]
  },
  {
   "cell_type": "markdown",
   "metadata": {},
   "source": [
    "<div class=\"alert alert-block alert-danger\">\n",
    "Can this be simplified?  Why do we really need the VOTableFile level with only one table?  Because we read-write to disk?  Can that be avoided?</div>"
   ]
  },
  {
   "cell_type": "code",
   "execution_count": null,
   "metadata": {
    "collapsed": true
   },
   "outputs": [],
   "source": []
  },
  {
   "cell_type": "markdown",
   "metadata": {},
   "source": [
    "<a id=\"sia\"></a>\n",
    "# 2. SIA:  Using the Simple Image Access protocol.\n"
   ]
  },
  {
   "cell_type": "markdown",
   "metadata": {},
   "source": [
    "The __[HEASARC VO](https://heasarc.gsfc.nasa.gov/docs/archive/vo/instructions.html#_accessing)__ page describes how to access SkyView images with the SIA protocol. But first, how do you know what sorts of images are available?"
   ]
  },
  {
   "cell_type": "markdown",
   "metadata": {},
   "source": [
    "## 2.1:  Finding SkyView SIA resources from the NAVO directory with TAP\n",
    "\n",
    "First, we can find out what SIA resources are available through SkyView. These are listed in a registry at STScI which we can access through the__[IVOA Table Access Protocol](http://www.ivoa.net/documents/TAP/20100327/REC-TAP-1.0.html)__ (TAP). We submit an HTTP request to a given TAP service URL formed in a particular language (ADQL in this case) to specify what we wish to search for, in this case the HEASARC SIA resources: "
   ]
  },
  {
   "cell_type": "markdown",
   "metadata": {},
   "source": [
    "<div class=\"alert alert-block alert-danger\">\n",
    "For now, let's forget about using Xamin to find the SIA resources, of which there are far fewer listed than there are in SkyView.</div>"
   ]
  },
  {
   "cell_type": "code",
   "execution_count": 11,
   "metadata": {
    "collapsed": false
   },
   "outputs": [
    {
     "data": {
      "text/html": [
       "&lt;Table masked=True length=88&gt;\n",
       "<table id=\"table4426611680\" class=\"table-striped table-bordered table-condensed\">\n",
       "<thead><tr><th>short_name</th><th>ivoid</th></tr></thead>\n",
       "<thead><tr><th>object</th><th>object</th></tr></thead>\n",
       "<tr><td>1420MHz</td><td>ivo://nasa.heasarc/skyview/1420mhz</td></tr>\n",
       "<tr><td>2MASS</td><td>ivo://nasa.heasarc/skyview/2mass</td></tr>\n",
       "<tr><td>408MHz</td><td>ivo://nasa.heasarc/skyview/408mhz</td></tr>\n",
       "<tr><td>AKARI</td><td>ivo://nasa.heasarc/skyview/akari</td></tr>\n",
       "<tr><td>ASCA</td><td>ivo://nasa.heasarc/ascamaster</td></tr>\n",
       "<tr><td>ASCA/AGN</td><td>ivo://nasa.heasarc/tartarus</td></tr>\n",
       "<tr><td>ASCASIS</td><td>ivo://nasa.heasarc/ascasis</td></tr>\n",
       "<tr><td>BATSIG</td><td>ivo://nasa.heasarc/skyview/batsig</td></tr>\n",
       "<tr><td>CDFS-LESS</td><td>ivo://nasa.heasarc/skyview/cdfs-less</td></tr>\n",
       "<tr><td>Chandra</td><td>ivo://nasa.heasarc/chanmaster</td></tr>\n",
       "<tr><td>...</td><td>...</td></tr>\n",
       "<tr><td>SwiftUVOT</td><td>ivo://nasa.heasarc/swiftuvlog</td></tr>\n",
       "<tr><td>SwiftXRT</td><td>ivo://nasa.heasarc/swiftxrlog</td></tr>\n",
       "<tr><td>TGSS</td><td>ivo://nasa.heasarc/skyview/tgss</td></tr>\n",
       "<tr><td>UKIDSS</td><td>ivo://nasa.heasarc/skyview/ukidss</td></tr>\n",
       "<tr><td>VLSS</td><td>ivo://nasa.heasarc/skyview/vlss</td></tr>\n",
       "<tr><td>WENSS</td><td>ivo://nasa.heasarc/skyview/wenss</td></tr>\n",
       "<tr><td>WFCF1</td><td>ivo://nasa.heasarc/skyview/wfcf1</td></tr>\n",
       "<tr><td>Wise</td><td>ivo://nasa.heasarc/skyview/wise</td></tr>\n",
       "<tr><td>WMAP</td><td>ivo://nasa.heasarc/skyview/wmap</td></tr>\n",
       "<tr><td>XMM</td><td>ivo://nasa.heasarc/xmmmaster</td></tr>\n",
       "</table>"
      ],
      "text/plain": [
       "<Table masked=True length=88>\n",
       "short_name                ivoid                \n",
       "  object                  object               \n",
       "---------- ------------------------------------\n",
       "   1420MHz   ivo://nasa.heasarc/skyview/1420mhz\n",
       "     2MASS     ivo://nasa.heasarc/skyview/2mass\n",
       "    408MHz    ivo://nasa.heasarc/skyview/408mhz\n",
       "     AKARI     ivo://nasa.heasarc/skyview/akari\n",
       "      ASCA        ivo://nasa.heasarc/ascamaster\n",
       "  ASCA/AGN          ivo://nasa.heasarc/tartarus\n",
       "   ASCASIS           ivo://nasa.heasarc/ascasis\n",
       "    BATSIG    ivo://nasa.heasarc/skyview/batsig\n",
       " CDFS-LESS ivo://nasa.heasarc/skyview/cdfs-less\n",
       "   Chandra        ivo://nasa.heasarc/chanmaster\n",
       "       ...                                  ...\n",
       " SwiftUVOT        ivo://nasa.heasarc/swiftuvlog\n",
       "  SwiftXRT        ivo://nasa.heasarc/swiftxrlog\n",
       "      TGSS      ivo://nasa.heasarc/skyview/tgss\n",
       "    UKIDSS    ivo://nasa.heasarc/skyview/ukidss\n",
       "      VLSS      ivo://nasa.heasarc/skyview/vlss\n",
       "     WENSS     ivo://nasa.heasarc/skyview/wenss\n",
       "     WFCF1     ivo://nasa.heasarc/skyview/wfcf1\n",
       "      Wise      ivo://nasa.heasarc/skyview/wise\n",
       "      WMAP      ivo://nasa.heasarc/skyview/wmap\n",
       "       XMM         ivo://nasa.heasarc/xmmmaster"
      ]
     },
     "execution_count": 11,
     "metadata": {},
     "output_type": "execute_result"
    }
   ],
   "source": [
    "# Warning:  'query' is bizarrely case-sensitive:\n",
    "tap_params = {\n",
    "    \"request\":\"doQuery\",\n",
    "    \"lang\":\"ADQL\",\n",
    "    \"query\":\"\"\"\n",
    "        select b.short_name,a.ivoid from rr.capability a \n",
    "        natural join rr.resource b \n",
    "        where a.cap_type='simpleimageaccess' and a.ivoid like 'ivo://nasa.heasarc%' \n",
    "        order by short_name;\n",
    "    \"\"\"\n",
    "    }\n",
    "r = requests.post('http://vao.stsci.edu/RegTAP/TapService.aspx/sync', data=tap_params)\n",
    "##  If you want to see what requests gives you, you can look at the URL it actually constructed:\n",
    "#print(r.url)\n",
    "##  And the raw text of what it got back:\n",
    "# print(r.text)\n",
    "#  Somehow, first few characters are confusing the votable parser.\n",
    "table=Table.read(io.BytesIO(r.content))\n",
    "table"
   ]
  },
  {
   "cell_type": "markdown",
   "metadata": {},
   "source": [
    "<div class=\"alert alert-block alert-danger\">\n",
    "This would be useful as a function, e.g.,<br>\n",
    "    astroquery.heasarc.list_sia_services()<br>\n",
    "But then we have to resolve the SkyView SIA versus Xamin SIA ambiguity.\n",
    "</div>"
   ]
  },
  {
   "cell_type": "markdown",
   "metadata": {},
   "source": [
    "### 2.2 Using SIA to retrieve an image from SkyView:\n",
    "\n",
    "Now we pick one of these catalogs, SwiftUVOT, and look for our sources.  See __[the SIA definition](http://www.ivoa.net/documents/WD/SIA/sia-20040524.html)__ for usage.  In short, you specify the central position, POS, the angular SIZE, and the NAXIS, i.e., the number of bins.  (SkyView will bin/interpolate as needed from the archive data.)  "
   ]
  },
  {
   "cell_type": "code",
   "execution_count": 14,
   "metadata": {
    "collapsed": false
   },
   "outputs": [
    {
     "name": "stdout",
     "output_type": "stream",
     "text": [
      "['Survey', 'Ra', 'Dec', 'Dim', 'Size', 'Scale', 'Format', 'PixFlags', 'URL', 'LogicalName']\n"
     ]
    }
   ],
   "source": [
    "pos='{},{}'.format(aptable[0]['RA'],aptable[0]['DEC'])\n",
    "#  Note that there's currently a bug in the default interpolation \n",
    "#  method with this particular query, so we have to set it to 'LI' here.\n",
    "params = {'survey': 'swiftuvot', 'POS': pos, 'SIZE':'0.03', \"NAXIS\":\"300,300\", \"interpolation\":\"LI\"}\n",
    "r = requests.get('https://skyview.gsfc.nasa.gov/cgi-bin/vo/sia.pl', params=params)\n",
    "table=Table.read(io.BytesIO(r.content))\n",
    "print(table.colnames)"
   ]
  },
  {
   "cell_type": "markdown",
   "metadata": {},
   "source": [
    "Extract the fields you're interested in, e.g., the URLs of the images made by skyview.  Note that specifying as we did SwiftUVOT, we get a number of different images, e.g., UVOT U, V, B, W1, W2, etc.  For each survey, there are two URLs, first the FITS IMAGE and second the JPEG:"
   ]
  },
  {
   "cell_type": "code",
   "execution_count": 16,
   "metadata": {
    "collapsed": false
   },
   "outputs": [
    {
     "name": "stdout",
     "output_type": "stream",
     "text": [
      "b'https://skyview.gsfc.nasa.gov/cgi-bin/images?position=19.0186%2C46.7304&survey=swiftuvotuint&pixels=300%2C300&sampler=LI&size=0.03%2C0.03&projection=Tan&coordinates=J2000.0&requestID=skv1512154286174&return=FITS'\n",
      "b'https://skyview.gsfc.nasa.gov/cgi-bin/images?position=19.0186%2C46.7304&survey=swiftuvotuint&pixels=300%2C300&sampler=LI&size=0.03%2C0.03&projection=Tan&coordinates=J2000.0&requestID=skv1512154286174&nofits=1&quicklook=jpeg&return=jpeg'\n"
     ]
    }
   ],
   "source": [
    "###  Inside the table is a numpy record array that you can access like this, for example:\n",
    "#print(table.array[4][8])\n",
    "#  Or like this\n",
    "print(table[4]['URL'])\n",
    "### To download the FITS image itself:\n",
    "print(table[5]['URL'])"
   ]
  },
  {
   "cell_type": "markdown",
   "metadata": {},
   "source": [
    "### Resulting image\n",
    "You can display it in python by\n",
    "(give it ~10 seconds to appear)\n"
   ]
  },
  {
   "cell_type": "code",
   "execution_count": 22,
   "metadata": {
    "collapsed": false
   },
   "outputs": [
    {
     "data": {
      "text/html": [
       "<img src=\"https://skyview.gsfc.nasa.gov/cgi-bin/images?position=19.0186%2C46.7304&survey=swiftuvotuint&pixels=300%2C300&sampler=LI&size=0.03%2C0.03&projection=Tan&coordinates=J2000.0&requestID=skv1512154286174&nofits=1&quicklook=jpeg&return=jpeg\"/>"
      ],
      "text/plain": [
       "<IPython.core.display.Image object>"
      ]
     },
     "metadata": {},
     "output_type": "display_data"
    }
   ],
   "source": [
    "##  Note that there are bugs with some of these datasets, \n",
    "##  since they are new in SkyView.  Selecting the U-band image.\n",
    "##  (The decode is needed in Python 3.5 because it comes back a byte type.)\n",
    "display(Image(url=table['URL'][5].decode(\"utf-8\")))"
   ]
  },
  {
   "cell_type": "markdown",
   "metadata": {},
   "source": [
    "Or download the FITS image and display it with:\n",
    "\n",
    "(This often errors off with a time out message.  Just try it again, possibly a couple of times.)"
   ]
  },
  {
   "cell_type": "code",
   "execution_count": 25,
   "metadata": {
    "collapsed": false
   },
   "outputs": [
    {
     "name": "stdout",
     "output_type": "stream",
     "text": [
      "Downloading https://skyview.gsfc.nasa.gov/cgi-bin/images?position=19.0186%2C46.7304&survey=swiftuvotuint&pixels=300%2C300&sampler=LI&size=0.03%2C0.03&projection=Tan&coordinates=J2000.0&requestID=skv1512154286174&return=FITS [Done]\n"
     ]
    },
    {
     "data": {
      "text/plain": [
       "<matplotlib.image.AxesImage at 0x106673630>"
      ]
     },
     "execution_count": 25,
     "metadata": {},
     "output_type": "execute_result"
    },
    {
     "data": {
      "image/png": "[encoded data removed]",
      "text/plain": [
       "<matplotlib.figure.Figure at 0x107d8a908>"
      ]
     },
     "metadata": {},
     "output_type": "display_data"
    }
   ],
   "source": [
    "hdu_list=apfits.open(table['URL'][4].decode(\"utf-8\"))\n",
    "plt.imshow(hdu_list[0].data, cmap='gray', origin='lower',vmax=0.1)"
   ]
  },
  {
   "cell_type": "markdown",
   "metadata": {},
   "source": [
    "<div class=\"alert alert-block alert-danger\">\n",
    "Why does it so frequently time out?\n",
    "</div>"
   ]
  },
  {
   "cell_type": "markdown",
   "metadata": {},
   "source": [
    "### A related example with multiple VO interfaces\n",
    "A very similar example uses the SkyView SIA protocol to retrieve an image from a different survey, SDSS, which is not held on the HEASARC SkyView server but at MAST.  In this case, the user is unaware of where the data come from, which is the point.  But under the hood, SkyView is using SIA to get the data from MAST.  \n",
    "\n",
    "(Again, it will take a few seconds for the image to appear.)"
   ]
  },
  {
   "cell_type": "code",
   "execution_count": 26,
   "metadata": {
    "collapsed": false
   },
   "outputs": [],
   "source": [
    "params['survey']='sdssg'\n",
    "r = requests.get('https://skyview.gsfc.nasa.gov/cgi-bin/vo/sia.pl', params=params)"
   ]
  },
  {
   "cell_type": "code",
   "execution_count": 28,
   "metadata": {
    "collapsed": false
   },
   "outputs": [
    {
     "data": {
      "text/html": [
       "<img src=\"https://skyview.gsfc.nasa.gov/cgi-bin/images?position=19.0186%2C46.7304&survey=sdssg&pixels=300%2C300&sampler=LI&size=0.03%2C0.03&projection=Tan&coordinates=J2000.0&requestID=skv1512154626445&nofits=1&quicklook=jpeg&return=jpeg\"/>"
      ],
      "text/plain": [
       "<IPython.core.display.Image object>"
      ]
     },
     "metadata": {},
     "output_type": "display_data"
    }
   ],
   "source": [
    "table=Table.read(io.BytesIO(r.content))\n",
    "display(Image(url=table['URL'][1].decode(\"utf-8\")))"
   ]
  },
  {
   "cell_type": "markdown",
   "metadata": {},
   "source": [
    "<a id=\"tap1\"></a>\n",
    "# 3a. TAP:  Using the Table Access Protocol to find additional information on our sources\n",
    "In this example, we already have a list of 30 sources.  We would now like to find the redshift of these objects.\n",
    "\n",
    "First, find out what catalogs HEASARC holds:"
   ]
  },
  {
   "cell_type": "code",
   "execution_count": 31,
   "metadata": {
    "collapsed": false
   },
   "outputs": [
    {
     "data": {
      "text/html": [
       "&lt;Table masked=True length=10&gt;\n",
       "<table id=\"table4426607808\" class=\"table-striped table-bordered table-condensed\">\n",
       "<thead><tr><th>name</th><th>value</th></tr></thead>\n",
       "<thead><tr><th>object</th><th>object</th></tr></thead>\n",
       "<tr><td>xteasmlong</td><td>XTE All-Sky Monitor Long-Term Observed Sources</td></tr>\n",
       "<tr><td>xteassagn</td><td>XTE All-Sky Slew Survey AGN Catalog</td></tr>\n",
       "<tr><td>xteasscat</td><td>XTE All-Sky Slew Survey Catalog</td></tr>\n",
       "<tr><td>xteindex</td><td>XTE Target Index Catalog</td></tr>\n",
       "<tr><td>xtemaster</td><td>XTE Master Catalog</td></tr>\n",
       "<tr><td>xtemlcat</td><td>XTE Mission-Long Source Catalog</td></tr>\n",
       "<tr><td>xteslew</td><td>XTE Archived Public Slew Data</td></tr>\n",
       "<tr><td>xwas</td><td>XMM-Newton Wide Angle Survey</td></tr>\n",
       "<tr><td>zcat</td><td>CfA Redshift Catalog (June 1995 Version)</td></tr>\n",
       "<tr><td>zwclusters</td><td>Zwicky Clusters</td></tr>\n",
       "</table>"
      ],
      "text/plain": [
       "<Table masked=True length=10>\n",
       "   name                        value                     \n",
       "  object                       object                    \n",
       "---------- ----------------------------------------------\n",
       "xteasmlong XTE All-Sky Monitor Long-Term Observed Sources\n",
       " xteassagn            XTE All-Sky Slew Survey AGN Catalog\n",
       " xteasscat                XTE All-Sky Slew Survey Catalog\n",
       "  xteindex                       XTE Target Index Catalog\n",
       " xtemaster                             XTE Master Catalog\n",
       "  xtemlcat                XTE Mission-Long Source Catalog\n",
       "   xteslew                  XTE Archived Public Slew Data\n",
       "      xwas                   XMM-Newton Wide Angle Survey\n",
       "      zcat       CfA Redshift Catalog (June 1995 Version)\n",
       "zwclusters                                Zwicky Clusters"
      ]
     },
     "execution_count": 31,
     "metadata": {},
     "output_type": "execute_result"
    }
   ],
   "source": [
    "tap_params[\"query\"]=\"\"\"\n",
    "    select a.name,b.value\n",
    "      from metainfo a, metainfo b\n",
    "      where\n",
    "         a.type='table' and b.type='table' and\n",
    "         a.relation='defaultSearchRadius' and\n",
    "         b.relation='description' and\n",
    "         a.name=b.name\n",
    "      order by name    \n",
    "      \"\"\"\n",
    "r = requests.get('https://heasarc.gsfc.nasa.gov/xamin/vo/tap/sync', params=tap_params)\n",
    "table=Table.read(io.BytesIO(r.content))\n",
    "## Look at the last 10 rows:\n",
    "table[-10:]"
   ]
  },
  {
   "cell_type": "markdown",
   "metadata": {},
   "source": [
    "We see that we can query these objects in the CfA redshift catalog.  Let's start with one object at a time:"
   ]
  },
  {
   "cell_type": "code",
   "execution_count": 42,
   "metadata": {
    "collapsed": false
   },
   "outputs": [
    {
     "data": {
      "text/html": [
       "&lt;Table masked=True length=3&gt;\n",
       "<table id=\"table4621386752\" class=\"table-striped table-bordered table-condensed\">\n",
       "<thead><tr><th>redshift</th></tr></thead>\n",
       "<thead><tr><th>float64</th></tr></thead>\n",
       "<tr><td>--</td></tr>\n",
       "<tr><td>--</td></tr>\n",
       "<tr><td>--</td></tr>\n",
       "</table>"
      ],
      "text/plain": [
       "<Table masked=True length=3>\n",
       "redshift\n",
       "float64 \n",
       "--------\n",
       "      --\n",
       "      --\n",
       "      --"
      ]
     },
     "execution_count": 42,
     "metadata": {},
     "output_type": "execute_result"
    }
   ],
   "source": [
    "##  Pick a radius in degrees to search around our input coordinates:\n",
    "radius=0.1\n",
    "tap_params = {\n",
    "    \"request\":\"doQuery\",\n",
    "    \"lang\":\"ADQL\",\n",
    "    \"query\":\n",
    "    \"\"\"SELECT redshift FROM zcat as cat where \n",
    "    contains(point('ICRS',cat.ra,cat.dec),circle('ICRS',{0},{1},{2}))=1\n",
    "    \"\"\".format(aptable[0]['RA'],aptable[0]['DEC'],radius)\n",
    "    }\n",
    "r = requests.get('https://heasarc.gsfc.nasa.gov/xamin/vo/tap/sync', params=tap_params)\n",
    "#r.content\n",
    "table=Table.read(io.BytesIO(r.content))\n",
    "table"
   ]
  },
  {
   "cell_type": "markdown",
   "metadata": {},
   "source": [
    "<a id=\"tap2\"></a>\n",
    "# 3b. TAP:  Using the TAP to cross-correlate our objects with a catalog"
   ]
  },
  {
   "cell_type": "markdown",
   "metadata": {},
   "source": [
    "Now to search all of the sources in one go, we need to upload our table and do a 'cross-correlation' of our own table with the zcat table:"
   ]
  },
  {
   "cell_type": "code",
   "execution_count": 43,
   "metadata": {
    "collapsed": false
   },
   "outputs": [
    {
     "data": {
      "text/html": [
       "&lt;Table masked=True length=53&gt;\n",
       "<table id=\"table4443548136\" class=\"table-striped table-bordered table-condensed\">\n",
       "<thead><tr><th>redshift</th></tr></thead>\n",
       "<thead><tr><th>float64</th></tr></thead>\n",
       "<tr><td>--</td></tr>\n",
       "<tr><td>--</td></tr>\n",
       "<tr><td>--</td></tr>\n",
       "<tr><td>--</td></tr>\n",
       "<tr><td>--</td></tr>\n",
       "<tr><td>--</td></tr>\n",
       "<tr><td>--</td></tr>\n",
       "<tr><td>--</td></tr>\n",
       "<tr><td>--</td></tr>\n",
       "<tr><td>--</td></tr>\n",
       "<tr><td>...</td></tr>\n",
       "<tr><td>--</td></tr>\n",
       "<tr><td>--</td></tr>\n",
       "<tr><td>--</td></tr>\n",
       "<tr><td>--</td></tr>\n",
       "<tr><td>--</td></tr>\n",
       "<tr><td>--</td></tr>\n",
       "<tr><td>--</td></tr>\n",
       "<tr><td>--</td></tr>\n",
       "<tr><td>--</td></tr>\n",
       "<tr><td>--</td></tr>\n",
       "</table>"
      ],
      "text/plain": [
       "<Table masked=True length=53>\n",
       "redshift\n",
       "float64 \n",
       "--------\n",
       "      --\n",
       "      --\n",
       "      --\n",
       "      --\n",
       "      --\n",
       "      --\n",
       "      --\n",
       "      --\n",
       "      --\n",
       "      --\n",
       "     ...\n",
       "      --\n",
       "      --\n",
       "      --\n",
       "      --\n",
       "      --\n",
       "      --\n",
       "      --\n",
       "      --\n",
       "      --\n",
       "      --"
      ]
     },
     "execution_count": 43,
     "metadata": {},
     "output_type": "execute_result"
    }
   ],
   "source": [
    "## These are defined in the TAP standard:\n",
    "cc_params={\n",
    "    'lang': 'ADQL', \n",
    "    'request': 'doQuery',\n",
    "    'upload':'mytable,param:uplt'\n",
    "    }\n",
    "## This is your ADQL query, where \"mytable\" here has to match what you specified in the upload parameter \n",
    "cc_params[\"query\"]=\"\"\"SELECT redshift FROM zcat cat, tap_upload.mytable mt where \n",
    "    contains(point('ICRS',cat.ra,cat.dec),circle('ICRS',mt.ra,mt.dec,0.1))=1\"\"\"\n",
    "## The name you give here (tab1) matches what's in the cc_params\n",
    "files={'uplt':open('new_votable.xml', 'rb')}\n",
    "r = requests.post('https://heasarc.gsfc.nasa.gov/xamin/vo/tap/sync',data=cc_params,stream=True,files=files)\n",
    "#r.content\n",
    "table=Table.read(io.BytesIO(r.content))\n",
    "table"
   ]
  },
  {
   "cell_type": "markdown",
   "metadata": {},
   "source": [
    "<div class=\"alert alert-block alert-danger\">\n",
    "We need a plan B.</div>"
   ]
  },
  {
   "cell_type": "markdown",
   "metadata": {},
   "source": [
    "<a id=\"combo\"></a>\n",
    "\n",
    "# 4. Combining data from different catalogs"
   ]
  },
  {
   "cell_type": "markdown",
   "metadata": {},
   "source": [
    "<a id=\"scs\"></a>\n",
    "# 5. SCS:  Using the Simple Cone Search to query a different catalog in a loop"
   ]
  },
  {
   "cell_type": "markdown",
   "metadata": {},
   "source": [
    "<a id=\"ssa\"></a>\n",
    "# 6. SSA:  Using the Simple Spectral Access protocol to retrieve spectra."
   ]
  },
  {
   "cell_type": "code",
   "execution_count": null,
   "metadata": {
    "collapsed": true
   },
   "outputs": [],
   "source": []
  },
  {
   "cell_type": "code",
   "execution_count": null,
   "metadata": {
    "collapsed": true
   },
   "outputs": [],
   "source": []
  },
  {
   "cell_type": "code",
   "execution_count": null,
   "metadata": {
    "collapsed": true
   },
   "outputs": [],
   "source": []
  },
  {
   "cell_type": "code",
   "execution_count": null,
   "metadata": {
    "collapsed": true
   },
   "outputs": [],
   "source": []
  },
  {
   "cell_type": "code",
   "execution_count": null,
   "metadata": {
    "collapsed": true
   },
   "outputs": [],
   "source": []
  },
  {
   "cell_type": "code",
   "execution_count": null,
   "metadata": {
    "collapsed": true
   },
   "outputs": [],
   "source": []
  },
  {
   "cell_type": "code",
   "execution_count": null,
   "metadata": {
    "collapsed": true
   },
   "outputs": [],
   "source": []
  },
  {
   "cell_type": "code",
   "execution_count": null,
   "metadata": {
    "collapsed": true
   },
   "outputs": [],
   "source": []
  }
 ],
 "metadata": {
  "kernelspec": {
   "display_name": "Python 3",
   "language": "python",
   "name": "python3"
  },
  "language_info": {
   "codemirror_mode": {
    "name": "ipython",
    "version": 3
   },
   "file_extension": ".py",
   "mimetype": "text/x-python",
   "name": "python",
   "nbconvert_exporter": "python",
   "pygments_lexer": "ipython3",
   "version": "3.5.2"
  }
 },
 "nbformat": 4,
 "nbformat_minor": 1
}
