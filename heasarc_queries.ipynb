{
 "cells": [
  {
   "cell_type": "markdown",
   "metadata": {},
   "source": [
    "# Draft notebook:  HEASARC acces through python\n",
    "This notebook goes through examples of how to access HEASARC data, whether catalogs, images, or spectra, using various VO protocols.  The various services are described on the __[HEASARC VO](https://heasarc.gsfc.nasa.gov/docs/archive/vo/)__ page.  "
   ]
  },
  {
   "cell_type": "code",
   "execution_count": 157,
   "metadata": {
    "collapsed": true
   },
   "outputs": [],
   "source": [
    "import matplotlib\n",
    "%matplotlib inline  "
   ]
  },
  {
   "cell_type": "markdown",
   "metadata": {},
   "source": [
    "## Example 1:  _astroquery.heasarc_\n",
    "\n",
    "The _astroquery.heasarc_ package is a place-holder HEASARC package with currently limited functionality.  This example is from its __[help page](https://astroquery.readthedocs.io/en/latest/heasarc/heasarc.html)__:"
   ]
  },
  {
   "cell_type": "code",
   "execution_count": 159,
   "metadata": {
    "collapsed": false
   },
   "outputs": [
    {
     "name": "stdout",
     "output_type": "stream",
     "text": [
      "   SEQ_ID   INSTRUMENT EXPOSURE ... PUBLIC_DATE  SEARCH_OFFSET_\n",
      "                          S     ...     MJD                    \n",
      "----------- ---------- -------- ... ----------- ---------------\n",
      "RH701576N00 HRI           68154 ...       50186  0.192 (3C273)\n",
      "\n",
      "RP600242A01 PSPCB         24822 ...       50437 34.236 (3C273)\n",
      "\n",
      "RH700234N00 HRI           17230 ...       50312  0.192 (3C273)\n",
      "\n"
     ]
    },
    {
     "data": {
      "text/plain": [
       "astropy.table.table.Table"
      ]
     },
     "execution_count": 159,
     "metadata": {},
     "output_type": "execute_result"
    }
   ],
   "source": [
    "from astroquery.heasarc import Heasarc\n",
    "heasarc = Heasarc()\n",
    "mission = 'rospublic'\n",
    "object_name = '3c273'\n",
    "table = heasarc.query_object(object_name, mission=mission)\n",
    "table[:3].pprint()"
   ]
  },
  {
   "cell_type": "markdown",
   "metadata": {},
   "source": [
    "## Example 2:   __[HEASARC VO](https://heasarc.gsfc.nasa.gov/docs/archive/vo/instructions.html#_accessing)__  example with SkyView and SIA:\n",
    "\n",
    "This example uses the generic python package _requests_ and the __[SkyView](https://skyview.gsfc.nasa.gov)__ example from the __[HEASARC VO](https://heasarc.gsfc.nasa.gov/docs/archive/vo/instructions.html#_accessing)__ page on how to submit a VO request to HEASARC.  This is equivalent to the request:\n",
    "\n",
    "https://skyview.gsfc.nasa.gov/cgi-bin/vo/sia.pl?survey=sfd&POS=270.67,-22.97&SIZE=3 \n"
   ]
  },
  {
   "cell_type": "markdown",
   "metadata": {},
   "source": [
    "### Sending the query"
   ]
  },
  {
   "cell_type": "code",
   "execution_count": 160,
   "metadata": {
    "collapsed": false
   },
   "outputs": [],
   "source": [
    "import requests\n",
    "#  Coordinates don't come out Galactic.  Grid does nothing.  \n",
    "#payload = {'survey': 'dss', 'POS': '121.1743, -21.5733', 'SIZE':'3','Coordinates':\"Galactic\",\"Grid\":1}\n",
    "params = {'survey': 'dss', 'POS': '10.684708000000002, 41.26875', 'SIZE':'3'}\n",
    "r = requests.get('https://skyview.gsfc.nasa.gov/cgi-bin/vo/sia.pl', params=params)\n"
   ]
  },
  {
   "cell_type": "markdown",
   "metadata": {},
   "source": [
    "### Looking at the result"
   ]
  },
  {
   "cell_type": "markdown",
   "metadata": {},
   "source": [
    "The response content is in XML in a VO Table standard:"
   ]
  },
  {
   "cell_type": "code",
   "execution_count": 162,
   "metadata": {
    "collapsed": false
   },
   "outputs": [
    {
     "name": "stdout",
     "output_type": "stream",
     "text": [
      "https://skyview.gsfc.nasa.gov/current/cgi/vo/sia.pl?survey=dss&POS=10.684708000000002%2c+41.26875&SIZE=3\n",
      "<?xml version=\"1.0\"?>\n",
      "<VOTABLE version=\"1.2\" xmlns:xsi=\"http://www.w3.org/2001/XMLSchema-instance\"\n",
      " xmlns=\"http://www.ivoa.net/xml/VOTable/v1.2\">\n",
      "  <RESOURCE type=\"results\">\n",
      "  <PARAM value=\"10.684708000000002, 41.26875\"         datatype=\"double\" arraysize=\"2\" name=\"INPUT:POS\">\n",
      "    <DESCRIPTION>Center of image to be generated</DESCRIPTION></PARAM>\n",
      "  <PARAM value=\"3\"        datatype=\"double\" arraysize=\"*\" name=\"INPUT:SIZE\">\n",
      "    <DESCRIPTION>Size of image in degrees, use 0 to get default</DESCRIPTION></PARAM>\n",
      "  <PARAM value=\"Image/FITS,Image/JPEG\"      datatype=\"double\" arraysize=\"*\" name=\"INPUT:FORMAT\">\n",
      "    <DESCRIPTION>Output format requested</DESCRIPTION></PARAM>\n",
      "  <PARAM value=\"300,300\"      datatype=\"int\" arraysize=\"*\" name=\"INPUT:NAXIS\">\n",
      "    <DESCRIPTION>Number of pixels in image, use 0 to get default sized pixels (SIZE>0)</DESCRIPTION></PARAM>\n",
      "  <PARAM value=\"Tan\"  datatype=\"char\" arraysize=\"*\" name=\"INPUT:PROJ\">\n",
      "    <DESCRIPTION>Map Projection</DESCRIPTION></PARAM>\n",
      "  <PARAM value=\"ICRS\" datatype=\"char\" arraysize=\"*\" name=\"INPUT:CFRAME\">\n",
      "    <DESCRIPTION>Coordinate system</DESCRIPTION></PARAM>\n",
      "  <PARAM value=\"2000\" datatype=\"double\" name=\"INPUT:EQUINOX\">\n",
      "    <DESCRIPTION>Equinox (for FK4 and FK5)</DESCRIPTION></PARAM>\n",
      "  <PARAM value=\"Clip\"     datatype=\"char\" arraysize=\"*\" name=\"INPUT:INTERPOLATION\">\n",
      "    <DESCRIPTION>Sampler: NN, LI, Clip, Lanczos, Spline</DESCRIPTION></PARAM>\n",
      "  <PARAM value=\"10000\"         datatype=\"double\" name=\"INPUT:big\">\n",
      "    <DESCRIPTION>Max pixel size</DESCRIPTION></PARAM>\n",
      "  <PARAM value=\"5\"       datatype=\"double\" name=\"INPUT:small\">\n",
      "    <DESCRIPTION>Min pixel size</DESCRIPTION></PARAM>\n",
      "    \n",
      "  <TABLE>\n",
      "    \n",
      "    <FIELD name=\"Survey\"      ucd=\"VOX:Image_Title\"    datatype=\"char\"   arraysize=\"*\"/>\n",
      "    <FIELD name=\"Ra\"          ucd=\"POS_EQ_RA_MAIN\"     datatype=\"double\"/>\n",
      "    <FIELD name=\"Dec\"         ucd=\"POS_EQ_DEC_MAIN\"    datatype=\"double\"/>\n",
      "    <FIELD name=\"Dim\"         ucd=\"VOX:Image_Naxes\"    datatype=\"int\"/>\n",
      "    <FIELD name=\"Size\"        ucd=\"VOX:Image_Naxis\"    datatype=\"int\"    arraysize=\"*\"/>\n",
      "    <FIELD name=\"Scale\"       ucd=\"VOX:Image_Scale\"    datatype=\"double\" arraysize=\"*\"/>\n",
      "    <FIELD name=\"Format\"      ucd=\"VOX:Image_Format\"   datatype=\"char\"   arraysize=\"*\"/>\n",
      "    <FIELD name=\"PixFlags\"    ucd=\"VOX:Image_PixFlags\" datatype=\"char\"   arraysize=\"*\"/>\n",
      "    <FIELD name=\"URL\"         ucd=\"VOX:Image_AccessReference\" datatype=\"char\" arraysize=\"*\"/>\n",
      "    <FIELD name=\"LogicalName\" ucd=\"VOX:LogicalName\"    datatype=\"char\"   arraysize=\"*\"/>\n",
      "    <DATA><TABLEDATA>\n",
      "<TR><TD>dss</TD><TD>10.684708000000002</TD><TD> 41.26875</TD><TD>2</TD><TD>300 300</TD><TD>-0.01 0.01</TD><TD>image/fits</TD><TD>F</TD><TD><![CDATA[https://skyview.gsfc.nasa.gov/cgi-bin/images?position=10.684708000000002%2C+41.26875&survey=dss&pixels=300%2C300&sampler=Clip&size=3.0%2C3.0&projection=Tan&coordinates=J2000.0&requestID=skv1510856809053&return=FITS]]></TD>\n",
      "<TD>1</TD></TR>\n",
      "<TR><TD>dss</TD><TD>10.684708000000002</TD><TD> 41.26875</TD><TD>2</TD><TD>300 300</TD><TD>-0.01 0.01</TD><TD>image/jpeg</TD><TD>F</TD><TD><![CDATA[https://skyview.gsfc.nasa.gov/cgi-bin/images?position=10.684708000000002%2C+41.26875&survey=dss&pixels=300%2C300&sampler=Clip&size=3.0%2C3.0&projection=Tan&coordinates=J2000.0&requestID=skv1510856809053&nofits=1&quicklook=jpeg&return=jpeg]]></TD>\n",
      "<TD>1</TD></TR>\n",
      "</TABLEDATA></DATA></TABLE>\n",
      "<INFO name=\"QUERY_STATUS\" value=\"OK\" />\n",
      "</RESOURCE></VOTABLE>\n",
      "\n"
     ]
    }
   ],
   "source": [
    "print(r.url)\n",
    "# .content returns type str while .text returns type unicode.\n",
    "print(r.content) "
   ]
  },
  {
   "cell_type": "markdown",
   "metadata": {},
   "source": [
    "### Reading the VO table object"
   ]
  },
  {
   "cell_type": "code",
   "execution_count": 193,
   "metadata": {
    "collapsed": false
   },
   "outputs": [],
   "source": [
    "from astropy.io import votable \n",
    "import tempfile\n",
    "### Why doesn't this work?  It has to have an actual file to read?  It says \"file-like object\", but I can't see how.\n",
    "#vot=votable.parse(r.content)\n",
    "### Seriously? This is what https://michaelmommert.wordpress.com/2017/02/13/accessing-the-gaia-and-pan-starrs-catalogs-using-python/\n",
    "### does, but there has to be something less stupid.\n",
    "#out=open('tmp.xml','w')\n",
    "#out.write(r.content)\n",
    "#out.close()\n",
    "#vot=votable.parse('tmp.xml')\n",
    "### Only slightly less stupid:\n",
    "tmp=tempfile.TemporaryFile()\n",
    "tmp.write(r.content)\n",
    "vot=votable.parse(tmp)\n",
    "tmp.close()"
   ]
  },
  {
   "cell_type": "markdown",
   "metadata": {},
   "source": [
    "Look at what the vot object contains:"
   ]
  },
  {
   "cell_type": "code",
   "execution_count": 194,
   "metadata": {
    "collapsed": false
   },
   "outputs": [
    {
     "name": "stdout",
     "output_type": "stream",
     "text": [
      "<PARAM ID=\"INPUT_POS\" arraysize=\"2\" datatype=\"double\" name=\"INPUT:POS\" value=\"[ 10.684708  41.26875 ]\"/>\n",
      "<PARAM ID=\"INPUT_SIZE\" arraysize=\"*\" datatype=\"double\" name=\"INPUT:SIZE\" value=\"[3.0]\"/>\n",
      "<PARAM ID=\"INPUT_FORMAT\" arraysize=\"*\" datatype=\"double\" name=\"INPUT:FORMAT\" value=\"[-- --]\"/>\n",
      "<PARAM ID=\"INPUT_NAXIS\" arraysize=\"*\" datatype=\"int\" name=\"INPUT:NAXIS\" value=\"[300 300]\"/>\n",
      "<PARAM ID=\"INPUT_PROJ\" arraysize=\"*\" datatype=\"char\" name=\"INPUT:PROJ\" value=\"Tan\"/>\n",
      "<PARAM ID=\"INPUT_CFRAME\" arraysize=\"*\" datatype=\"char\" name=\"INPUT:CFRAME\" value=\"ICRS\"/>\n",
      "<PARAM ID=\"INPUT_EQUINOX\" datatype=\"double\" name=\"INPUT:EQUINOX\" value=\"2000.0\"/>\n",
      "<PARAM ID=\"INPUT_INTERPOLATION\" arraysize=\"*\" datatype=\"char\" name=\"INPUT:INTERPOLATION\" value=\"Clip\"/>\n",
      "<PARAM ID=\"INPUT_big\" datatype=\"double\" name=\"INPUT:big\" value=\"10000.0\"/>\n",
      "<PARAM ID=\"INPUT_small\" datatype=\"double\" name=\"INPUT:small\" value=\"5.0\"/>\n",
      "<FIELD ID=\"Survey\" arraysize=\"*\" datatype=\"char\" name=\"Survey\" ucd=\"VOX:Image_Title\"/>\n",
      "<FIELD ID=\"Ra\" datatype=\"double\" name=\"Ra\" ucd=\"POS_EQ_RA_MAIN\"/>\n",
      "<FIELD ID=\"Dec\" datatype=\"double\" name=\"Dec\" ucd=\"POS_EQ_DEC_MAIN\"/>\n",
      "<FIELD ID=\"Dim\" datatype=\"int\" name=\"Dim\" ucd=\"VOX:Image_Naxes\"/>\n",
      "<FIELD ID=\"Size\" arraysize=\"*\" datatype=\"int\" name=\"Size\" ucd=\"VOX:Image_Naxis\"/>\n",
      "<FIELD ID=\"Scale\" arraysize=\"*\" datatype=\"double\" name=\"Scale\" ucd=\"VOX:Image_Scale\"/>\n",
      "<FIELD ID=\"Format\" arraysize=\"*\" datatype=\"char\" name=\"Format\" ucd=\"VOX:Image_Format\"/>\n",
      "<FIELD ID=\"PixFlags\" arraysize=\"*\" datatype=\"char\" name=\"PixFlags\" ucd=\"VOX:Image_PixFlags\"/>\n",
      "<FIELD ID=\"URL\" arraysize=\"*\" datatype=\"char\" name=\"URL\" ucd=\"VOX:Image_AccessReference\"/>\n",
      "<FIELD ID=\"LogicalName\" arraysize=\"*\" datatype=\"char\" name=\"LogicalName\" ucd=\"VOX:LogicalName\"/>\n"
     ]
    }
   ],
   "source": [
    "###  Just look at the fields (and parameters)\n",
    "for f in vot.iter_fields_and_params():\n",
    "        print f\n"
   ]
  },
  {
   "cell_type": "markdown",
   "metadata": {},
   "source": [
    "Extract the fields you're interested in, e.g., the URL of the images made by skyview:"
   ]
  },
  {
   "cell_type": "code",
   "execution_count": 195,
   "metadata": {
    "collapsed": false
   },
   "outputs": [
    {
     "name": "stdout",
     "output_type": "stream",
     "text": [
      "Survey\n",
      "Ra\n",
      "Dec\n",
      "Dim\n",
      "Size\n",
      "Scale\n",
      "Format\n",
      "PixFlags\n",
      "URL\n",
      "LogicalName\n",
      "https://skyview.gsfc.nasa.gov/cgi-bin/images?position=10.684708000000002%2C+41.26875&survey=dss&pixels=300%2C300&sampler=Clip&size=3.0%2C3.0&projection=Tan&coordinates=J2000.0&requestID=skv1510856809053&nofits=1&quicklook=jpeg&return=jpeg\n",
      "https://skyview.gsfc.nasa.gov/cgi-bin/images?position=10.684708000000002%2C+41.26875&survey=dss&pixels=300%2C300&sampler=Clip&size=3.0%2C3.0&projection=Tan&coordinates=J2000.0&requestID=skv1510856809053&return=FITS\n"
     ]
    }
   ],
   "source": [
    "### Since there could be multiple tables in the XML, \n",
    "table = vot.get_first_table()\n",
    "for f in table.fields:\n",
    "        print f.ID\n",
    "###  The data is a numpy record array that you can access like this, for example:\n",
    "#print table.array[1][8]\n",
    "#  Or like this\n",
    "print table.array[1]['URL']\n",
    "\n",
    "### To download the FITS image itself:\n",
    "print table.array[0]['URL']"
   ]
  },
  {
   "cell_type": "markdown",
   "metadata": {},
   "source": [
    "### Resulting image\n",
    "You can display it in python by\n",
    "(give it a few seconds to appear)"
   ]
  },
  {
   "cell_type": "code",
   "execution_count": 196,
   "metadata": {
    "collapsed": false
   },
   "outputs": [
    {
     "data": {
      "text/html": [
       "<img src=\"https://skyview.gsfc.nasa.gov/cgi-bin/images?position=10.684708000000002%2C+41.26875&survey=dss&pixels=300%2C300&sampler=Clip&size=3.0%2C3.0&projection=Tan&coordinates=J2000.0&requestID=skv1510856809053&nofits=1&quicklook=jpeg&return=jpeg\"/>"
      ],
      "text/plain": [
       "<IPython.core.display.Image object>"
      ]
     },
     "metadata": {},
     "output_type": "display_data"
    }
   ],
   "source": [
    "from IPython.display import Image, display\n",
    "from IPython.core.display import HTML \n",
    "display(Image(url=table.array['URL'][1]))"
   ]
  },
  {
   "cell_type": "markdown",
   "metadata": {},
   "source": [
    "# Example 3:  HEASARC catalog as VOTable\n",
    "(This is fetching the entire chanmaster catalog of 17k lines.  Give it a few seconds.)"
   ]
  },
  {
   "cell_type": "code",
   "execution_count": 197,
   "metadata": {
    "collapsed": true
   },
   "outputs": [],
   "source": [
    "payload3 = {'name': 'chanmaster'}\n",
    "chan = requests.get('http://heasarc.gsfc.nasa.gov/cgi-bin/W3Browse/getvotable.pl', params=payload3)\n",
    "tmp=tempfile.TemporaryFile()\n",
    "tmp.write(chan.content)\n",
    "chan_vot=votable.parse(tmp)\n",
    "tmp.close()\n",
    "chan_table = chan_vot.get_first_table()\n"
   ]
  },
  {
   "cell_type": "code",
   "execution_count": 198,
   "metadata": {
    "collapsed": false
   },
   "outputs": [
    {
     "data": {
      "text/plain": [
       "<Table masked=True length=17701>\n",
       " col1     col2             col3         ...            col19            col20\n",
       "                                        ...                                  \n",
       "int32    str20            str50         ...            str50            int16\n",
       "----- ----------- --------------------- ... --------------------------- -----\n",
       "18911 untriggered          T Tauri Star ...                STARS AND WD  9999\n",
       "18922 untriggered         FUor Outburst ...                STARS AND WD  9999\n",
       "18923 untriggered         FUor Outburst ...                STARS AND WD  9999\n",
       "18924 untriggered         FUor Outburst ...                STARS AND WD  9999\n",
       "18956 untriggered            DECam-EM-1 ...          BH AND NS BINARIES  1000\n",
       "18957 untriggered            DECam-EM-1 ...          BH AND NS BINARIES  1000\n",
       "18963 untriggered New INTEGRAL source 1 ...          BH AND NS BINARIES  1000\n",
       "18964 untriggered New INTEGRAL source 2 ...          BH AND NS BINARIES  1000\n",
       "18965 untriggered           New M31 ULX ...          BH AND NS BINARIES  1000\n",
       "  ...         ...                   ... ...                         ...   ...\n",
       " 4968    archived              NGC 2276 ...        CLUSTERS OF GALAXIES  5000\n",
       "15648    archived CXOU J072648.3+854549 ...             NORMAL GALAXIES  6000\n",
       "17893    archived            SN 2016gfy ...     SN, SNR AND ISOLATED NS  3200\n",
       "16284    archived         G118.60+28.55 ...        CLUSTERS OF GALAXIES  5000\n",
       " 3246    archived                 A2294 ...        CLUSTERS OF GALAXIES  5000\n",
       "18286    archived    PSZ2 G127.01+26.21 ...        CLUSTERS OF GALAXIES  5000\n",
       " 9297    archived                3C61.1 ... ACTIVE GALAXIES AND QUASARS  7000\n",
       "20783  unobserved X-CLASS 1835 (3C61.1) ...        CLUSTERS OF GALAXIES  5000\n",
       " 6431    archived               Polaris ...                STARS AND WD  9999\n",
       "18928    observed               Polaris ...                STARS AND WD  9999"
      ]
     },
     "execution_count": 198,
     "metadata": {},
     "output_type": "execute_result"
    }
   ],
   "source": [
    "chan_table"
   ]
  },
  {
   "cell_type": "markdown",
   "metadata": {},
   "source": [
    "# Example 4:  HEASARC spectra retrieval"
   ]
  },
  {
   "cell_type": "code",
   "execution_count": 202,
   "metadata": {
    "collapsed": false
   },
   "outputs": [],
   "source": [
    "###  Example from \n",
    "###  https://heasarc.gsfc.nasa.gov/docs/archive/vo/instructions.html#_accessing_ssa\n",
    "###  which apparently causes an error in votable.parse().  Interesting.  I get:\n",
    "### \n",
    "###  ValueError: None:77:10: ValueError: invalid literal for int() with base 10: '12.0' (in row 0, col 'SSA_datalength')\n",
    "###  \n",
    "#payload3 = {'table': 'chanmaster',\"POS\":\"187.27,2.05\",\"SIZE\":\".01\", \"REQUEST\":\"queryData\"}\n",
    "payload3 = {'table': 'chanmaster',\"POS\":\"187.27,2.05\",\"SIZE\":\".01\", \"REQUEST\":\"queryData\"}\n",
    "spec = requests.get('https://heasarc.nasa.gov/xamin/vo/ssa', params=payload3)\n",
    "tmp=tempfile.TemporaryFile()\n",
    "tmp.write(spec.content)\n",
    "spec_vot=votable.parse(tmp)\n",
    "tmp.close()\n",
    "spec_table = spec_vot.get_first_table()"
   ]
  },
  {
   "cell_type": "code",
   "execution_count": 203,
   "metadata": {
    "collapsed": false
   },
   "outputs": [
    {
     "name": "stdout",
     "output_type": "stream",
     "text": [
      "obsid\n",
      "status\n",
      "name\n",
      "ra\n",
      "dec\n",
      "time\n",
      "detector\n",
      "grating\n",
      "exposure\n",
      "type\n",
      "pi\n",
      "public_date\n",
      "SSA_datalength\n",
      "SSA_datamodel\n",
      "SSA_title\n",
      "SSA_instrument\n",
      "SSA_publisher\n",
      "SSA_tmid\n",
      "SSA_stop_time\n",
      "SSA_start_time\n",
      "SSA_duration\n",
      "SSA_bandpass\n",
      "SSA_wavelength_max\n",
      "SSA_wavelength_min\n",
      "SSA_bandwidth\n",
      "SSA_ra\n",
      "SSA_dec\n",
      "SSA_coord_obs\n",
      "SSA_fov\n",
      "SSA_reference\n",
      "SSA_format\n"
     ]
    }
   ],
   "source": [
    "for f in spec_table.fields:\n",
    "        print f.ID"
   ]
  },
  {
   "cell_type": "code",
   "execution_count": 204,
   "metadata": {
    "collapsed": false
   },
   "outputs": [
    {
     "name": "stdout",
     "output_type": "stream",
     "text": [
      "obsid status name  ra dec ... SSA_coord_obs SSA_fov SSA_reference SSA_format\n",
      "                  deg deg ...      deg        deg                           \n",
      "----- ------ ---- --- --- ... ------------- ------- ------------- ----------\n"
     ]
    }
   ],
   "source": [
    "print spec_table"
   ]
  },
  {
   "cell_type": "code",
   "execution_count": null,
   "metadata": {
    "collapsed": true
   },
   "outputs": [],
   "source": []
  },
  {
   "cell_type": "markdown",
   "metadata": {},
   "source": [
    "DON'T USE THIS!  Trying to use simple XML tools.  Hadn't discovered astropy.io.votable."
   ]
  },
  {
   "cell_type": "code",
   "execution_count": 39,
   "metadata": {
    "collapsed": false
   },
   "outputs": [
    {
     "name": "stdout",
     "output_type": "stream",
     "text": [
      "1 tag '{http://www.ivoa.net/xml/VOTable/v1.2}RESOURCE'\n",
      "1 attrib '{'type': 'results'}'\n",
      "2 tag '{http://www.ivoa.net/xml/VOTable/v1.2}PARAM'\n",
      "2 attr '{'datatype': 'double', 'arraysize': '2', 'value': '270.67,-22.97', 'name': 'INPUT:POS'}'\n",
      "2 tag '{http://www.ivoa.net/xml/VOTable/v1.2}PARAM'\n",
      "2 attr '{'datatype': 'double', 'arraysize': '*', 'value': '3', 'name': 'INPUT:SIZE'}'\n",
      "2 tag '{http://www.ivoa.net/xml/VOTable/v1.2}PARAM'\n",
      "2 attr '{'datatype': 'double', 'arraysize': '*', 'value': 'Image/FITS,Image/JPEG', 'name': 'INPUT:FORMAT'}'\n",
      "2 tag '{http://www.ivoa.net/xml/VOTable/v1.2}PARAM'\n",
      "2 attr '{'datatype': 'int', 'arraysize': '*', 'value': '300,300', 'name': 'INPUT:NAXIS'}'\n",
      "2 tag '{http://www.ivoa.net/xml/VOTable/v1.2}PARAM'\n",
      "2 attr '{'datatype': 'char', 'arraysize': '*', 'value': 'Tan', 'name': 'INPUT:PROJ'}'\n",
      "2 tag '{http://www.ivoa.net/xml/VOTable/v1.2}PARAM'\n",
      "2 attr '{'datatype': 'char', 'arraysize': '*', 'value': 'ICRS', 'name': 'INPUT:CFRAME'}'\n",
      "2 tag '{http://www.ivoa.net/xml/VOTable/v1.2}PARAM'\n",
      "2 attr '{'datatype': 'double', 'name': 'INPUT:EQUINOX', 'value': '2000'}'\n",
      "2 tag '{http://www.ivoa.net/xml/VOTable/v1.2}PARAM'\n",
      "2 attr '{'datatype': 'char', 'arraysize': '*', 'value': 'Clip', 'name': 'INPUT:INTERPOLATION'}'\n",
      "2 tag '{http://www.ivoa.net/xml/VOTable/v1.2}PARAM'\n",
      "2 attr '{'datatype': 'double', 'name': 'INPUT:big', 'value': '10000'}'\n",
      "2 tag '{http://www.ivoa.net/xml/VOTable/v1.2}PARAM'\n",
      "2 attr '{'datatype': 'double', 'name': 'INPUT:small', 'value': '5'}'\n",
      "2 tag '{http://www.ivoa.net/xml/VOTable/v1.2}TABLE'\n",
      "2 attr '{}'\n",
      "2 tag '{http://www.ivoa.net/xml/VOTable/v1.2}INFO'\n",
      "2 attr '{'name': 'QUERY_STATUS', 'value': 'OK'}'\n"
     ]
    }
   ],
   "source": [
    "from xml.etree import ElementTree\n",
    "tree = ElementTree.fromstring(r.content)\n",
    "for child in tree:\n",
    "        print \"1 tag '{}'\".format(child.tag)\n",
    "        print \"1 attrib '{}'\".format(child.attrib)\n",
    "        for child2 in child:\n",
    "            print \"2 tag '{}'\".format(child2.tag)\n",
    "            print \"2 attr '{}'\".format(child2.attrib)"
   ]
  },
  {
   "cell_type": "code",
   "execution_count": 49,
   "metadata": {
    "collapsed": false
   },
   "outputs": [],
   "source": [
    "for child in tree.iter('TABLE'):\n",
    "    print child.find('FIELD').attrib"
   ]
  }
 ],
 "metadata": {
  "kernelspec": {
   "display_name": "Python 2",
   "language": "python",
   "name": "python2"
  },
  "language_info": {
   "codemirror_mode": {
    "name": "ipython",
    "version": 2
   },
   "file_extension": ".py",
   "mimetype": "text/x-python",
   "name": "python",
   "nbconvert_exporter": "python",
   "pygments_lexer": "ipython2",
   "version": "2.7.12"
  }
 },
 "nbformat": 4,
 "nbformat_minor": 1
}
