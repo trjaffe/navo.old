{
 "cells": [
  {
   "cell_type": "markdown",
   "metadata": {},
   "source": [
    "# v7 Draft notebook:  HEASARC access through python\n",
    "This notebook goes through examples of how to access HEASARC data, whether catalogs, images, or spectra, using various VO protocols.  The services are described on the __[HEASARC VO](https://heasarc.gsfc.nasa.gov/docs/archive/vo/)__ page.\n",
    "\n",
    "* [1. VOTable](#votable): Creating a VO table of objects to work with\n",
    "* [2. SIA](#sia): Using the Simple Image Access protocol.  \n",
    "* [3a. TAP1](#tap1): Using the Table Access Protocol to find available VO resources\n",
    "* [3b. TAP2](#tap2): Using the TAP to cross-correlate our objects with a catalog\n",
    "* [4. Combining](#combo) data from different catalogs\n",
    "* [5. SCS](#scs):  Using the Simple Cone Search to query a different catalog in a loop\n",
    "* [6. SSA](#ssa):  Using the Simple Spectral Access protocol to retrieve spectra.\n"
   ]
  },
  {
   "cell_type": "markdown",
   "metadata": {},
   "source": [
    "## Notes:\n",
    "\n",
    "There are a number of ways to use VO services through Python.  From the AstroQuery web page (https://astroquery.readthedocs.io/en/latest/):\n",
    "\n",
    "<div class=\"alert alert-block alert-info\">\"There are two other packages with complimentary functionality as Astroquery: astropy.vo is in the Astropy core and pyvo is an Astropy affiliated package. They are more oriented to general virtual observatory discovery and queries, whereas Astroquery has web service specific interfaces.\"</div>\n",
    "    \n",
    "For this notebook, we will stick with the generic python requests method. In general, the queries are simple enough that this is almost as readable, and it has the benefit of depending on no specialized packages. There is as yet no single standardized set of Python tools for accessing VO data.  \n"
   ]
  },
  {
   "cell_type": "code",
   "execution_count": 1,
   "metadata": {
    "collapsed": false
   },
   "outputs": [],
   "source": [
    "import matplotlib\n",
    "import matplotlib.pyplot as plt\n",
    "%matplotlib inline  \n",
    "import numpy\n",
    "## There are a number of relatively unimportant warnings that \n",
    "## show up, so for now, suppress them:\n",
    "import warnings\n",
    "warnings.filterwarnings(\"ignore\")\n",
    "## The main HTTP request tool we will use:\n",
    "import requests\n",
    "## For simple astropy tables\n",
    "import astropy\n",
    "import io\n",
    "from IPython.display import Image, display\n",
    "\n",
    "## For handling ordinary astropy Tables\n",
    "from astropy.table import Table\n",
    "\n",
    "## For handling VO table type objects\n",
    "from astropy.io import votable as apvot\n",
    "\n",
    "## For reading FITS files\n",
    "import astropy.io.fits as apfits"
   ]
  },
  {
   "cell_type": "markdown",
   "metadata": {},
   "source": [
    "<a id=\"votable\"></a>\n",
    "# 1. VOTable:  working with VO Table objects\n"
   ]
  },
  {
   "cell_type": "markdown",
   "metadata": {},
   "source": [
    "<a id=\"votable1\"></a>\n",
    "\n",
    "## 1.1 Retrieving a catalog as a VO Table\n",
    "\n",
    "We can use W3Browse to get a HEASARC catalog as a VOTable object.  W3Browse can be used to retrieve tables in a number of formats, one of which is a VO Table.  \n",
    "\n",
    "The requests package of python is a generic interface to web services.  The requests.get() method formats the given parameters for you and returns the results of the HTTP request in a useful object.  In this case, the result is a string containing the VOTable result.  The standard astropy.table package can read these:"
   ]
  },
  {
   "cell_type": "code",
   "execution_count": 2,
   "metadata": {
    "collapsed": false
   },
   "outputs": [],
   "source": [
    "params = {'name': 'rosmaster'}\n",
    "r = requests.get('http://heasarc.gsfc.nasa.gov/cgi-bin/W3Browse/getvotable.pl', params=params)\n",
    "#r.text"
   ]
  },
  {
   "cell_type": "code",
   "execution_count": 3,
   "metadata": {
    "collapsed": false
   },
   "outputs": [],
   "source": [
    "table=Table.read(io.BytesIO(r.content))"
   ]
  },
  {
   "cell_type": "code",
   "execution_count": 4,
   "metadata": {
    "collapsed": false,
    "scrolled": true
   },
   "outputs": [
    {
     "name": "stdout",
     "output_type": "stream",
     "text": [
      "<class 'astropy.table.table.Table'>\n"
     ]
    },
    {
     "data": {
      "text/html": [
       "&lt;Table masked=True length=11431&gt;\n",
       "<table id=\"table4398264840\" class=\"table-striped table-bordered table-condensed\">\n",
       "<thead><tr><th>col1</th><th>col2</th><th>col3</th><th>col4</th><th>col5</th><th>col6</th><th>col7</th><th>col8</th><th>col9</th><th>col10</th><th>col11</th><th>col12</th><th>col13</th><th>col14</th><th>col15</th><th>col16</th><th>col17</th><th>col18</th><th>col19</th><th>col20</th><th>col21</th><th>col22</th><th>col23</th><th>col24</th><th>col25</th><th>col26</th><th>col27</th><th>col28</th></tr></thead>\n",
       "<thead><tr><th></th><th>deg</th><th>deg</th><th>deg</th><th>deg</th><th></th><th></th><th></th><th>s</th><th>s</th><th></th><th>MJD</th><th>MJD</th><th></th><th></th><th></th><th></th><th></th><th></th><th></th><th></th><th></th><th></th><th></th><th>deg</th><th>d</th><th>d</th><th></th></tr></thead>\n",
       "<thead><tr><th>bytes16</th><th>float64</th><th>float64</th><th>float64</th><th>float64</th><th>bytes6</th><th>bytes2</th><th>bytes4</th><th>int32</th><th>int32</th><th>bytes10</th><th>float64</th><th>float64</th><th>bytes20</th><th>bytes16</th><th>bytes14</th><th>int32</th><th>bytes4</th><th>int16</th><th>int16</th><th>bytes120</th><th>int32</th><th>int16</th><th>int32</th><th>int16</th><th>int32</th><th>int32</th><th>int16</th></tr></thead>\n",
       "<tr><td>RH202299N00</td><td>49.3200</td><td>-85.5400</td><td>299.8517</td><td>-30.6815</td><td>HRI</td><td>N</td><td>MPE</td><td>36146</td><td>70000</td><td>RDF 4_2</td><td>50174.496192129598</td><td>50187.986747685201</td><td>RE J0317-853</td><td>BURLEIGH</td><td>MATTHEW</td><td>202299</td><td>n00</td><td>2</td><td>2</td><td>RE J0317-853</td><td>24302</td><td>6</td><td>7128</td><td>307</td><td>2163</td><td>2177</td><td>2900</td></tr>\n",
       "<tr><td>RH202299A01</td><td>49.3200</td><td>-85.5400</td><td>299.8517</td><td>-30.6815</td><td>HRI</td><td>N</td><td>MPE</td><td>43683</td><td>70000</td><td>RDF 3_6</td><td>50324.742534722202</td><td>50377.477592592601</td><td>RE J0317-853</td><td>BURLEIGH</td><td>MATTHEW</td><td>202299</td><td>a01</td><td>2</td><td>2</td><td>RE J0317-853</td><td>24301</td><td>6</td><td>7128</td><td>162</td><td>2316</td><td>2369</td><td>2900</td></tr>\n",
       "<tr><td>RP200594N00</td><td>151.8800</td><td>-85.0800</td><td>299.4192</td><td>-23.3707</td><td>PSPCB</td><td>N</td><td>MPE</td><td>4231</td><td>5000</td><td>RDF 3_4</td><td>48682.1389583333</td><td>48690.983333333301</td><td>HD 89499</td><td>FLEMING</td><td>THOMAS</td><td>200594</td><td>n00</td><td>2</td><td>2</td><td>HD 89499</td><td>17171</td><td>2</td><td>3532</td><td>66</td><td>648</td><td>657</td><td>2900</td></tr>\n",
       "<tr><td>RH201328N00</td><td>107.9100</td><td>-84.4700</td><td>296.7740</td><td>-26.5072</td><td>HRI</td><td>N</td><td>MPE</td><td>2332</td><td>2000</td><td>RDF 3_4</td><td>48880.838020833296</td><td>48881.780729166698</td><td>HD 60102 AB</td><td>ZINNECKER</td><td>HANS</td><td>201328</td><td>n00</td><td>2</td><td>2</td><td>HD 60102 AB</td><td>22560</td><td>3</td><td>4268</td><td>215</td><td>850</td><td>851</td><td>2900</td></tr>\n",
       "<tr><td>RH400876A01</td><td>193.9400</td><td>-83.3700</td><td>303.0651</td><td>-20.4994</td><td>HRI</td><td>N</td><td>GSFC</td><td>19075</td><td>20000</td><td>RDF 4_2</td><td>50702.423530092601</td><td>50735.172557870399</td><td>2EG J1248-8306 POS 3</td><td>HALPERN</td><td>JULES</td><td>400876</td><td>a01</td><td>4</td><td>2</td><td>2EG J1248-8306 POS 3</td><td>25116</td><td>7</td><td>2460</td><td>299</td><td>2699</td><td>2733</td><td>9999</td></tr>\n",
       "<tr><td>RH400876N00</td><td>193.9400</td><td>-83.3700</td><td>303.0651</td><td>-20.4994</td><td>HRI</td><td>N</td><td>GSFC</td><td>1059</td><td>20000</td><td>RDF 4_0</td><td>50548.2425</td><td>50548.255474537</td><td>2EG J1248-8306 POS 3</td><td>HALPERN</td><td>JULES</td><td>400876</td><td>n00</td><td>4</td><td>2</td><td>2EG J1248-8306 POS 3</td><td>19808</td><td>7</td><td>2460</td><td>85</td><td>2543</td><td>2543</td><td>9999</td></tr>\n",
       "<tr><td>RH400877A02</td><td>190.1700</td><td>-83.3600</td><td>302.6001</td><td>-20.4952</td><td>HRI</td><td>N</td><td>GSFC</td><td>19384</td><td>20000</td><td>RDF 4_2</td><td>50893.248460648101</td><td>50895.138969907399</td><td>2EG J1248-8306 POS 4</td><td>HALPERN</td><td>JULES</td><td>400877</td><td>a02</td><td>4</td><td>2</td><td>2EG J1248-8306 POS 4</td><td>24927</td><td>7</td><td>2460</td><td>90</td><td>2893</td><td>2895</td><td>9999</td></tr>\n",
       "<tr><td>RH400877A01</td><td>190.1700</td><td>-83.3600</td><td>302.6001</td><td>-20.4952</td><td>HRI</td><td>N</td><td>GSFC</td><td>2363</td><td>20000</td><td>RDF 4_2</td><td>50735.5647916667</td><td>50735.574120370402</td><td>2EG J1248-8306 POS 4</td><td>HALPERN</td><td>JULES</td><td>400877</td><td>a01</td><td>4</td><td>2</td><td>2EG J1248-8306 POS 4</td><td>25115</td><td>7</td><td>2460</td><td>260</td><td>2733</td><td>2733</td><td>9999</td></tr>\n",
       "<tr><td>RH400877N00</td><td>190.1700</td><td>-83.3600</td><td>302.6001</td><td>-20.4952</td><td>HRI</td><td>N</td><td>GSFC</td><td>1250</td><td>20000</td><td>RDF 4_0</td><td>50548.770254629599</td><td>50548.785879629599</td><td>2EG J1248-8306 POS 4</td><td>HALPERN</td><td>JULES</td><td>400877</td><td>n00</td><td>4</td><td>2</td><td>2EG J1248-8306 POS 4</td><td>19809</td><td>7</td><td>2460</td><td>81</td><td>2543</td><td>2543</td><td>9999</td></tr>\n",
       "<tr><td>...</td><td>...</td><td>...</td><td>...</td><td>...</td><td>...</td><td>...</td><td>...</td><td>...</td><td>...</td><td>...</td><td>...</td><td>...</td><td>...</td><td>...</td><td>...</td><td>...</td><td>...</td><td>...</td><td>...</td><td>...</td><td>...</td><td>...</td><td>...</td><td>...</td><td>...</td><td>...</td><td>...</td></tr>\n",
       "<tr><td>RH180091N00</td><td>172.0200</td><td>85.5500</td><td>124.7826</td><td>31.2749</td><td>HRI</td><td>N</td><td>MPE</td><td>897</td><td>1000</td><td>RDF 3_9</td><td>50168.8914814815</td><td>50168.901898148099</td><td></td><td>SCHMITT</td><td>JUERGEN</td><td>180091</td><td>n00</td><td>1</td><td>2</td><td>COMET HYAKUTAKE POIN</td><td>23171</td><td>0</td><td>0</td><td>272</td><td>2158</td><td>2158</td><td>2900</td></tr>\n",
       "<tr><td>RP900512N00</td><td>110.3000</td><td>85.7000</td><td>127.7445</td><td>27.6030</td><td>PSPCB</td><td>N</td><td>GSFC</td><td>9029</td><td>10000</td><td>RDF 4_0</td><td>49221.753460648099</td><td>49221.921898148103</td><td>NGC2300 GROUP</td><td>MULCHAEY</td><td>JOHN</td><td>900512</td><td>n00</td><td>9</td><td>2</td><td>NGC2300 GROUP</td><td>20217</td><td>4</td><td>1818</td><td>132</td><td>1196</td><td>1196</td><td>3900</td></tr>\n",
       "<tr><td>RP900513N00</td><td>114.7000</td><td>85.7000</td><td>127.6963</td><td>27.9300</td><td>PSPCB</td><td>N</td><td>GSFC</td><td>8417</td><td>10000</td><td>RDF 4_0</td><td>49221.821967592601</td><td>49222.054560185199</td><td>NGC2300 GROUP</td><td>MULCHAEY</td><td>JOHN</td><td>900513</td><td>n00</td><td>9</td><td>2</td><td>NGC2300 GROUP</td><td>20221</td><td>4</td><td>1818</td><td>128</td><td>1196</td><td>1196</td><td>3900</td></tr>\n",
       "<tr><td>RP900161N00</td><td>111.7200</td><td>85.7500</td><td>127.6760</td><td>27.7031</td><td>PSPCB</td><td>N</td><td>GSFC</td><td>5997</td><td>14000</td><td>RDF 3_4</td><td>48737.362581018497</td><td>48739.391446759299</td><td>NGC2276</td><td>MUSHOTZKY</td><td>RICHARD</td><td>900161</td><td>n00</td><td>9</td><td>2</td><td>NGC2276</td><td>11708</td><td>2</td><td>676</td><td>12</td><td>704</td><td>706</td><td>3900</td></tr>\n",
       "<tr><td>RH600498A01</td><td>111.8000</td><td>85.7600</td><td>127.6640</td><td>27.7078</td><td>HRI</td><td>N</td><td>GSFC</td><td>21731</td><td>80000</td><td>RDF 3_6</td><td>49593.445428240702</td><td>49594.723287036999</td><td>NGC 2276</td><td>KEEL</td><td>WILLIAM</td><td>600498</td><td>a01</td><td>6</td><td>2</td><td>NGC 2276</td><td>16550</td><td>4</td><td>1635</td><td>140</td><td>1573</td><td>1575</td><td>6900</td></tr>\n",
       "<tr><td>RH600498N00</td><td>111.8000</td><td>85.7600</td><td>127.6640</td><td>27.7078</td><td>HRI</td><td>N</td><td>GSFC</td><td>52235</td><td>80000</td><td>RDF 3_4</td><td>49429.014386574097</td><td>49432.951921296299</td><td>NGC 2276</td><td>KEEL</td><td>WILLIAM</td><td>600498</td><td>n00</td><td>6</td><td>2</td><td>NGC 2276</td><td>12347</td><td>4</td><td>1635</td><td>336</td><td>1406</td><td>1410</td><td>6900</td></tr>\n",
       "<tr><td>RH800780N00</td><td>261.1700</td><td>85.8900</td><td>118.5825</td><td>28.5800</td><td>HRI</td><td>N</td><td>GSFC</td><td>29010</td><td>29000</td><td>RDF 3_4</td><td>50172.537326388898</td><td>50175.9321180556</td><td>A2294</td><td>BURNS</td><td>JACK</td><td>800780</td><td>n00</td><td>8</td><td>2</td><td>A2294</td><td>13937</td><td>6</td><td>2367</td><td>190</td><td>2161</td><td>2165</td><td>5000</td></tr>\n",
       "<tr><td>RH702064N00</td><td>35.7700</td><td>86.3200</td><td>124.4960</td><td>23.7300</td><td>HRI</td><td>N</td><td>GSFC</td><td>16115</td><td>19000</td><td>RDF 3_4</td><td>50171.413217592599</td><td>50173.290578703702</td><td>3C61.1</td><td>ARNAUD</td><td>KEITH</td><td>702064</td><td>n00</td><td>7</td><td>2</td><td>3C61.1</td><td>13935</td><td>6</td><td>2331</td><td>54</td><td>2160</td><td>2162</td><td>7000</td></tr>\n",
       "<tr><td>RH202532A01</td><td>37.9600</td><td>89.2600</td><td>123.2826</td><td>26.4577</td><td>HRI</td><td>N</td><td>MPE</td><td>8859</td><td>10000</td><td>RFITS V3.</td><td>50534.928391203699</td><td>50535.892175925903</td><td>ALPHA UMI</td><td>HUENSCH</td><td>MATTHIAS</td><td>202532</td><td>a01</td><td>2</td><td>2</td><td>ALPHA UMI</td><td>50167</td><td>7</td><td>3439</td><td>47</td><td>2529</td><td>2530</td><td>2900</td></tr>\n",
       "<tr><td>RH202532N00</td><td>37.9600</td><td>89.2600</td><td>123.2826</td><td>26.4577</td><td>HRI</td><td>N</td><td>MPE</td><td>2376</td><td>10000</td><td>RFITS V4.</td><td>50378.277361111097</td><td>50378.305798611102</td><td>ALPHA UMI</td><td>HUENSCH</td><td>MATTHIAS</td><td>202532</td><td>n00</td><td>2</td><td>2</td><td>ALPHA UMI</td><td>50168</td><td>7</td><td>3439</td><td>254</td><td>2370</td><td>2370</td><td>2900</td></tr>\n",
       "</table>"
      ],
      "text/plain": [
       "<Table masked=True length=11431>\n",
       "    col1      col2     col3     col4     col5   ... col25 col26 col27 col28\n",
       "              deg      deg      deg      deg    ...  deg    d     d        \n",
       "  bytes16   float64  float64  float64  float64  ... int16 int32 int32 int16\n",
       "----------- -------- -------- -------- -------- ... ----- ----- ----- -----\n",
       "RH202299N00  49.3200 -85.5400 299.8517 -30.6815 ...   307  2163  2177  2900\n",
       "RH202299A01  49.3200 -85.5400 299.8517 -30.6815 ...   162  2316  2369  2900\n",
       "RP200594N00 151.8800 -85.0800 299.4192 -23.3707 ...    66   648   657  2900\n",
       "RH201328N00 107.9100 -84.4700 296.7740 -26.5072 ...   215   850   851  2900\n",
       "RH400876A01 193.9400 -83.3700 303.0651 -20.4994 ...   299  2699  2733  9999\n",
       "RH400876N00 193.9400 -83.3700 303.0651 -20.4994 ...    85  2543  2543  9999\n",
       "RH400877A02 190.1700 -83.3600 302.6001 -20.4952 ...    90  2893  2895  9999\n",
       "RH400877A01 190.1700 -83.3600 302.6001 -20.4952 ...   260  2733  2733  9999\n",
       "RH400877N00 190.1700 -83.3600 302.6001 -20.4952 ...    81  2543  2543  9999\n",
       "        ...      ...      ...      ...      ... ...   ...   ...   ...   ...\n",
       "RH180091N00 172.0200  85.5500 124.7826  31.2749 ...   272  2158  2158  2900\n",
       "RP900512N00 110.3000  85.7000 127.7445  27.6030 ...   132  1196  1196  3900\n",
       "RP900513N00 114.7000  85.7000 127.6963  27.9300 ...   128  1196  1196  3900\n",
       "RP900161N00 111.7200  85.7500 127.6760  27.7031 ...    12   704   706  3900\n",
       "RH600498A01 111.8000  85.7600 127.6640  27.7078 ...   140  1573  1575  6900\n",
       "RH600498N00 111.8000  85.7600 127.6640  27.7078 ...   336  1406  1410  6900\n",
       "RH800780N00 261.1700  85.8900 118.5825  28.5800 ...   190  2161  2165  5000\n",
       "RH702064N00  35.7700  86.3200 124.4960  23.7300 ...    54  2160  2162  7000\n",
       "RH202532A01  37.9600  89.2600 123.2826  26.4577 ...    47  2529  2530  2900\n",
       "RH202532N00  37.9600  89.2600 123.2826  26.4577 ...   254  2370  2370  2900"
      ]
     },
     "execution_count": 4,
     "metadata": {},
     "output_type": "execute_result"
    }
   ],
   "source": [
    "print(type(table))\n",
    "table"
   ]
  },
  {
   "cell_type": "markdown",
   "metadata": {
    "collapsed": true
   },
   "source": [
    "<a id=\"votable2\"></a>\n",
    "## Creating a VO Table from scratch"
   ]
  },
  {
   "cell_type": "markdown",
   "metadata": {},
   "source": [
    "Alternatively, we can create a table from scratch using an array of values named whatever we want.  \n",
    "\n",
    "There are several ways of doing this, and there are a few object layers here, which can be confusing.  There are standard astropy Table objects, there are votable Table objects, and there are votable VOTableFile objects that might contain multiple votable Tables. Though some things can be done with generic astropy Tables, other VO operations can only be done with VO Tables or VOTableFile objects.  \n",
    "\n",
    "This is easiest to see with an example.  "
   ]
  },
  {
   "cell_type": "code",
   "execution_count": 5,
   "metadata": {
    "collapsed": false
   },
   "outputs": [
    {
     "name": "stdout",
     "output_type": "stream",
     "text": [
      "<class 'astropy.table.table.Table'>\n",
      "   RA     DEC  \n",
      "------- -------\n",
      "19.0186 46.7304\n",
      "20.2887 40.4703\n",
      "125.886 21.3377\n",
      "136.002 21.9679\n",
      "141.057 40.6372\n",
      "  146.7 22.0116\n",
      "148.785 14.2922\n",
      "149.751 17.8168\n",
      "175.039  15.327\n",
      "191.542 30.7317\n",
      "194.913 28.8959\n",
      "199.026 41.5011\n",
      "206.577 43.8511\n",
      "209.963 38.1821\n",
      "213.556 15.6214\n",
      "219.967 42.7421\n",
      "226.693 12.8502\n",
      "237.489 20.8057\n",
      "241.519 20.8014\n",
      "317.088 18.2002\n",
      "329.235 6.64845\n",
      " 333.83 37.3012\n"
     ]
    }
   ],
   "source": [
    "##  Create a table with only two columns starting from an astropy Table:  \n",
    "from astropy.table import Table as apTable\n",
    "aptable=apTable(\n",
    "    numpy.array([\n",
    "            [19.0186,       46.7304],\n",
    "            [20.2887,       40.4703],\n",
    "            [125.886,       21.3377],\n",
    "            [136.002,       21.9679],\n",
    "            [141.057,       40.6372],\n",
    "            [146.700,       22.0116],\n",
    "            [148.785,       14.2922],\n",
    "            [149.751,       17.8168],\n",
    "            [175.039,       15.3270],\n",
    "            [191.542,       30.7317],\n",
    "            [194.913,       28.8959],\n",
    "            [199.026,       41.5011],\n",
    "            [206.577,       43.8511],\n",
    "            [209.963,       38.1821],\n",
    "            [213.556,       15.6214],\n",
    "            [219.967,       42.7421],\n",
    "            [226.693,       12.8502],\n",
    "            [237.489,       20.8057],\n",
    "            [241.519,       20.8014],\n",
    "            [317.088,       18.2002],\n",
    "            [329.235,       6.64845],\n",
    "            [333.830,       37.3012] ]), \n",
    "    names=[\"RA\",\"DEC\"])\n",
    "print(type(aptable))\n",
    "print(aptable)\n"
   ]
  },
  {
   "cell_type": "code",
   "execution_count": 43,
   "metadata": {
    "collapsed": false
   },
   "outputs": [
    {
     "name": "stdout",
     "output_type": "stream",
     "text": [
      "<class 'astropy.io.votable.tree.VOTableFile'>\n",
      "        RA                DEC        \n",
      "------------------ ------------------\n",
      "19.018599999999999 46.730400000000003\n",
      "20.288699999999999 40.470300000000002\n",
      "           125.886 21.337700000000002\n",
      "136.00200000000001            21.9679\n",
      "141.05699999999999            40.6372\n",
      "146.69999999999999 22.011600000000001\n",
      "           148.785 14.292199999999999\n",
      "           149.751 17.816800000000001\n",
      "175.03899999999999             15.327\n",
      "           191.542            30.7317\n",
      "194.91300000000001 28.895900000000001\n",
      "199.02600000000001 41.501100000000001\n",
      "           206.577 43.851100000000002\n",
      "209.96299999999999 38.182099999999998\n",
      "213.55600000000001            15.6214\n",
      "219.96700000000001 42.742100000000001\n",
      "226.69300000000001 12.850199999999999\n",
      "           237.489 20.805700000000002\n",
      "241.51900000000001 20.801400000000001\n",
      "317.08800000000002 18.200199999999999\n",
      "329.23500000000001 6.6484500000000004\n",
      "333.82999999999998 37.301200000000001\n"
     ]
    }
   ],
   "source": [
    "## Then convert this to a VOTableFile object.\n",
    "votablefile = apvot.from_table(aptable)\n",
    "print(type(votablefile))\n",
    "## Which contains a nested set of RESOURCES\n",
    "for r in votablefile.resources:\n",
    "    ## And tables (in this case, only one of each)\n",
    "    mytable=r\n",
    "    for t in r.tables:\n",
    "        print(t)\n"
   ]
  },
  {
   "cell_type": "code",
   "execution_count": null,
   "metadata": {
    "collapsed": true
   },
   "outputs": [],
   "source": []
  },
  {
   "cell_type": "markdown",
   "metadata": {},
   "source": [
    "<a id=\"sia\"></a>\n",
    "# 2. SIA:  Using the Simple Image Access protocol.\n"
   ]
  },
  {
   "cell_type": "markdown",
   "metadata": {},
   "source": [
    "The __[HEASARC VO](https://heasarc.gsfc.nasa.gov/docs/archive/vo/instructions.html#_accessing)__ page describes how to access SkyView images with the SIA protocol. But first, how do you know what sorts of images are available?"
   ]
  },
  {
   "cell_type": "markdown",
   "metadata": {},
   "source": [
    "## 2.1:  Finding SkyView SIA resources from the NAVO directory with TAP\n",
    "\n",
    "First, we can find out what SIA resources are available through SkyView. These are listed in a registry at STScI which we can access through the__[IVOA Table Access Protocol](http://www.ivoa.net/documents/TAP/20100327/REC-TAP-1.0.html)__ (TAP). We submit an HTTP request to a given TAP service URL formed in a particular language (ADQL in this case) to specify what we wish to search for, in this case the HEASARC SIA resources: "
   ]
  },
  {
   "cell_type": "markdown",
   "metadata": {},
   "source": [
    "<div class=\"alert alert-block alert-danger\">\n",
    "For now, let's forget about using Xamin to find the SIA resources, of which there are far fewer listed than there are in SkyView.</div>"
   ]
  },
  {
   "cell_type": "code",
   "execution_count": 11,
   "metadata": {
    "collapsed": false
   },
   "outputs": [
    {
     "data": {
      "text/html": [
       "&lt;Table masked=True length=88&gt;\n",
       "<table id=\"table4426611680\" class=\"table-striped table-bordered table-condensed\">\n",
       "<thead><tr><th>short_name</th><th>ivoid</th></tr></thead>\n",
       "<thead><tr><th>object</th><th>object</th></tr></thead>\n",
       "<tr><td>1420MHz</td><td>ivo://nasa.heasarc/skyview/1420mhz</td></tr>\n",
       "<tr><td>2MASS</td><td>ivo://nasa.heasarc/skyview/2mass</td></tr>\n",
       "<tr><td>408MHz</td><td>ivo://nasa.heasarc/skyview/408mhz</td></tr>\n",
       "<tr><td>AKARI</td><td>ivo://nasa.heasarc/skyview/akari</td></tr>\n",
       "<tr><td>ASCA</td><td>ivo://nasa.heasarc/ascamaster</td></tr>\n",
       "<tr><td>ASCA/AGN</td><td>ivo://nasa.heasarc/tartarus</td></tr>\n",
       "<tr><td>ASCASIS</td><td>ivo://nasa.heasarc/ascasis</td></tr>\n",
       "<tr><td>BATSIG</td><td>ivo://nasa.heasarc/skyview/batsig</td></tr>\n",
       "<tr><td>CDFS-LESS</td><td>ivo://nasa.heasarc/skyview/cdfs-less</td></tr>\n",
       "<tr><td>Chandra</td><td>ivo://nasa.heasarc/chanmaster</td></tr>\n",
       "<tr><td>...</td><td>...</td></tr>\n",
       "<tr><td>SwiftUVOT</td><td>ivo://nasa.heasarc/swiftuvlog</td></tr>\n",
       "<tr><td>SwiftXRT</td><td>ivo://nasa.heasarc/swiftxrlog</td></tr>\n",
       "<tr><td>TGSS</td><td>ivo://nasa.heasarc/skyview/tgss</td></tr>\n",
       "<tr><td>UKIDSS</td><td>ivo://nasa.heasarc/skyview/ukidss</td></tr>\n",
       "<tr><td>VLSS</td><td>ivo://nasa.heasarc/skyview/vlss</td></tr>\n",
       "<tr><td>WENSS</td><td>ivo://nasa.heasarc/skyview/wenss</td></tr>\n",
       "<tr><td>WFCF1</td><td>ivo://nasa.heasarc/skyview/wfcf1</td></tr>\n",
       "<tr><td>Wise</td><td>ivo://nasa.heasarc/skyview/wise</td></tr>\n",
       "<tr><td>WMAP</td><td>ivo://nasa.heasarc/skyview/wmap</td></tr>\n",
       "<tr><td>XMM</td><td>ivo://nasa.heasarc/xmmmaster</td></tr>\n",
       "</table>"
      ],
      "text/plain": [
       "<Table masked=True length=88>\n",
       "short_name                ivoid                \n",
       "  object                  object               \n",
       "---------- ------------------------------------\n",
       "   1420MHz   ivo://nasa.heasarc/skyview/1420mhz\n",
       "     2MASS     ivo://nasa.heasarc/skyview/2mass\n",
       "    408MHz    ivo://nasa.heasarc/skyview/408mhz\n",
       "     AKARI     ivo://nasa.heasarc/skyview/akari\n",
       "      ASCA        ivo://nasa.heasarc/ascamaster\n",
       "  ASCA/AGN          ivo://nasa.heasarc/tartarus\n",
       "   ASCASIS           ivo://nasa.heasarc/ascasis\n",
       "    BATSIG    ivo://nasa.heasarc/skyview/batsig\n",
       " CDFS-LESS ivo://nasa.heasarc/skyview/cdfs-less\n",
       "   Chandra        ivo://nasa.heasarc/chanmaster\n",
       "       ...                                  ...\n",
       " SwiftUVOT        ivo://nasa.heasarc/swiftuvlog\n",
       "  SwiftXRT        ivo://nasa.heasarc/swiftxrlog\n",
       "      TGSS      ivo://nasa.heasarc/skyview/tgss\n",
       "    UKIDSS    ivo://nasa.heasarc/skyview/ukidss\n",
       "      VLSS      ivo://nasa.heasarc/skyview/vlss\n",
       "     WENSS     ivo://nasa.heasarc/skyview/wenss\n",
       "     WFCF1     ivo://nasa.heasarc/skyview/wfcf1\n",
       "      Wise      ivo://nasa.heasarc/skyview/wise\n",
       "      WMAP      ivo://nasa.heasarc/skyview/wmap\n",
       "       XMM         ivo://nasa.heasarc/xmmmaster"
      ]
     },
     "execution_count": 11,
     "metadata": {},
     "output_type": "execute_result"
    }
   ],
   "source": [
    "# Warning:  'query' is bizarrely case-sensitive:\n",
    "tap_params = {\n",
    "    \"request\":\"doQuery\",\n",
    "    \"lang\":\"ADQL\",\n",
    "    \"query\":\"\"\"\n",
    "        select b.short_name,a.ivoid from rr.capability a \n",
    "        natural join rr.resource b \n",
    "        where a.cap_type='simpleimageaccess' and a.ivoid like 'ivo://nasa.heasarc%' \n",
    "        order by short_name;\n",
    "    \"\"\"\n",
    "    }\n",
    "r = requests.post('http://vao.stsci.edu/RegTAP/TapService.aspx/sync', data=tap_params)\n",
    "##  If you want to see what requests gives you, you can look at the URL it actually constructed:\n",
    "#print(r.url)\n",
    "##  And the raw text of what it got back:\n",
    "# print(r.text)\n",
    "## The astropy.table  module will read this VO Table formatted result into an astropy Table:\n",
    "table=Table.read(io.BytesIO(r.content))\n",
    "table"
   ]
  },
  {
   "cell_type": "markdown",
   "metadata": {},
   "source": [
    "<div class=\"alert alert-block alert-danger\">\n",
    "This would be useful as a function, e.g.,<br>\n",
    "    astroquery.heasarc.list_sia_services()<br>\n",
    "But then we have to resolve the SkyView SIA versus Xamin SIA ambiguity.\n",
    "</div>"
   ]
  },
  {
   "cell_type": "markdown",
   "metadata": {},
   "source": [
    "### 2.2 Using SIA to retrieve an image from SkyView:\n",
    "\n",
    "Now we pick one of these catalogs, SwiftUVOT, and look for our sources.  See __[the SIA definition](http://www.ivoa.net/documents/WD/SIA/sia-20040524.html)__ for usage.  In short, you specify the central position, POS, the angular SIZE, and the NAXIS, i.e., the number of bins.  (SkyView will bin/interpolate as needed from the archive data.)  "
   ]
  },
  {
   "cell_type": "code",
   "execution_count": 14,
   "metadata": {
    "collapsed": false
   },
   "outputs": [
    {
     "name": "stdout",
     "output_type": "stream",
     "text": [
      "['Survey', 'Ra', 'Dec', 'Dim', 'Size', 'Scale', 'Format', 'PixFlags', 'URL', 'LogicalName']\n"
     ]
    }
   ],
   "source": [
    "pos='{},{}'.format(aptable[0]['RA'],aptable[0]['DEC'])\n",
    "#  Note that there's currently a bug in the default interpolation \n",
    "#  method with this particular query, so we have to set it to 'LI' here.\n",
    "params = {'survey': 'swiftuvot', 'POS': pos, 'SIZE':'0.03', \"NAXIS\":\"300,300\", \"interpolation\":\"LI\"}\n",
    "r = requests.get('https://skyview.gsfc.nasa.gov/cgi-bin/vo/sia.pl', params=params)\n",
    "table=Table.read(io.BytesIO(r.content))\n",
    "print(table.colnames)"
   ]
  },
  {
   "cell_type": "markdown",
   "metadata": {},
   "source": [
    "Extract the fields you're interested in, e.g., the URLs of the images made by skyview.  Note that specifying as we did SwiftUVOT, we get a number of different images, e.g., UVOT U, V, B, W1, W2, etc.  For each survey, there are two URLs, first the FITS IMAGE and second the JPEG:"
   ]
  },
  {
   "cell_type": "code",
   "execution_count": 16,
   "metadata": {
    "collapsed": false
   },
   "outputs": [
    {
     "name": "stdout",
     "output_type": "stream",
     "text": [
      "b'https://skyview.gsfc.nasa.gov/cgi-bin/images?position=19.0186%2C46.7304&survey=swiftuvotuint&pixels=300%2C300&sampler=LI&size=0.03%2C0.03&projection=Tan&coordinates=J2000.0&requestID=skv1512154286174&return=FITS'\n",
      "b'https://skyview.gsfc.nasa.gov/cgi-bin/images?position=19.0186%2C46.7304&survey=swiftuvotuint&pixels=300%2C300&sampler=LI&size=0.03%2C0.03&projection=Tan&coordinates=J2000.0&requestID=skv1512154286174&nofits=1&quicklook=jpeg&return=jpeg'\n"
     ]
    }
   ],
   "source": [
    "###  Inside the table is a numpy record array that you can access like this, for example:\n",
    "#print(table.array[4][8])\n",
    "#  Or like this\n",
    "print(table[4]['URL'])\n",
    "### To download the FITS image itself:\n",
    "print(table[5]['URL'])"
   ]
  },
  {
   "cell_type": "markdown",
   "metadata": {},
   "source": [
    "### Resulting image\n",
    "You can display it in python by\n",
    "(give it ~10 seconds to appear)\n"
   ]
  },
  {
   "cell_type": "code",
   "execution_count": 22,
   "metadata": {
    "collapsed": false
   },
   "outputs": [
    {
     "data": {
      "text/html": [
       "<img src=\"https://skyview.gsfc.nasa.gov/cgi-bin/images?position=19.0186%2C46.7304&survey=swiftuvotuint&pixels=300%2C300&sampler=LI&size=0.03%2C0.03&projection=Tan&coordinates=J2000.0&requestID=skv1512154286174&nofits=1&quicklook=jpeg&return=jpeg\"/>"
      ],
      "text/plain": [
       "<IPython.core.display.Image object>"
      ]
     },
     "metadata": {},
     "output_type": "display_data"
    }
   ],
   "source": [
    "##  Note that there are bugs with some of these datasets, \n",
    "##  since they are new in SkyView.  Selecting the U-band image.\n",
    "##  (The decode is needed in Python 3.5 because it comes back a byte type.)\n",
    "display(Image(url=table['URL'][5].decode(\"utf-8\")))"
   ]
  },
  {
   "cell_type": "markdown",
   "metadata": {},
   "source": [
    "Or download the FITS image and display it with:\n",
    "\n",
    "(This often errors off with a time out message.  Just try it again, possibly a couple of times.)"
   ]
  },
  {
   "cell_type": "code",
   "execution_count": 25,
   "metadata": {
    "collapsed": false
   },
   "outputs": [
    {
     "name": "stdout",
     "output_type": "stream",
     "text": [
      "Downloading https://skyview.gsfc.nasa.gov/cgi-bin/images?position=19.0186%2C46.7304&survey=swiftuvotuint&pixels=300%2C300&sampler=LI&size=0.03%2C0.03&projection=Tan&coordinates=J2000.0&requestID=skv1512154286174&return=FITS [Done]\n"
     ]
    },
    {
     "data": {
      "text/plain": [
       "<matplotlib.image.AxesImage at 0x106673630>"
      ]
     },
     "execution_count": 25,
     "metadata": {},
     "output_type": "execute_result"
    },
    {
     "data": {
      "image/png": "[encoded data removed]",
      "text/plain": [
       "<matplotlib.figure.Figure at 0x107d8a908>"
      ]
     },
     "metadata": {},
     "output_type": "display_data"
    }
   ],
   "source": [
    "hdu_list=apfits.open(table['URL'][4].decode(\"utf-8\"))\n",
    "plt.imshow(hdu_list[0].data, cmap='gray', origin='lower',vmax=0.1)"
   ]
  },
  {
   "cell_type": "markdown",
   "metadata": {},
   "source": [
    "<div class=\"alert alert-block alert-danger\">\n",
    "Why does it so frequently time out?\n",
    "</div>"
   ]
  },
  {
   "cell_type": "markdown",
   "metadata": {},
   "source": [
    "### A related example with multiple VO interfaces\n",
    "A very similar example uses the SkyView SIA protocol to retrieve an image from a different survey, SDSS, which is not held on the HEASARC SkyView server but at MAST.  In this case, the user is unaware of where the data come from, which is the point.  But under the hood, SkyView is using SIA to get the data from MAST.  \n",
    "\n",
    "(Again, it will take a few seconds for the image to appear.)"
   ]
  },
  {
   "cell_type": "code",
   "execution_count": 26,
   "metadata": {
    "collapsed": false
   },
   "outputs": [],
   "source": [
    "params['survey']='sdssg'\n",
    "r = requests.get('https://skyview.gsfc.nasa.gov/cgi-bin/vo/sia.pl', params=params)"
   ]
  },
  {
   "cell_type": "code",
   "execution_count": 28,
   "metadata": {
    "collapsed": false
   },
   "outputs": [
    {
     "data": {
      "text/html": [
       "<img src=\"https://skyview.gsfc.nasa.gov/cgi-bin/images?position=19.0186%2C46.7304&survey=sdssg&pixels=300%2C300&sampler=LI&size=0.03%2C0.03&projection=Tan&coordinates=J2000.0&requestID=skv1512154626445&nofits=1&quicklook=jpeg&return=jpeg\"/>"
      ],
      "text/plain": [
       "<IPython.core.display.Image object>"
      ]
     },
     "metadata": {},
     "output_type": "display_data"
    }
   ],
   "source": [
    "table=Table.read(io.BytesIO(r.content))\n",
    "display(Image(url=table['URL'][1].decode(\"utf-8\")))"
   ]
  },
  {
   "cell_type": "markdown",
   "metadata": {},
   "source": [
    "<a id=\"tap1\"></a>\n",
    "# 3a. TAP:  Using the Table Access Protocol to find additional information on our sources\n",
    "In this example, we already have a list of 30 sources.  We would now like to find the redshift of these objects.\n",
    "\n",
    "First, find out what catalogs HEASARC holds that might have redshifts:"
   ]
  },
  {
   "cell_type": "code",
   "execution_count": 86,
   "metadata": {
    "collapsed": false
   },
   "outputs": [
    {
     "data": {
      "text/html": [
       "&lt;Table masked=True length=18&gt;\n",
       "<table id=\"table4441836680\" class=\"table-striped table-bordered table-condensed\">\n",
       "<thead><tr><th>name</th><th>value</th></tr></thead>\n",
       "<thead><tr><th>object</th><th>object</th></tr></thead>\n",
       "<tr><td>abellzcat</td><td>Abell Clusters Measured Redshifts Catalog</td></tr>\n",
       "<tr><td>atlasspecz</td><td>AT Large Area Survey (ATLAS) Spectroscopic Classes &amp; Redshifts Catalog</td></tr>\n",
       "<tr><td>ccosmphotz</td><td>Chandra COSMOS (C-COSMOS) Survey Photometric Redshift Catalog</td></tr>\n",
       "<tr><td>cfa2s</td><td>CfA Redshift Survey: South Galactic Cap Data</td></tr>\n",
       "<tr><td>iraspscz</td><td>IRAS Point Source Catalog Redshift (PSCz) Catalog</td></tr>\n",
       "<tr><td>iraszsurv</td><td>IRAS 1.2-Jy Redshift Survey</td></tr>\n",
       "<tr><td>lcrscat</td><td>Las Campanas Redshift Survey Catalog</td></tr>\n",
       "<tr><td>lowzvlqvla</td><td>VLA 6-GHz Observations of Low-Redshift SDSS QSOs</td></tr>\n",
       "<tr><td>planckhzsc</td><td>Planck High-Redshift Source Candidates Catalog</td></tr>\n",
       "<tr><td>sixdfgs</td><td>6dFGS Galaxy Survey Final Redshift Release Catalog</td></tr>\n",
       "<tr><td>twodfqsoz</td><td>2dF QSO Redshift (2QZ) Survey</td></tr>\n",
       "<tr><td>twomassrsc</td><td>2MASS Redshift Survey (2MRS) Catalog</td></tr>\n",
       "<tr><td>xdeep2</td><td>DEEP2 Galaxy Redshift Survey Fields Chandra Point Source Catalog</td></tr>\n",
       "<tr><td>xmmcfrscat</td><td>XMM-Newton/Canada-France Redshift Survey Fields X-Ray Sources</td></tr>\n",
       "<tr><td>xmmcfrsoid</td><td>XMM-Newton/Canada-France Redshift Survey Fields Optical Identifications</td></tr>\n",
       "<tr><td>xmmcphotz</td><td>XMM-Newton COSMOS (XMM-COSMOS) Survey Photometric Redshift Catalog</td></tr>\n",
       "<tr><td>xmmlssclas</td><td>XMM-Newton Large-Scale Structure Optical Counterparts and Redshifts</td></tr>\n",
       "<tr><td>zcat</td><td>CfA Redshift Catalog (June 1995 Version)</td></tr>\n",
       "</table>"
      ],
      "text/plain": [
       "<Table masked=True length=18>\n",
       "   name    ...\n",
       "  object   ...\n",
       "---------- ...\n",
       " abellzcat ...\n",
       "atlasspecz ...\n",
       "ccosmphotz ...\n",
       "     cfa2s ...\n",
       "  iraspscz ...\n",
       " iraszsurv ...\n",
       "   lcrscat ...\n",
       "lowzvlqvla ...\n",
       "planckhzsc ...\n",
       "   sixdfgs ...\n",
       " twodfqsoz ...\n",
       "twomassrsc ...\n",
       "    xdeep2 ...\n",
       "xmmcfrscat ...\n",
       "xmmcfrsoid ...\n",
       " xmmcphotz ...\n",
       "xmmlssclas ...\n",
       "      zcat ..."
      ]
     },
     "execution_count": 86,
     "metadata": {},
     "output_type": "execute_result"
    }
   ],
   "source": [
    "\n",
    "tap_params[\"query\"]=\"\"\"\n",
    "    select a.name,b.value\n",
    "      from metainfo a, metainfo b\n",
    "      where\n",
    "         a.type='table' and b.type='table' and\n",
    "         a.relation='defaultSearchRadius' and\n",
    "         b.relation='description' and\n",
    "         a.name=b.name and\n",
    "         b.value LIKE '%Redshift%'\n",
    "      order by name    \n",
    "      \"\"\"\n",
    "r = requests.get('https://heasarc.gsfc.nasa.gov/xamin/vo/tap/sync', params=tap_params)\n",
    "table=Table.read(io.BytesIO(r.content))\n",
    "table"
   ]
  },
  {
   "cell_type": "markdown",
   "metadata": {},
   "source": [
    "<div class=\"alert alert-block alert-danger\">\n",
    "Wrap this, e.g., <br>\n",
    "astroquery.heasarc.surveys_like(\"Redshift\")<br>\n",
    "<br>\n",
    "Annoying case sensitive right now.  Can this be fixed?\n",
    "</div>"
   ]
  },
  {
   "cell_type": "markdown",
   "metadata": {},
   "source": [
    "We see that we can query these objects in the 2MASS Redshift Survey Catalog.  Let's start with one object at a time:"
   ]
  },
  {
   "cell_type": "code",
   "execution_count": 87,
   "metadata": {
    "collapsed": false
   },
   "outputs": [
    {
     "data": {
      "text/html": [
       "&lt;Table masked=True length=3&gt;\n",
       "<table id=\"table4443423352\" class=\"table-striped table-bordered table-condensed\">\n",
       "<thead><tr><th>ra</th><th>dec</th><th>radial_velocity</th></tr></thead>\n",
       "<thead><tr><th>float64</th><th>float64</th><th>int32</th></tr></thead>\n",
       "<tr><td>19.01868</td><td>46.730499999999999</td><td>5373</td></tr>\n",
       "<tr><td>19.068580000000001</td><td>46.740220000000001</td><td>5344</td></tr>\n",
       "<tr><td>19.085629999999998</td><td>46.747959999999999</td><td>5188</td></tr>\n",
       "</table>"
      ],
      "text/plain": [
       "<Table masked=True length=3>\n",
       "        ra                dec         radial_velocity\n",
       "     float64            float64            int32     \n",
       "------------------ ------------------ ---------------\n",
       "          19.01868 46.730499999999999            5373\n",
       "19.068580000000001 46.740220000000001            5344\n",
       "19.085629999999998 46.747959999999999            5188"
      ]
     },
     "execution_count": 87,
     "metadata": {},
     "output_type": "execute_result"
    }
   ],
   "source": [
    "##  Pick a radius in degrees to search around our input coordinates:\n",
    "radius=0.1\n",
    "tap_params = {\n",
    "    \"request\":\"doQuery\",\n",
    "    \"lang\":\"ADQL\",\n",
    "    \"query\":\n",
    "    \"\"\"SELECT ra, dec, Radial_Velocity FROM twomassrsc as cat where \n",
    "    contains(point('ICRS',cat.ra,cat.dec),circle('ICRS',{0},{1},{2}))=1\n",
    "    \"\"\".format(aptable[0]['RA'],aptable[0]['DEC'],radius)\n",
    "    }\n",
    "r = requests.get('https://heasarc.gsfc.nasa.gov/xamin/vo/tap/sync', params=tap_params)\n",
    "#r.content\n",
    "table=Table.read(io.BytesIO(r.content))\n",
    "table"
   ]
  },
  {
   "cell_type": "markdown",
   "metadata": {},
   "source": [
    "<a id=\"tap2\"></a>\n",
    "# 3b. TAP:  Using the TAP to cross-correlate our objects with a catalog"
   ]
  },
  {
   "cell_type": "markdown",
   "metadata": {},
   "source": [
    "Now to search all of the sources in one go, we need to upload our table and do a 'cross-correlation' of our own table with the 2MASS table. Above, we had created a VOTableFile object called votablefile. Now we need to hand it to the requests method as upload data and use it in our TAP request.\n",
    "\n",
    "First, create a \"file-like\" object that you can hand over:"
   ]
  },
  {
   "cell_type": "code",
   "execution_count": 70,
   "metadata": {
    "collapsed": false
   },
   "outputs": [],
   "source": [
    "## Alternatively, write it to a file:\n",
    "#apvot.writeto(votablefile, \"new_votable.xml\")\n",
    "#files={'uplt':open('new_votable.xml', 'rb')}\n",
    "\n",
    "## In memory only, use an IO stream. \n",
    "vot_obj=io.BytesIO()\n",
    "apvot.writeto(votablefile,vot_obj)\n",
    "vot_obj.seek(0) # Reset seek to beginning of buffer?\n",
    "## 'uplt' is what we'll call it (for 'upload table') \n",
    "##   in the requests parameters below, or what you will:\n",
    "files={'uplt':vot_obj}"
   ]
  },
  {
   "cell_type": "markdown",
   "metadata": {},
   "source": [
    "<div class=\"alert alert-block alert-danger\">\n",
    "Can this be simplified?  Why do we really need the VOTableFile level with only one table?  Because we read-write to disk?  Can that be avoided?</div>"
   ]
  },
  {
   "cell_type": "markdown",
   "metadata": {},
   "source": [
    "(This takes a good 20 seconds.)"
   ]
  },
  {
   "cell_type": "code",
   "execution_count": 71,
   "metadata": {
    "collapsed": false
   },
   "outputs": [
    {
     "data": {
      "text/html": [
       "&lt;Table masked=True length=14&gt;\n",
       "<table id=\"table4398778632\" class=\"table-striped table-bordered table-condensed\">\n",
       "<thead><tr><th>ra</th><th>dec</th><th>radial_velocity</th></tr></thead>\n",
       "<thead><tr><th>float64</th><th>float64</th><th>int32</th></tr></thead>\n",
       "<tr><td>19.01868</td><td>46.730499999999999</td><td>5373</td></tr>\n",
       "<tr><td>136.00194999999999</td><td>21.967649999999999</td><td>3099</td></tr>\n",
       "<tr><td>146.70882</td><td>22.01398</td><td>7455</td></tr>\n",
       "<tr><td>148.78515999999999</td><td>14.29142</td><td>7377</td></tr>\n",
       "<tr><td>149.75077999999999</td><td>17.817209999999999</td><td>7626</td></tr>\n",
       "<tr><td>175.03906000000001</td><td>15.327349999999999</td><td>3318</td></tr>\n",
       "<tr><td>191.54178999999999</td><td>30.732099999999999</td><td>6554</td></tr>\n",
       "<tr><td>194.91301000000001</td><td>28.895510000000002</td><td>6113</td></tr>\n",
       "<tr><td>209.96174999999999</td><td>38.182450000000003</td><td>2746</td></tr>\n",
       "<tr><td>213.55582999999999</td><td>15.622350000000001</td><td>4649</td></tr>\n",
       "<tr><td>219.96745000000001</td><td>42.742370000000001</td><td>2525</td></tr>\n",
       "<tr><td>237.48885999999999</td><td>20.80518</td><td>10531</td></tr>\n",
       "<tr><td>317.08834999999999</td><td>18.20017</td><td>4826</td></tr>\n",
       "<tr><td>333.82974000000002</td><td>37.301490000000001</td><td>5207</td></tr>\n",
       "</table>"
      ],
      "text/plain": [
       "<Table masked=True length=14>\n",
       "        ra                dec         radial_velocity\n",
       "     float64            float64            int32     \n",
       "------------------ ------------------ ---------------\n",
       "          19.01868 46.730499999999999            5373\n",
       "136.00194999999999 21.967649999999999            3099\n",
       "         146.70882           22.01398            7455\n",
       "148.78515999999999           14.29142            7377\n",
       "149.75077999999999 17.817209999999999            7626\n",
       "175.03906000000001 15.327349999999999            3318\n",
       "191.54178999999999 30.732099999999999            6554\n",
       "194.91301000000001 28.895510000000002            6113\n",
       "209.96174999999999 38.182450000000003            2746\n",
       "213.55582999999999 15.622350000000001            4649\n",
       "219.96745000000001 42.742370000000001            2525\n",
       "237.48885999999999           20.80518           10531\n",
       "317.08834999999999           18.20017            4826\n",
       "333.82974000000002 37.301490000000001            5207"
      ]
     },
     "execution_count": 71,
     "metadata": {},
     "output_type": "execute_result"
    }
   ],
   "source": [
    "## These parameters are defined in the TAP standard.  \n",
    "##  The string 'uplt' is what we set above as the name\n",
    "##  of the parameter containing this data, and\n",
    "##  the string 'mysources' is how we refer to it in \n",
    "##  the ADQL query string:\n",
    "cc_params={\n",
    "    'lang': 'ADQL', \n",
    "    'request': 'doQuery',\n",
    "    'upload':'mysources,param:uplt'\n",
    "    }\n",
    "cc_params[\"query\"]=\"\"\"\n",
    "    SELECT cat.ra, cat.dec, Radial_Velocity \n",
    "    FROM twomassrsc cat, tap_upload.mysources mt \n",
    "    WHERE\n",
    "    contains(point('ICRS',cat.ra,cat.dec),circle('ICRS',mt.ra,mt.dec,0.01))=1\n",
    "    ORDER by cat.ra\"\"\"\n",
    "r = requests.post('https://heasarc.gsfc.nasa.gov/xamin/vo/tap/sync',data=cc_params,stream=True,files=files)\n",
    "mytable=Table.read(io.BytesIO(r.content))\n",
    "mytable"
   ]
  },
  {
   "cell_type": "markdown",
   "metadata": {},
   "source": [
    "<div class=\"alert alert-block alert-danger\">\n",
    "Can we avoid writing the VO Table to new_votable.xml and just pass it as, e.g., a string?\n",
    "</div>"
   ]
  },
  {
   "cell_type": "markdown",
   "metadata": {},
   "source": [
    "<a id=\"combo\"></a>\n",
    "\n",
    "# 4. Combining data from different catalogs\n",
    "Now we'd like to take the redshift information (above, as a radial velocity) and determine a search radius to use for each galaxy based on its distance, so that we are are searching a given physical distance."
   ]
  },
  {
   "cell_type": "code",
   "execution_count": 117,
   "metadata": {
    "collapsed": false
   },
   "outputs": [
    {
     "data": {
      "text/html": [
       "&lt;Table masked=True length=35&gt;\n",
       "<table id=\"table4675833640\" class=\"table-striped table-bordered table-condensed\">\n",
       "<thead><tr><th>ra</th><th>dec</th><th>radial_velocity</th><th>redshift</th><th>angDdeg</th></tr></thead>\n",
       "<thead><tr><th></th><th></th><th></th><th></th><th>deg</th></tr></thead>\n",
       "<thead><tr><th>float64</th><th>float64</th><th>int32</th><th>float64</th><th>float64</th></tr></thead>\n",
       "<tr><td>19.01868</td><td>46.730499999999999</td><td>5373</td><td>0.01791</td><td>0.911210723678</td></tr>\n",
       "<tr><td>19.068580000000001</td><td>46.740220000000001</td><td>5344</td><td>0.0178133333333</td><td>0.91377283658</td></tr>\n",
       "<tr><td>19.085629999999998</td><td>46.747959999999999</td><td>5188</td><td>0.0172933333333</td><td>0.927740981492</td></tr>\n",
       "<tr><td>20.255710000000001</td><td>40.446480000000001</td><td>5940</td><td>0.0198</td><td>0.863231271473</td></tr>\n",
       "<tr><td>20.334879999999998</td><td>40.488199999999999</td><td>5876</td><td>0.0195866666667</td><td>0.868449776954</td></tr>\n",
       "<tr><td>125.89266000000001</td><td>21.347660000000001</td><td>5420</td><td>0.0180666666667</td><td>0.907081131884</td></tr>\n",
       "<tr><td>135.99879000000001</td><td>21.906559999999999</td><td>3144</td><td>0.01048</td><td>1.14140957652</td></tr>\n",
       "<tr><td>136.00194999999999</td><td>21.967649999999999</td><td>3099</td><td>0.01033</td><td>1.14677196894</td></tr>\n",
       "<tr><td>141.09058999999999</td><td>40.624369999999999</td><td>8386</td><td>0.0279533333333</td><td>0.696532375435</td></tr>\n",
       "<tr><td>...</td><td>...</td><td>...</td><td>...</td><td>...</td></tr>\n",
       "<tr><td>226.73508000000001</td><td>12.84686</td><td>6677</td><td>0.0222566666667</td><td>0.80655285513</td></tr>\n",
       "<tr><td>237.48885999999999</td><td>20.80518</td><td>10531</td><td>0.0351033333333</td><td>0.5915393227</td></tr>\n",
       "<tr><td>317.08834999999999</td><td>18.20017</td><td>4826</td><td>0.0160866666667</td><td>0.961383651565</td></tr>\n",
       "<tr><td>317.11135999999999</td><td>18.191199999999998</td><td>5025</td><td>0.01675</td><td>0.942674609271</td></tr>\n",
       "<tr><td>333.76028000000002</td><td>37.300379999999997</td><td>6564</td><td>0.02188</td><td>0.814847915078</td></tr>\n",
       "<tr><td>333.79894999999999</td><td>37.23319</td><td>6094</td><td>0.0203133333333</td><td>0.85087367327</td></tr>\n",
       "<tr><td>333.82974000000002</td><td>37.301490000000001</td><td>5207</td><td>0.0173566666667</td><td>0.926022881783</td></tr>\n",
       "<tr><td>333.84399000000002</td><td>37.280670000000001</td><td>5984</td><td>0.0199466666667</td><td>0.859671913924</td></tr>\n",
       "<tr><td>333.91455000000002</td><td>37.29871</td><td>5750</td><td>0.0191666666667</td><td>0.87886805516</td></tr>\n",
       "<tr><td>333.93137000000002</td><td>37.242870000000003</td><td>5586</td><td>0.01862</td><td>0.892719403664</td></tr>\n",
       "</table>"
      ],
      "text/plain": [
       "<Table masked=True length=35>\n",
       "        ra                dec         ...     redshift       angDdeg    \n",
       "                                      ...                      deg      \n",
       "     float64            float64       ...     float64        float64    \n",
       "------------------ ------------------ ... --------------- --------------\n",
       "          19.01868 46.730499999999999 ...         0.01791 0.911210723678\n",
       "19.068580000000001 46.740220000000001 ... 0.0178133333333  0.91377283658\n",
       "19.085629999999998 46.747959999999999 ... 0.0172933333333 0.927740981492\n",
       "20.255710000000001 40.446480000000001 ...          0.0198 0.863231271473\n",
       "20.334879999999998 40.488199999999999 ... 0.0195866666667 0.868449776954\n",
       "125.89266000000001 21.347660000000001 ... 0.0180666666667 0.907081131884\n",
       "135.99879000000001 21.906559999999999 ...         0.01048  1.14140957652\n",
       "136.00194999999999 21.967649999999999 ...         0.01033  1.14677196894\n",
       "141.09058999999999 40.624369999999999 ... 0.0279533333333 0.696532375435\n",
       "               ...                ... ...             ...            ...\n",
       "226.73508000000001           12.84686 ... 0.0222566666667  0.80655285513\n",
       "237.48885999999999           20.80518 ... 0.0351033333333   0.5915393227\n",
       "317.08834999999999           18.20017 ... 0.0160866666667 0.961383651565\n",
       "317.11135999999999 18.191199999999998 ...         0.01675 0.942674609271\n",
       "333.76028000000002 37.300379999999997 ...         0.02188 0.814847915078\n",
       "333.79894999999999           37.23319 ... 0.0203133333333  0.85087367327\n",
       "333.82974000000002 37.301490000000001 ... 0.0173566666667 0.926022881783\n",
       "333.84399000000002 37.280670000000001 ... 0.0199466666667 0.859671913924\n",
       "333.91455000000002           37.29871 ... 0.0191666666667  0.87886805516\n",
       "333.93137000000002 37.242870000000003 ...         0.01862 0.892719403664"
      ]
     },
     "execution_count": 117,
     "metadata": {},
     "output_type": "execute_result"
    }
   ],
   "source": [
    "## The 2MASS catalog radial_velocity is in km/s, and this is just c*z, so\n",
    "c=3.0e5 # km/s\n",
    "redshifts=mytable['radial_velocity'].filled(0.)/c  # Filling masked values with zero\n",
    "mytable['redshift']=redshifts\n",
    "from astropy import units\n",
    "physdist=100*units.Mpc # Mpc\n",
    "\n",
    "## This needs scipy, which on my machine needed to build gcc6 from source for some odd reason.\n",
    "from astropy.cosmology import Planck15\n",
    "angDdist=Planck15.angular_diameter_distance(mytable['redshift'])\n",
    "## angDdist is returned from the astropy.cosmology module as a Quantity object, \n",
    "##  i.e. a value and a unit.  Arctan is smart enough not to operate on quantities\n",
    "##  that aren't unitless.  So angDdist.value to just get the value.\n",
    "angDrad=numpy.arctan(physdist/angDdist)\n",
    "angDdeg=angDrad*units.deg/units.rad\n",
    "mytable['angDdeg']=angDdeg\n",
    "mytable"
   ]
  },
  {
   "cell_type": "code",
   "execution_count": null,
   "metadata": {
    "collapsed": true
   },
   "outputs": [],
   "source": []
  },
  {
   "cell_type": "markdown",
   "metadata": {},
   "source": [
    "<a id=\"scs\"></a>\n",
    "# 5. SCS:  Using the Simple Cone Search to query a different catalog in a loop\n",
    "Now we have a column that shows the angular diameter distance we want to search for each source based on its redshift.  For each source, we can use the __[Simple Cone Search (SCS) Protocol](http://www.ivoa.net/documents/latest/ConeSearch.html)__.  "
   ]
  },
  {
   "cell_type": "markdown",
   "metadata": {},
   "source": [
    "<a id=\"scs1\"></a>\n",
    "The SCS is quite straightforward:"
   ]
  },
  {
   "cell_type": "code",
   "execution_count": 159,
   "metadata": {
    "collapsed": false
   },
   "outputs": [
    {
     "name": "stdout",
     "output_type": "stream",
     "text": [
      "obsid status name  ra dec time ... exposure type  pi public_date Search_Offset\n",
      "                  deg deg mjd  ...    s                  mjd                  \n",
      "----- ------ ---- --- --- ---- ... -------- ---- --- ----------- -------------\n",
      "obsid status name  ra dec time ... exposure type  pi public_date Search_Offset\n",
      "                  deg deg mjd  ...    s                  mjd                  \n",
      "----- ------ ---- --- --- ---- ... -------- ---- --- ----------- -------------\n",
      "obsid status name  ra dec time ... exposure type  pi public_date Search_Offset\n",
      "                  deg deg mjd  ...    s                  mjd                  \n",
      "----- ------ ---- --- --- ---- ... -------- ---- --- ----------- -------------\n",
      "obsid status name  ra dec time ... exposure type  pi public_date Search_Offset\n",
      "                  deg deg mjd  ...    s                  mjd                  \n",
      "----- ------ ---- --- --- ---- ... -------- ---- --- ----------- -------------\n",
      "obsid status name  ra dec time ... exposure type  pi public_date Search_Offset\n",
      "                  deg deg mjd  ...    s                  mjd                  \n",
      "----- ------ ---- --- --- ---- ... -------- ---- --- ----------- -------------\n"
     ]
    }
   ],
   "source": [
    "# len(mytable['ra'])\n",
    "for i in range(0,5):\n",
    "    params = {'table': 'chanmaster', 'RA': mytable[i]['ra'], 'DEC':mytable[i]['dec'], 'SR':mytable[i]['angDdeg']}\n",
    "    r = requests.get('https://heasarc.gsfc.nasa.gov/cgi-bin/vo/cone/coneGet.pl', params=params)\n",
    "    table=Table.read(io.BytesIO(r.content))\n",
    "    print(table)\n",
    "               "
   ]
  },
  {
   "cell_type": "markdown",
   "metadata": {},
   "source": [
    "Unfortunately, that finds nothing.  The HEASARC spectral holdings are limited.  So let's try some others:"
   ]
  },
  {
   "cell_type": "code",
   "execution_count": 163,
   "metadata": {
    "collapsed": false
   },
   "outputs": [
    {
     "data": {
      "text/html": [
       "&lt;Table masked=True length=123&gt;\n",
       "<table id=\"table4542741920\" class=\"table-striped table-bordered table-condensed\">\n",
       "<thead><tr><th>ivoid</th><th>cap_index</th><th>cap_type</th><th>cap_description</th><th>standard_id</th><th>res_type</th><th>created</th><th>creator_seq</th><th>content_type</th><th>source_format</th><th>source_value</th><th>res_version</th><th>region_of_regard</th><th>waveband</th><th>rights</th><th>short_name</th><th>res_title</th><th>updated</th><th>content_level</th><th>res_description</th><th>reference_url</th></tr></thead>\n",
       "<thead><tr><th>object</th><th>int16</th><th>object</th><th>object</th><th>object</th><th>object</th><th>object</th><th>object</th><th>object</th><th>object</th><th>object</th><th>object</th><th>float32</th><th>object</th><th>object</th><th>object</th><th>object</th><th>object</th><th>object</th><th>object</th><th>object</th></tr></thead>\n",
       "<tr><td>ivo://svo.cab/models/drift</td><td>1</td><td>simplespectralaccess</td><td></td><td>ivo://ivoa.net/std/ssa</td><td>vs:catalogservice</td><td>7/11/2014 1:10:43 AM</td><td></td><td>simulation</td><td></td><td>http://adsabs.harvard.edu/abs/2003A%26A...399..297W</td><td>1.0</td><td>--</td><td></td><td></td><td>DRIFT-PHOENIX</td><td>DRIFT-PHOENIX models</td><td>7/11/2014 1:11:42 AM</td><td>research</td><td>Drift-Phoenix is a computer code that simulates the structure of an atmosphere including the formation of clouds. The code is part of the Phoenix-code family. Drift describes the formation of mineral clouds and allows to predict cloud details, like the size of the cloud particles and their composition.</td><td>http://svo.cab.inta-csic.es/</td></tr>\n",
       "<tr><td>ivo://esavo/hst/ssap</td><td>1</td><td>simplespectralaccess</td><td></td><td>ivo://ivoa.net/std/ssa</td><td>vs:catalogservice</td><td>2/29/2016 3:53:04 PM</td><td></td><td></td><td></td><td></td><td></td><td>--</td><td></td><td></td><td>EHST/HST/SSAP</td><td>European HST SSAP service</td><td>2/29/2016 3:53:04 PM</td><td></td><td>Science spectra from the HST collection hosted at ESAC/ESA. The frames are calibrated and stored in the HST Cache for immediate access. The European HST archive interface can be accessed at http://archives.esac.esa.int/ehst</td><td>http://www.cosmos.esa.int/web/hst</td></tr>\n",
       "<tr><td>ivo://esavo/hla/ssap</td><td>1</td><td>simplespectralaccess</td><td></td><td>ivo://ivoa.net/std/ssa</td><td>vs:catalogservice</td><td>2/29/2016 3:53:04 PM</td><td></td><td></td><td></td><td></td><td></td><td>--</td><td></td><td></td><td>EHST/HLA/SSA</td><td>European Hubble Legacy Archive High-Level Spectra SSAP service</td><td>2/29/2016 3:53:04 PM</td><td></td><td>The Hubble Legacy Archive (HLA) is a collaboration between the Space Telescope Science Institute (STScI), the Canadian Astronomy Data Centre (CADC) and the ESAC Science Data Centre to extract calibrated science data from the Hubble Space telescope archive and make them accessible via user-friendly and VO compatible interfaces. As part of the HLA project, the ESAC Science Data Centre aims to provide calibrated spectra for all objects observed with these HST slitless modes. The European HST archive interface can be accessed at http://archives.esac.esa.int/ehst</td><td>http://www.cosmos.esa.int/web/hst</td></tr>\n",
       "<tr><td>ivo://org.gavo.dc/flashheros/q/echssa</td><td>1</td><td>simplespectralaccess</td><td></td><td>ivo://ivoa.net/std/ssa</td><td>vs:catalogservice</td><td>4/3/2012 1:30:00 PM</td><td></td><td></td><td>bibcode</td><td>1996A&amp;amp;A...312..539S</td><td></td><td>--</td><td>optical</td><td></td><td>F/H Orders SSAP</td><td>Flash/Heros Split-Order SSAP Service</td><td>10/17/2016 12:26:45 PM</td><td></td><td>Spectra from the Flash and Heros Echelle spectrographs developed at Landessternwarte Heidelberg and mounted at La Silla and various other observatories. The data mostly contains spectra of OB stars. Heros was the name of the instrument after Flash got a second channel in 1995.</td><td>http://dc.zah.uni-heidelberg.de/flashheros/q/echssa/info</td></tr>\n",
       "<tr><td>ivo://org.gavo.dc/flashheros/q/ssa</td><td>1</td><td>simplespectralaccess</td><td></td><td>ivo://ivoa.net/std/ssa</td><td>vs:catalogservice</td><td>4/3/2012 1:30:00 PM</td><td></td><td></td><td>bibcode</td><td>1996A&amp;amp;A...312..539S</td><td></td><td>--</td><td>optical</td><td></td><td>Flash/Heros SSAP</td><td>Flash/Heros SSAP</td><td>10/17/2016 12:26:45 PM</td><td></td><td>Spectra from the Flash and Heros Echelle spectrographs developed at Landessternwarte Heidelberg and mounted at La Silla and various other observatories. The data mostly contains spectra of OB stars. Heros was the name of the instrument after Flash got a second channel in 1995.</td><td>http://dc.zah.uni-heidelberg.de/flashheros/q/ssa/info</td></tr>\n",
       "<tr><td>ivo://vopdc.obspm/gepi/h1g</td><td>1</td><td>simplespectralaccess</td><td></td><td>ivo://ivoa.net/std/ssa</td><td>vs:catalogservice</td><td>4/28/2006 12:00:00 AM</td><td></td><td>archive</td><td></td><td></td><td></td><td>--</td><td>optical</td><td></td><td>HIG</td><td>HI Extragalactic Database</td><td>1/10/2017 12:00:00 AM</td><td>general#university#research#amateur</td><td>HI Extragalactic database is a collection of calibrated 21cm hydrogen line profiles for several thousands galaxies.</td><td>http://klun.obs-nancay.fr</td></tr>\n",
       "<tr><td>ivo://svo.cab/models/dusty00</td><td>1</td><td>simplespectralaccess</td><td></td><td>ivo://ivoa.net/std/ssa</td><td>vs:catalogservice</td><td>8/17/2010 12:12:10 PM</td><td></td><td>simulation</td><td></td><td>http://adsabs.harvard.edu/abs/2001ApJ...556..357A</td><td>1.0</td><td>--</td><td></td><td></td><td>DUSTY00</td><td>Allard, DUSTY 2000</td><td>1/24/2015 1:00:00 AM</td><td>research</td><td>The DUSTY00 Model grid of theoretical spectra (Lyon group)</td><td>http://svo.cab.inta-csic.es/</td></tr>\n",
       "<tr><td>ivo://svo.cab/models/hres</td><td>1</td><td>simplespectralaccess</td><td></td><td>ivo://ivoa.net/std/ssa</td><td>vs:catalogservice</td><td>2/18/2010 8:06:05 PM</td><td></td><td>simulation</td><td></td><td>2005MNRAS.358...49M</td><td>1.0</td><td>--</td><td></td><td></td><td>HRES</td><td>A High-Resolution Stellar Library for Evolutionary Population Synthesis.</td><td>1/24/2015 1:00:00 AM</td><td>research</td><td>A High-Resolution Stellar Library for Evolutionary Population Synthesis.</td><td>http://www.iaa.es/~rosa/research/synthesis/HRES/ESPS-HRES.html</td></tr>\n",
       "<tr><td>ivo://svo.cab/models/husfeld</td><td>1</td><td>simplespectralaccess</td><td></td><td>ivo://ivoa.net/std/ssa</td><td>vs:catalogservice</td><td>8/17/2010 12:34:24 PM</td><td></td><td>simulation</td><td></td><td>http://adsabs.harvard.edu/abs/1989A%26A...222..150H</td><td>1.0</td><td>--</td><td></td><td></td><td>Husfeld</td><td>Husfeld et al models for non-LTE Helium-rich stars</td><td>1/24/2015 1:00:00 AM</td><td>research</td><td>Husfeld et al models for non-LTE Helium-rich stars</td><td>http://svo.cab.inta-csic.es/</td></tr>\n",
       "<tr><td>ivo://svo.cab/models/kurucz</td><td>1</td><td>simplespectralaccess</td><td></td><td>ivo://ivoa.net/std/ssa</td><td>vs:catalogservice</td><td>8/17/2010 12:25:50 PM</td><td></td><td>simulation</td><td></td><td>http://adsabs.harvard.edu/cgi-bin/nph-bib_query?bibcode=1997A%26A...318..841C</td><td>1.0</td><td>--</td><td></td><td></td><td>Kurucz</td><td>Kurucz ODFNEW /NOVER models</td><td>1/24/2015 1:00:00 AM</td><td>research</td><td>Kurucz ODFNEW /NOVER models. Newly computed ODFs with better opacities and better abundances have been used. (The convective treatment is described in Castelli et al. 1997, AA 318, 841.)</td><td>http://svo.cab.inta-csic.es/</td></tr>\n",
       "<tr><td>...</td><td>...</td><td>...</td><td>...</td><td>...</td><td>...</td><td>...</td><td>...</td><td>...</td><td>...</td><td>...</td><td>...</td><td>...</td><td>...</td><td>...</td><td>...</td><td>...</td><td>...</td><td>...</td><td>...</td><td>...</td></tr>\n",
       "<tr><td>ivo://lam.cesam/ssa/vvds22h/wide</td><td>1</td><td>simplespectralaccess</td><td></td><td>ivo://ivoa.net/std/ssa</td><td>vs:catalogservice</td><td>2/1/2017 9:56:33 AM</td><td></td><td></td><td></td><td></td><td></td><td>--</td><td></td><td></td><td>VVDS22h Wide</td><td>VVDS22h Wide - ASPIC Database</td><td>2/1/2017 9:56:33 AM</td><td></td><td>VVDS-F2217+00 Wide Spectroscopic catalogue</td><td>http://cesam.lam.fr/aspic-vo/aspic_vvds_f22_wide/q/ssa/info</td></tr>\n",
       "<tr><td>ivo://lam.cesam/ssa/vvds2h/deep</td><td>1</td><td>simplespectralaccess</td><td></td><td>ivo://ivoa.net/std/ssa</td><td>vs:catalogservice</td><td>2/1/2017 9:57:39 AM</td><td></td><td></td><td></td><td></td><td></td><td>--</td><td></td><td></td><td>VVDS2h Deep</td><td>VVDS2h Deep - ASPIC Database</td><td>2/1/2017 9:57:39 AM</td><td></td><td>VVDS-F0226-04 Deep Spectroscopic catalogue</td><td>http://cesam.lam.fr/aspic-vo/aspic_vvds_f02_deep/q/ssa/info</td></tr>\n",
       "<tr><td>ivo://lam.cesam/ssa/vvds2h/ultradeep</td><td>1</td><td>simplespectralaccess</td><td></td><td>ivo://ivoa.net/std/ssa</td><td>vs:catalogservice</td><td>2/1/2017 9:59:45 AM</td><td></td><td></td><td></td><td></td><td></td><td>--</td><td></td><td></td><td>VVDS2h UDeep</td><td>VVDS2h Ultra Deep - ASPIC Database</td><td>2/1/2017 9:59:45 AM</td><td></td><td>VVDS-F0226-04 Ultra Deep Spectroscopic catalogue</td><td>http://cesam.lam.fr/aspic-vo/aspic_vvds_f02_udeep/q/ssa/info</td></tr>\n",
       "<tr><td>ivo://lam.cesam/ssa/vvds-cdfs/deep</td><td>1</td><td>simplespectralaccess</td><td></td><td>ivo://ivoa.net/std/ssa</td><td>vs:catalogservice</td><td>2/1/2017 9:50:42 AM</td><td></td><td></td><td></td><td></td><td></td><td>--</td><td></td><td></td><td>VVDS CDFS-D</td><td>VVDS-CDFS Deep - ASPIC Database</td><td>2/1/2017 9:50:42 AM</td><td></td><td>VVDS-CDFS (0332-27) Spectroscopic catalogue</td><td>http://cesam.lam.fr/aspic-vo/aspic_vvds_cdfs_deep/q/ssa/info</td></tr>\n",
       "<tr><td>ivo://org.gavo.dc/zcosmos/q/ssa</td><td>1</td><td>simplespectralaccess</td><td></td><td>ivo://ivoa.net/std/ssa</td><td>vs:catalogservice</td><td>11/9/2015 4:00:00 PM</td><td></td><td>survey</td><td>bibcode</td><td>2008Msngr.134...35L</td><td></td><td>--</td><td>optical</td><td></td><td>zCosmos SSAP</td><td>zCosmos Bright Spectroscopic Observations DR2</td><td>11/24/2015 4:39:47 PM</td><td></td><td>The zCOSMOS redshift survey used 600h on the VIMOS spectrograph spread over five observing seasons (2005-2009) to obtain spectra of about 20,000 galaxies selected to have Iab &amp;lt; 22.5 across the full 1.7 deg2 of the COSMOS field. This part, &quot;zCOSMOS-bright&quot;, was designed to yield a high and fairly uniform sampling rate (about 70%), with a high success rate in measuring redshifts (approaching 100% at 0.5 &amp;lt; z &amp;lt; 0.8), and with sufficient velocity accuracy (about 100 km/s) to efficiently map the environments of galaxies down to the scale of galaxy groups out to redshifts z ~ 1.</td><td>http://dc.zah.uni-heidelberg.de/zcosmos/q/ssa/info</td></tr>\n",
       "<tr><td>ivo://nasa.heasarc/swiftxrlog</td><td>5</td><td>simplespectralaccess</td><td></td><td>ivo://ivoa.net/std/ssa</td><td>vs:catalogservice</td><td>11/14/2017 12:00:00 AM</td><td></td><td>archive</td><td></td><td></td><td></td><td>--</td><td>gamma-ray</td><td></td><td>SwiftXRT</td><td>Swift XRT Instrument Log</td><td>11/14/2017 12:00:00 AM</td><td>research</td><td>The XRT runs only one type of configuration mode/window in a given time interval. The table therefore contains for a given time interval a single record that describes one configuration. A new record is generated when the following is changing within an observation: new operating mode , new pointing mode, or new window configuration.</td><td>https://heasarc.gsfc.nasa.gov/W3Browse/all/swiftxrlog.html</td></tr>\n",
       "<tr><td>ivo://irsa.ipac/ssa</td><td>1</td><td>simplespectralaccess</td><td></td><td>ivo://ivoa.net/std/ssa</td><td>vs:catalogservice</td><td>10/17/2017 6:00:00 PM</td><td></td><td>other</td><td></td><td></td><td>1</td><td>--</td><td></td><td></td><td>IRSA SSA</td><td>IRSA Simple Spectral Access (SSA) Protocol Service</td><td>10/17/2017 6:00:00 PM</td><td>research</td><td>This is IRSA&apos;s implementation of the IVOA Simple Spectral Access (SSA) protocol. Our SSA service allows a rich variety of searches against IRSA&apos;s varied holdings.</td><td>https://irsa.ipac.caltech.edu/ibe/ssa.html</td></tr>\n",
       "<tr><td>ivo://jvo/subaru/hds</td><td>2</td><td>simplespectralaccess</td><td>SSA interface for HDS Spectrum</td><td>ivo://ivoa.net/std/ssa</td><td>vd11:catalogservice</td><td>4/10/2008 12:00:00 AM</td><td></td><td>archive</td><td></td><td></td><td></td><td>--</td><td>optical</td><td>public</td><td>SubaruHDS</td><td>Subaru HDS Spectrum data service</td><td>4/28/2016 4:43:16 AM</td><td>research</td><td>This data service provides various data related to Subaru HDS.</td><td>http://subarutelescope.org/Observing/Instruments/HDS/index.html</td></tr>\n",
       "<tr><td>ivo://org.gavo.dc/k2c9vst/q/ssa</td><td>1</td><td>simplespectralaccess</td><td></td><td>ivo://ivoa.net/std/ssa</td><td>vs:catalogservice</td><td>4/5/2017 8:00:00 AM</td><td></td><td>archive</td><td></td><td>http://archive.eso.org/wdb/wdb/eso/sched_rep_arc/query?progid=097.C-0261(A)</td><td></td><td>--</td><td>optical</td><td></td><td>k2c9vst ssap</td><td>Coordinated microlensing survey observations with Kepler K2/C9 using VST</td><td>4/18/2017 1:10:47 PM</td><td>research</td><td>The Kepler satellite has observed the Galactic center in a campaign lasting from April until the end of June 2016 (K2/C9). The main objective of the 99 hours for the microlensing program 097.C-0261(A) using the ESO VLT Survey Telescope (VST) was to monitor the superstamp (i.e., the actually downloaded region of K2/C9) in service mode for improving the event coverage and securing some color-information. Due to weather conditions, the majority of images were taken in the red band. These are part of the present release. The exact pointing strategy was adjusted to cover the superstamp with 6 pointings and to contain as many microlensing events from earlier seasons as possible. In addition, a two-point dither was requested to reduce the impact of bad pixels and detector gaps. Consequently, some events were getting more coverage and have been observed with different CCDs. The large footprint of roughly 1 square degree and the complementary weather conditions at Cerro Paranal have lead to the coverage of 147 events (this resource&apos;s events table), but ~60 of those were already at baseline.</td><td>http://dc.zah.uni-heidelberg.de/k2c9vst/q/ssa/info</td></tr>\n",
       "<tr><td>ivo://nasa.heasarc/swiftbalog</td><td>5</td><td>simplespectralaccess</td><td></td><td>ivo://ivoa.net/std/ssa</td><td>vs:catalogservice</td><td>11/14/2017 12:00:00 AM</td><td></td><td>archive</td><td></td><td></td><td></td><td>--</td><td>gamma-ray</td><td></td><td>SwiftBAT</td><td>Swift BAT Instrument Log</td><td>11/14/2017 12:00:00 AM</td><td>research</td><td>The BAT can operate several configuration modes simultaneously. Each of the simultaneous modes is listed in separate records within this table. For a given time interval, there are several records (partially overlapping in time), each describing a single configuration/mode. The BAT modes collect data for the entire FOV but also have the capability to record rates (tag mask rate) for up to a few specific sky positions (typically 3) that correspond to a pre-assigned target ID. It is possible that at least two or more of these positions do not coincide with the BAT or NFI pointing position and therefore the target ID does necessarily coincide with Target_ID of the BAT or NFI pointing position. This table records for the position (RA and Dec) and Target_ID parameters the correct values associated to each of the mask tag data.</td><td>https://heasarc.gsfc.nasa.gov/W3Browse/all/swiftbalog.html</td></tr>\n",
       "</table>"
      ],
      "text/plain": [
       "<Table masked=True length=123>\n",
       "                ivoid                 ...\n",
       "                object                ...\n",
       "------------------------------------- ...\n",
       "           ivo://svo.cab/models/drift ...\n",
       "                 ivo://esavo/hst/ssap ...\n",
       "                 ivo://esavo/hla/ssap ...\n",
       "ivo://org.gavo.dc/flashheros/q/echssa ...\n",
       "   ivo://org.gavo.dc/flashheros/q/ssa ...\n",
       "           ivo://vopdc.obspm/gepi/h1g ...\n",
       "         ivo://svo.cab/models/dusty00 ...\n",
       "            ivo://svo.cab/models/hres ...\n",
       "         ivo://svo.cab/models/husfeld ...\n",
       "          ivo://svo.cab/models/kurucz ...\n",
       "                                  ... ...\n",
       "     ivo://lam.cesam/ssa/vvds22h/wide ...\n",
       "      ivo://lam.cesam/ssa/vvds2h/deep ...\n",
       " ivo://lam.cesam/ssa/vvds2h/ultradeep ...\n",
       "   ivo://lam.cesam/ssa/vvds-cdfs/deep ...\n",
       "      ivo://org.gavo.dc/zcosmos/q/ssa ...\n",
       "        ivo://nasa.heasarc/swiftxrlog ...\n",
       "                  ivo://irsa.ipac/ssa ...\n",
       "                 ivo://jvo/subaru/hds ...\n",
       "      ivo://org.gavo.dc/k2c9vst/q/ssa ...\n",
       "        ivo://nasa.heasarc/swiftbalog ..."
      ]
     },
     "execution_count": 163,
     "metadata": {},
     "output_type": "execute_result"
    }
   ],
   "source": [
    "# Warning:  'query' is bizarrely case-sensitive:\n",
    "tap_params[\"query\"]=\"\"\"\n",
    "    select * from rr.capability a \n",
    "    natural join rr.resource b \n",
    "    where a.cap_type='simplespectralaccess'\n",
    "    \"\"\"\n",
    "r = requests.post('http://vao.stsci.edu/RegTAP/TapService.aspx/sync', data=tap_params)\n",
    "Table.read(io.BytesIO(r.content))"
   ]
  },
  {
   "cell_type": "code",
   "execution_count": null,
   "metadata": {
    "collapsed": true
   },
   "outputs": [],
   "source": []
  },
  {
   "cell_type": "code",
   "execution_count": null,
   "metadata": {
    "collapsed": true
   },
   "outputs": [],
   "source": []
  },
  {
   "cell_type": "markdown",
   "metadata": {},
   "source": [
    "The above could be done with a suitable TAP query as well, uploading the table to cross-correlate instead of looping.  "
   ]
  },
  {
   "cell_type": "code",
   "execution_count": null,
   "metadata": {
    "collapsed": true
   },
   "outputs": [],
   "source": [
    "## These are defined in the TAP standard:\n",
    "cc_params={\n",
    "    'lang': 'ADQL', \n",
    "    'request': 'doQuery',\n",
    "    'upload':'mytable,param:uplt'\n",
    "    }\n",
    "## This is your ADQL query, where \"mytable\" here has to \n",
    "##  match what you specified in the upload parameter above\n",
    "cc_params[\"query\"]=\"\"\"\n",
    "    SELECT cat.ra, cat.dec, Radial_Velocity \n",
    "    FROM twomassrsc cat, tap_upload.mytable mt \n",
    "    WHERE\n",
    "    contains(point('ICRS',cat.ra,cat.dec),circle('ICRS',mt.ra,mt.dec,0.1))=1\n",
    "    ORDER by cat.ra\"\"\"\n",
    "## The name you give here (tab1) matches what's in the cc_params\n",
    "files={'uplt':open('new_votable.xml', 'rb')}\n",
    "r = requests.post('https://heasarc.gsfc.nasa.gov/xamin/vo/tap/sync',data=cc_params,stream=True,files=files)\n",
    "mytable=Table.read(io.BytesIO(r.content))\n",
    "mytable"
   ]
  },
  {
   "cell_type": "code",
   "execution_count": null,
   "metadata": {
    "collapsed": true
   },
   "outputs": [],
   "source": []
  },
  {
   "cell_type": "markdown",
   "metadata": {},
   "source": [
    "<a id=\"ssa\"></a>\n",
    "# 6. SSA:  Using the Simple Spectral Access protocol to retrieve spectra."
   ]
  },
  {
   "cell_type": "markdown",
   "metadata": {},
   "source": [
    "<div class=\"alert alert-block alert-danger\">\n",
    "For now, a place-holder example with a Crab spectrum.  Replace if/when we find something scientifically interesting above with our galaxies.  \n",
    "</div>"
   ]
  },
  {
   "cell_type": "code",
   "execution_count": 156,
   "metadata": {
    "collapsed": false
   },
   "outputs": [
    {
     "data": {
      "text/html": [
       "&lt;Table masked=True length=40&gt;\n",
       "<table id=\"table4488518680\" class=\"table-striped table-bordered table-condensed\">\n",
       "<thead><tr><th>obsid</th><th>status</th><th>name</th><th>ra</th><th>dec</th><th>time</th><th>detector</th><th>grating</th><th>exposure</th><th>type</th><th>pi</th><th>public_date</th><th>SSA_datalength</th><th>SSA_datamodel</th><th>SSA_title</th><th>SSA_instrument</th><th>SSA_publisher</th><th>SSA_tmid</th><th>SSA_stop_time</th><th>SSA_start_time</th><th>SSA_duration</th><th>SSA_bandpass</th><th>SSA_wavelength_max</th><th>SSA_wavelength_min</th><th>SSA_bandwidth</th><th>SSA_ra</th><th>SSA_dec</th><th>SSA_coord_obs</th><th>SSA_fov</th><th>SSA_reference</th><th>SSA_format</th></tr></thead>\n",
       "<thead><tr><th></th><th></th><th></th><th>deg</th><th>deg</th><th>mjd</th><th></th><th></th><th>s</th><th></th><th></th><th>mjd</th><th></th><th></th><th></th><th></th><th></th><th>mjd</th><th>mjd</th><th>mjd</th><th>s</th><th>meter</th><th>meter</th><th>meter</th><th>meter</th><th>deg</th><th>deg</th><th>deg</th><th>deg</th><th></th><th></th></tr></thead>\n",
       "<thead><tr><th>object</th><th>object</th><th>object</th><th>float64</th><th>float64</th><th>float64</th><th>object</th><th>object</th><th>float64</th><th>object</th><th>object</th><th>int32</th><th>object</th><th>object</th><th>object</th><th>object</th><th>object</th><th>float64</th><th>float64</th><th>float64</th><th>float64</th><th>float64</th><th>float64</th><th>float64</th><th>float64</th><th>float64</th><th>float64</th><th>float64</th><th>float64</th><th>object</th><th>object</th></tr></thead>\n",
       "<tr><td>758</td><td>archived</td><td>CRAB PULSAR</td><td>83.63333</td><td>22.01444</td><td>51574.051800000001</td><td>HRC-S</td><td>LETG</td><td>100220</td><td>GO</td><td>Weisskopf</td><td>52026</td><td>2.0</td><td>Spectrum-1.0</td><td>hrcf00758N005_pha2</td><td>HRC-S</td><td>HEASARC</td><td>51574.642396415569</td><td>51575.232213349649</td><td>51574.051800000001</td><td>100220.0</td><td>3.16159e-09</td><td>6.1991999999999999e-09</td><td>1.2397999999999999e-10</td><td>6.0752199999999996e-09</td><td>83.633330000000001</td><td>22.01444</td><td>--</td><td>0.81103500403976259</td><td>https://heasarc.gsfc.nasa.gov/FTP/chandra/data/science/ao01/cat5/758/primary/hrcf00758N005_pha2.fits.gz</td><td>application/fits</td></tr>\n",
       "<tr><td>759</td><td>archived</td><td>CRAB PULSAR</td><td>83.63333</td><td>22.01444</td><td>51576.438499999997</td><td>HRC-S</td><td>LETG</td><td>45430</td><td>GO</td><td>Weisskopf</td><td>51998</td><td>2.0</td><td>Spectrum-1.0</td><td>hrcf00759N005_pha2</td><td>HRC-S</td><td>HEASARC</td><td>51576.714687868312</td><td>51576.990141799048</td><td>51576.438499999997</td><td>45430.0</td><td>3.16159e-09</td><td>6.1991999999999999e-09</td><td>1.2397999999999999e-10</td><td>6.0752199999999996e-09</td><td>83.633330000000001</td><td>22.01444</td><td>--</td><td>0.81103500403976259</td><td>https://heasarc.gsfc.nasa.gov/FTP/chandra/data/science/ao01/cat5/759/primary/hrcf00759N005_pha2.fits.gz</td><td>application/fits</td></tr>\n",
       "<tr><td>8548</td><td>archived</td><td>CRAB PULSAR</td><td>83.63333</td><td>22.01444</td><td>54369.4925</td><td>HRC-S</td><td>LETG</td><td>9130</td><td>GO</td><td>Weisskopf</td><td>54737</td><td>2.0</td><td>Spectrum-1.0</td><td>hrcf08548N003_pha2</td><td>HRC-S</td><td>HEASARC</td><td>54369.561003189585</td><td>54369.628743354864</td><td>54369.4925</td><td>9130.0</td><td>3.16159e-09</td><td>6.1991999999999999e-09</td><td>1.2397999999999999e-10</td><td>6.0752199999999996e-09</td><td>83.633330000000001</td><td>22.01444</td><td>--</td><td>0.81103500403976259</td><td>https://heasarc.gsfc.nasa.gov/FTP/chandra/data/science/ao01/cat5/8548/primary/hrcf08548N003_pha2.fits.gz</td><td>application/fits</td></tr>\n",
       "<tr><td>9764</td><td>archived</td><td>CRAB PULSAR</td><td>83.63333</td><td>22.01444</td><td>54461.479200000002</td><td>HRC-S</td><td>LETG</td><td>3750</td><td>GO</td><td>Weisskopf</td><td>54828</td><td>2.0</td><td>Spectrum-1.0</td><td>hrcf09764N003_pha2</td><td>HRC-S</td><td>HEASARC</td><td>54461.512651364181</td><td>54461.545320274883</td><td>54461.479200000002</td><td>3750.0</td><td>3.16159e-09</td><td>6.1991999999999999e-09</td><td>1.2397999999999999e-10</td><td>6.0752199999999996e-09</td><td>83.633330000000001</td><td>22.01444</td><td>--</td><td>0.81103500403976259</td><td>https://heasarc.gsfc.nasa.gov/FTP/chandra/data/science/ao01/cat5/9764/primary/hrcf09764N003_pha2.fits.gz</td><td>application/fits</td></tr>\n",
       "<tr><td>9765</td><td>archived</td><td>CRAB PULSAR</td><td>83.63333</td><td>22.01444</td><td>54487.664799999999</td><td>HRC-S</td><td>LETG</td><td>96170</td><td>GO</td><td>Weisskopf</td><td>54856</td><td>2.0</td><td>Spectrum-1.0</td><td>hrcf09765N003_pha2</td><td>HRC-S</td><td>HEASARC</td><td>54488.245868660182</td><td>54488.826206723614</td><td>54487.664799999999</td><td>96170.0</td><td>3.16159e-09</td><td>6.1991999999999999e-09</td><td>1.2397999999999999e-10</td><td>6.0752199999999996e-09</td><td>83.633330000000001</td><td>22.01444</td><td>--</td><td>0.81103500403976259</td><td>https://heasarc.gsfc.nasa.gov/FTP/chandra/data/science/ao01/cat5/9765/primary/hrcf09765N003_pha2.fits.gz</td><td>application/fits</td></tr>\n",
       "<tr><td>3831</td><td>archived</td><td>CRAB PULSAR</td><td>83.63333</td><td>22.01444</td><td>52908.822</td><td>HRC-S</td><td>LETG</td><td>8830</td><td>GTO</td><td>Predehl</td><td>53277</td><td>2.0</td><td>Spectrum-1.0</td><td>hrcf03831N003_pha2</td><td>HRC-S</td><td>HEASARC</td><td>52908.885994156539</td><td>52908.949270707293</td><td>52908.822</td><td>8830.0</td><td>3.16159e-09</td><td>6.1991999999999999e-09</td><td>1.2397999999999999e-10</td><td>6.0752199999999996e-09</td><td>83.633330000000001</td><td>22.01444</td><td>--</td><td>0.81103500403976259</td><td>https://heasarc.gsfc.nasa.gov/FTP/chandra/data/science/ao04/cat5/3831/primary/hrcf03831N003_pha2.fits.gz</td><td>application/fits</td></tr>\n",
       "<tr><td>169</td><td>archived</td><td>CRAB PULSAR</td><td>83.63333</td><td>22.01447</td><td>51603.010600000001</td><td>ACIS-S</td><td>HETG</td><td>8900</td><td>CAL</td><td>Calibration</td><td>51689</td><td>12.0</td><td>Spectrum-1.0</td><td>acisf00169N007_e2_pha2</td><td>ACIS-S</td><td>HEASARC</td><td>51603.079412616004</td><td>51603.147502751584</td><td>51603.010600000001</td><td>8900.0</td><td>3.16159e-09</td><td>6.1991999999999999e-09</td><td>1.2397999999999999e-10</td><td>6.0752199999999996e-09</td><td>83.633330000000001</td><td>22.014469999999999</td><td>--</td><td>0.81103500403976259</td><td>https://heasarc.gsfc.nasa.gov/FTP/chandra/data/cal/ao01/cat5/169/primary/acisf00169N007_e2_pha2.fits.gz</td><td>application/fits</td></tr>\n",
       "<tr><td>169</td><td>archived</td><td>CRAB PULSAR</td><td>83.63333</td><td>22.01447</td><td>51603.010600000001</td><td>ACIS-S</td><td>HETG</td><td>8900</td><td>CAL</td><td>Calibration</td><td>51689</td><td>12.0</td><td>Spectrum-1.0</td><td>acisf00169N007_e1_pha2</td><td>ACIS-S</td><td>HEASARC</td><td>51603.079412616004</td><td>51603.147502751584</td><td>51603.010600000001</td><td>8900.0</td><td>3.16159e-09</td><td>6.1991999999999999e-09</td><td>1.2397999999999999e-10</td><td>6.0752199999999996e-09</td><td>83.633330000000001</td><td>22.014469999999999</td><td>--</td><td>0.81103500403976259</td><td>https://heasarc.gsfc.nasa.gov/FTP/chandra/data/cal/ao01/cat5/169/primary/acisf00169N007_e1_pha2.fits.gz</td><td>application/fits</td></tr>\n",
       "<tr><td>7587</td><td>archived</td><td>Crab Pulsar</td><td>83.63292</td><td>22.01447</td><td>54134.4159</td><td>ACIS-S</td><td>HETG</td><td>46170</td><td>GTO</td><td>Canizares</td><td>54502</td><td>12.0</td><td>Spectrum-1.0</td><td>acisf07587N005_pha2</td><td>ACIS-S</td><td>HEASARC</td><td>54134.695846346352</td><td>54134.975001669212</td><td>54134.4159</td><td>46170.0</td><td>3.16159e-09</td><td>6.1991999999999999e-09</td><td>1.2397999999999999e-10</td><td>6.0752199999999996e-09</td><td>83.632919999999999</td><td>22.014469999999999</td><td>--</td><td>0.81103500403976259</td><td>https://heasarc.gsfc.nasa.gov/FTP/chandra/data/science/ao08/cat5/7587/primary/acisf07587N005_pha2.fits.gz</td><td>application/fits</td></tr>\n",
       "<tr><td>...</td><td>...</td><td>...</td><td>...</td><td>...</td><td>...</td><td>...</td><td>...</td><td>...</td><td>...</td><td>...</td><td>...</td><td>...</td><td>...</td><td>...</td><td>...</td><td>...</td><td>...</td><td>...</td><td>...</td><td>...</td><td>...</td><td>...</td><td>...</td><td>...</td><td>...</td><td>...</td><td>...</td><td>...</td><td>...</td><td>...</td></tr>\n",
       "<tr><td>5554</td><td>archived</td><td>The Crab Nebula</td><td>83.64042</td><td>22.01647</td><td>53602.847399999999</td><td>ACIS-S</td><td>HETG</td><td>10180</td><td>GO</td><td>Mori</td><td>53970</td><td>12.0</td><td>Spectrum-1.0</td><td>acisf05554N003_pha2</td><td>ACIS-S</td><td>HEASARC</td><td>53602.916360441784</td><td>53602.984578109841</td><td>53602.847399999999</td><td>10180.0</td><td>3.16159e-09</td><td>6.1991999999999999e-09</td><td>1.2397999999999999e-10</td><td>6.0752199999999996e-09</td><td>83.640420000000006</td><td>22.016470000000002</td><td>--</td><td>0.81103500403976259</td><td>https://heasarc.gsfc.nasa.gov/FTP/chandra/data/science/ao06/cat5/5554/primary/acisf05554N003_pha2.fits.gz</td><td>application/fits</td></tr>\n",
       "<tr><td>5555</td><td>archived</td><td>The Crab Nebula</td><td>83.63208</td><td>22.01647</td><td>53626.258800000003</td><td>ACIS-S</td><td>HETG</td><td>9150</td><td>GO</td><td>Mori</td><td>53992</td><td>12.0</td><td>Spectrum-1.0</td><td>acisf05555N004_pha2</td><td>ACIS-S</td><td>HEASARC</td><td>53626.323185590394</td><td>53626.386823975809</td><td>53626.258800000003</td><td>9150.0</td><td>3.16159e-09</td><td>6.1991999999999999e-09</td><td>1.2397999999999999e-10</td><td>6.0752199999999996e-09</td><td>83.632080000000002</td><td>22.016470000000002</td><td>--</td><td>0.81103500403976259</td><td>https://heasarc.gsfc.nasa.gov/FTP/chandra/data/science/ao06/cat5/5555/primary/acisf05555N004_pha2.fits.gz</td><td>application/fits</td></tr>\n",
       "<tr><td>5556</td><td>archived</td><td>The Crab Nebula</td><td>83.63208</td><td>22.01647</td><td>53639.783000000003</td><td>ACIS-S</td><td>HETG</td><td>10160</td><td>GO</td><td>Mori</td><td>54006</td><td>12.0</td><td>Spectrum-1.0</td><td>acisf05556N005_pha2</td><td>ACIS-S</td><td>HEASARC</td><td>53639.856694820832</td><td>53639.929637098496</td><td>53639.783000000003</td><td>10160.0</td><td>3.16159e-09</td><td>6.1991999999999999e-09</td><td>1.2397999999999999e-10</td><td>6.0752199999999996e-09</td><td>83.632080000000002</td><td>22.016470000000002</td><td>--</td><td>0.81103500403976259</td><td>https://heasarc.gsfc.nasa.gov/FTP/chandra/data/science/ao06/cat5/5556/primary/acisf05556N005_pha2.fits.gz</td><td>application/fits</td></tr>\n",
       "<tr><td>5557</td><td>archived</td><td>The Crab Nebula</td><td>83.63208</td><td>22.01647</td><td>53668.305500000002</td><td>ACIS-S</td><td>HETG</td><td>10180</td><td>GO</td><td>Mori</td><td>54034</td><td>12.0</td><td>Spectrum-1.0</td><td>acisf05557N004_pha2</td><td>ACIS-S</td><td>HEASARC</td><td>53668.373910398841</td><td>53668.441561588312</td><td>53668.305500000002</td><td>10180.0</td><td>3.16159e-09</td><td>6.1991999999999999e-09</td><td>1.2397999999999999e-10</td><td>6.0752199999999996e-09</td><td>83.632080000000002</td><td>22.016470000000002</td><td>--</td><td>0.81103500403976259</td><td>https://heasarc.gsfc.nasa.gov/FTP/chandra/data/science/ao06/cat5/5557/primary/acisf05557N004_pha2.fits.gz</td><td>application/fits</td></tr>\n",
       "<tr><td>5558</td><td>archived</td><td>The Crab Nebula</td><td>83.63208</td><td>22.01647</td><td>53681.277800000003</td><td>ACIS-S</td><td>HETG</td><td>10170</td><td>GO</td><td>Mori</td><td>54047</td><td>12.0</td><td>Spectrum-1.0</td><td>acisf05558N004_pha2</td><td>ACIS-S</td><td>HEASARC</td><td>53681.349242449767</td><td>53681.4198891544</td><td>53681.277800000003</td><td>10170.0</td><td>3.16159e-09</td><td>6.1991999999999999e-09</td><td>1.2397999999999999e-10</td><td>6.0752199999999996e-09</td><td>83.632080000000002</td><td>22.016470000000002</td><td>--</td><td>0.81103500403976259</td><td>https://heasarc.gsfc.nasa.gov/FTP/chandra/data/science/ao06/cat5/5558/primary/acisf05558N004_pha2.fits.gz</td><td>application/fits</td></tr>\n",
       "<tr><td>6140</td><td>archived</td><td>The Crab Nebula</td><td>83.62375</td><td>22.01647</td><td>53464.3145</td><td>ACIS-S</td><td>HETG</td><td>9850</td><td>GO</td><td>Mori</td><td>53831</td><td>12.0</td><td>Spectrum-1.0</td><td>acisf06140N003_pha2</td><td>ACIS-S</td><td>HEASARC</td><td>53464.376069901853</td><td>53464.436893689352</td><td>53464.3145</td><td>9850.0</td><td>3.16159e-09</td><td>6.1991999999999999e-09</td><td>1.2397999999999999e-10</td><td>6.0752199999999996e-09</td><td>83.623750000000001</td><td>22.016470000000002</td><td>--</td><td>0.81103500403976259</td><td>https://heasarc.gsfc.nasa.gov/FTP/chandra/data/science/ao06/cat5/6140/primary/acisf06140N003_pha2.fits.gz</td><td>application/fits</td></tr>\n",
       "<tr><td>6141</td><td>archived</td><td>The Crab Nebula</td><td>83.64042</td><td>22.01647</td><td>53464.436099999999</td><td>ACIS-S</td><td>HETG</td><td>9860</td><td>GO</td><td>Mori</td><td>53831</td><td>12.0</td><td>Spectrum-1.0</td><td>acisf06141N003_pha2</td><td>ACIS-S</td><td>HEASARC</td><td>53464.499215234435</td><td>53464.561536779511</td><td>53464.436099999999</td><td>9860.0</td><td>3.16159e-09</td><td>6.1991999999999999e-09</td><td>1.2397999999999999e-10</td><td>6.0752199999999996e-09</td><td>83.640420000000006</td><td>22.016470000000002</td><td>--</td><td>0.81103500403976259</td><td>https://heasarc.gsfc.nasa.gov/FTP/chandra/data/science/ao06/cat5/6141/primary/acisf06141N003_pha2.fits.gz</td><td>application/fits</td></tr>\n",
       "<tr><td>6142</td><td>archived</td><td>The Crab Nebula</td><td>83.62375</td><td>22.01647</td><td>53684.303399999997</td><td>ACIS-S</td><td>HETG</td><td>10150</td><td>GO</td><td>Mori</td><td>54053</td><td>12.0</td><td>Spectrum-1.0</td><td>acisf06142N004_pha2</td><td>ACIS-S</td><td>HEASARC</td><td>53684.382174881364</td><td>53684.460153183565</td><td>53684.303399999997</td><td>10150.0</td><td>3.16159e-09</td><td>6.1991999999999999e-09</td><td>1.2397999999999999e-10</td><td>6.0752199999999996e-09</td><td>83.623750000000001</td><td>22.016470000000002</td><td>--</td><td>0.81103500403976259</td><td>https://heasarc.gsfc.nasa.gov/FTP/chandra/data/science/ao06/cat5/6142/primary/acisf06142N004_pha2.fits.gz</td><td>application/fits</td></tr>\n",
       "<tr><td>6143</td><td>archived</td><td>The Crab Nebula</td><td>83.64042</td><td>22.01647</td><td>53684.6247</td><td>ACIS-S</td><td>HETG</td><td>10180</td><td>GO</td><td>Mori</td><td>54053</td><td>12.0</td><td>Spectrum-1.0</td><td>acisf06143N004_pha2</td><td>ACIS-S</td><td>HEASARC</td><td>53684.694847349536</td><td>53684.764248394444</td><td>53684.6247</td><td>10180.0</td><td>3.16159e-09</td><td>6.1991999999999999e-09</td><td>1.2397999999999999e-10</td><td>6.0752199999999996e-09</td><td>83.640420000000006</td><td>22.016470000000002</td><td>--</td><td>0.81103500403976259</td><td>https://heasarc.gsfc.nasa.gov/FTP/chandra/data/science/ao06/cat5/6143/primary/acisf06143N004_pha2.fits.gz</td><td>application/fits</td></tr>\n",
       "<tr><td>4413</td><td>archived</td><td>TITAN</td><td>83.62353</td><td>22.01685</td><td>52644.650600000001</td><td>ACIS-S</td><td>HETG</td><td>10260</td><td>GO</td><td>TSUNEMI</td><td>53012</td><td>12.0</td><td>Spectrum-1.0</td><td>acisf04413N003_pha2</td><td>ACIS-S</td><td>HEASARC</td><td>52644.716662723557</td><td>52644.782006476271</td><td>52644.650600000001</td><td>10260.0</td><td>3.16159e-09</td><td>6.1991999999999999e-09</td><td>1.2397999999999999e-10</td><td>6.0752199999999996e-09</td><td>83.623530000000002</td><td>22.016850000000002</td><td>--</td><td>0.81103500403976259</td><td>https://heasarc.gsfc.nasa.gov/FTP/chandra/data/science/ao04/cat1/4413/primary/acisf04413N003_pha2.fits.gz</td><td>application/fits</td></tr>\n",
       "</table>"
      ],
      "text/plain": [
       "<Table masked=True length=40>\n",
       "obsid   status  ...    SSA_format   \n",
       "                ...                 \n",
       "object  object  ...      object     \n",
       "------ -------- ... ----------------\n",
       "   758 archived ... application/fits\n",
       "   759 archived ... application/fits\n",
       "  8548 archived ... application/fits\n",
       "  9764 archived ... application/fits\n",
       "  9765 archived ... application/fits\n",
       "  3831 archived ... application/fits\n",
       "   169 archived ... application/fits\n",
       "   169 archived ... application/fits\n",
       "  7587 archived ... application/fits\n",
       "   ...      ... ...              ...\n",
       "  5554 archived ... application/fits\n",
       "  5555 archived ... application/fits\n",
       "  5556 archived ... application/fits\n",
       "  5557 archived ... application/fits\n",
       "  5558 archived ... application/fits\n",
       "  6140 archived ... application/fits\n",
       "  6141 archived ... application/fits\n",
       "  6142 archived ... application/fits\n",
       "  6143 archived ... application/fits\n",
       "  4413 archived ... application/fits"
      ]
     },
     "execution_count": 156,
     "metadata": {},
     "output_type": "execute_result"
    }
   ],
   "source": [
    "import astropy.coordinates as coord\n",
    "crab=coord.SkyCoord.from_name(\"crab\")\n",
    "pos='{},{}'.format(crab.ra.deg,crab.dec.deg)\n",
    "params = {'table': 'chanmaster',\"POS\":pos,\"SIZE\":\".01\", \"REQUEST\":\"queryData\"}\n",
    "r = requests.get('https://heasarc.nasa.gov/xamin/vo/ssa', params=params)\n",
    "spec_table = Table.read(io.BytesIO(r.content))\n",
    "spec_table"
   ]
  },
  {
   "cell_type": "code",
   "execution_count": 157,
   "metadata": {
    "collapsed": false
   },
   "outputs": [
    {
     "data": {
      "text/html": [
       "&lt;Table length=12&gt;\n",
       "<table id=\"table4475826472\" class=\"table-striped table-bordered table-condensed\">\n",
       "<thead><tr><th>SPEC_NUM</th><th>TG_M</th><th>TG_PART</th><th>TG_SRCID</th><th>X</th><th>Y</th><th>CHANNEL [8192]</th><th>COUNTS [8192]</th><th>STAT_ERR [8192]</th><th>BACKGROUND_UP [8192]</th><th>BACKGROUND_DOWN [8192]</th><th>BIN_LO [8192]</th><th>BIN_HI [8192]</th></tr></thead>\n",
       "<thead><tr><th>int16</th><th>int16</th><th>int16</th><th>int16</th><th>float32</th><th>float32</th><th>int16</th><th>int16</th><th>float32</th><th>int16</th><th>int16</th><th>float64</th><th>float64</th></tr></thead>\n",
       "<tr><td>1</td><td>-3</td><td>1</td><td>1</td><td>4084.21</td><td>4107.53</td><td>1 .. 8192</td><td>0 .. 0</td><td>1.86603 .. 1.86603</td><td>0 .. 0</td><td>0 .. 0</td><td>7.15916666667 .. 0.333333333333</td><td>7.16 .. 0.334166666667</td></tr>\n",
       "<tr><td>2</td><td>-2</td><td>1</td><td>1</td><td>4084.21</td><td>4107.53</td><td>1 .. 8192</td><td>0 .. 0</td><td>1.86603 .. 1.86603</td><td>0 .. 0</td><td>0 .. 0</td><td>10.73875 .. 0.5</td><td>10.74 .. 0.50125</td></tr>\n",
       "<tr><td>3</td><td>-1</td><td>1</td><td>1</td><td>4084.21</td><td>4107.53</td><td>1 .. 8192</td><td>0 .. 0</td><td>1.86603 .. 1.86603</td><td>0 .. 0</td><td>0 .. 0</td><td>21.4775 .. 1.0</td><td>21.48 .. 1.0025</td></tr>\n",
       "<tr><td>4</td><td>1</td><td>1</td><td>1</td><td>4084.21</td><td>4107.53</td><td>1 .. 8192</td><td>0 .. 0</td><td>1.86603 .. 1.86603</td><td>0 .. 0</td><td>0 .. 0</td><td>21.4775 .. 1.0</td><td>21.48 .. 1.0025</td></tr>\n",
       "<tr><td>5</td><td>2</td><td>1</td><td>1</td><td>4084.21</td><td>4107.53</td><td>1 .. 8192</td><td>0 .. 0</td><td>1.86603 .. 1.86603</td><td>0 .. 0</td><td>0 .. 0</td><td>10.73875 .. 0.5</td><td>10.74 .. 0.50125</td></tr>\n",
       "<tr><td>6</td><td>3</td><td>1</td><td>1</td><td>4084.21</td><td>4107.53</td><td>1 .. 8192</td><td>0 .. 0</td><td>1.86603 .. 1.86603</td><td>0 .. 0</td><td>0 .. 0</td><td>7.15916666667 .. 0.333333333333</td><td>7.16 .. 0.334166666667</td></tr>\n",
       "<tr><td>7</td><td>-3</td><td>2</td><td>1</td><td>4084.21</td><td>4107.53</td><td>1 .. 8192</td><td>0 .. 0</td><td>1.86603 .. 1.86603</td><td>0 .. 0</td><td>0 .. 0</td><td>13.985 .. 0.333333333333</td><td>13.9866666667 .. 0.335</td></tr>\n",
       "<tr><td>8</td><td>-2</td><td>2</td><td>1</td><td>4084.21</td><td>4107.53</td><td>1 .. 8192</td><td>0 .. 0</td><td>1.86603 .. 1.86603</td><td>0 .. 0</td><td>0 .. 0</td><td>20.9775 .. 0.5</td><td>20.98 .. 0.5025</td></tr>\n",
       "<tr><td>9</td><td>-1</td><td>2</td><td>1</td><td>4084.21</td><td>4107.53</td><td>1 .. 8192</td><td>0 .. 0</td><td>1.86603 .. 1.86603</td><td>0 .. 0</td><td>0 .. 0</td><td>41.955 .. 1.0</td><td>41.96 .. 1.005</td></tr>\n",
       "<tr><td>10</td><td>1</td><td>2</td><td>1</td><td>4084.21</td><td>4107.53</td><td>1 .. 8192</td><td>0 .. 0</td><td>1.86603 .. 1.86603</td><td>0 .. 0</td><td>0 .. 0</td><td>41.955 .. 1.0</td><td>41.96 .. 1.005</td></tr>\n",
       "<tr><td>11</td><td>2</td><td>2</td><td>1</td><td>4084.21</td><td>4107.53</td><td>1 .. 8192</td><td>0 .. 0</td><td>1.86603 .. 1.86603</td><td>0 .. 0</td><td>0 .. 0</td><td>20.9775 .. 0.5</td><td>20.98 .. 0.5025</td></tr>\n",
       "<tr><td>12</td><td>3</td><td>2</td><td>1</td><td>4084.21</td><td>4107.53</td><td>1 .. 8192</td><td>0 .. 0</td><td>1.86603 .. 1.86603</td><td>0 .. 0</td><td>0 .. 0</td><td>13.985 .. 0.333333333333</td><td>13.9866666667 .. 0.335</td></tr>\n",
       "</table>"
      ],
      "text/plain": [
       "<Table length=12>\n",
       "SPEC_NUM  TG_M ...          BIN_LO [8192]              BIN_HI [8192]     \n",
       " int16   int16 ...             float64                    float64        \n",
       "-------- ----- ... ------------------------------- ----------------------\n",
       "       1    -3 ... 7.15916666667 .. 0.333333333333 7.16 .. 0.334166666667\n",
       "       2    -2 ...                 10.73875 .. 0.5       10.74 .. 0.50125\n",
       "       3    -1 ...                  21.4775 .. 1.0        21.48 .. 1.0025\n",
       "       4     1 ...                  21.4775 .. 1.0        21.48 .. 1.0025\n",
       "       5     2 ...                 10.73875 .. 0.5       10.74 .. 0.50125\n",
       "       6     3 ... 7.15916666667 .. 0.333333333333 7.16 .. 0.334166666667\n",
       "       7    -3 ...        13.985 .. 0.333333333333 13.9866666667 .. 0.335\n",
       "       8    -2 ...                  20.9775 .. 0.5        20.98 .. 0.5025\n",
       "       9    -1 ...                   41.955 .. 1.0         41.96 .. 1.005\n",
       "      10     1 ...                   41.955 .. 1.0         41.96 .. 1.005\n",
       "      11     2 ...                  20.9775 .. 0.5        20.98 .. 0.5025\n",
       "      12     3 ...        13.985 .. 0.333333333333 13.9866666667 .. 0.335"
      ]
     },
     "execution_count": 157,
     "metadata": {},
     "output_type": "execute_result"
    }
   ],
   "source": [
    "## Get the first spectrum (which has a long-ish exposure.)\n",
    "import astropy.io.fits as fits\n",
    "hdu_list=fits.open(spec_table[8]['SSA_reference'].decode()) # Byte format, so just decode() to string\n",
    "#hdu_list.info()\n",
    "table = Table(hdu_list[1].data)\n",
    "table\n"
   ]
  },
  {
   "cell_type": "code",
   "execution_count": 158,
   "metadata": {
    "collapsed": false
   },
   "outputs": [
    {
     "data": {
      "image/png": "[encoded data removed]",
      "text/plain": [
       "<matplotlib.figure.Figure at 0x10ac78278>"
      ]
     },
     "metadata": {},
     "output_type": "display_data"
    }
   ],
   "source": [
    "for i in range(len(table)):\n",
    "    ax=plt.subplot(6,2,i+1)\n",
    "    pha = plt.plot( table['CHANNEL'][i],table['COUNTS'][i])\n",
    "    ax.set_yscale('log')"
   ]
  },
  {
   "cell_type": "code",
   "execution_count": null,
   "metadata": {
    "collapsed": true
   },
   "outputs": [],
   "source": []
  },
  {
   "cell_type": "code",
   "execution_count": null,
   "metadata": {
    "collapsed": true
   },
   "outputs": [],
   "source": []
  },
  {
   "cell_type": "code",
   "execution_count": null,
   "metadata": {
    "collapsed": true
   },
   "outputs": [],
   "source": []
  },
  {
   "cell_type": "code",
   "execution_count": null,
   "metadata": {
    "collapsed": true
   },
   "outputs": [],
   "source": []
  },
  {
   "cell_type": "code",
   "execution_count": null,
   "metadata": {
    "collapsed": true
   },
   "outputs": [],
   "source": []
  }
 ],
 "metadata": {
  "kernelspec": {
   "display_name": "Python 3",
   "language": "python",
   "name": "python3"
  },
  "language_info": {
   "codemirror_mode": {
    "name": "ipython",
    "version": 3
   },
   "file_extension": ".py",
   "mimetype": "text/x-python",
   "name": "python",
   "nbconvert_exporter": "python",
   "pygments_lexer": "ipython3",
   "version": "3.5.2"
  }
 },
 "nbformat": 4,
 "nbformat_minor": 1
}
