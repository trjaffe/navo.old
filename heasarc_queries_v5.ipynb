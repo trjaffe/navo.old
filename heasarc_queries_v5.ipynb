{
 "cells": [
  {
   "cell_type": "markdown",
   "metadata": {},
   "source": [
    "# Draft notebook:  HEASARC access through python\n",
    "This notebook goes through examples of how to access HEASARC data, whether catalogs, images, or spectra, using various VO protocols.  The various services are described on the __[HEASARC VO](https://heasarc.gsfc.nasa.gov/docs/archive/vo/)__ page.  In summary:\n",
    "* [Example 1](#example1): using TAP to retrieve HEASARC services\n",
    "* [Example 2](#example2): HEASARC catalogs can be fetched as VOTable XML results\n",
    "* [Example 3](#example3): SkyView images can be retrieved with the SIA protocol.\n",
    "* [Example 4](#example4): Spectra can be retrieved with the SSA protocol\n",
    "* [Example 5](#example5): a cone search can retrieve subsets of HEASARC catalogs.\n",
    "* [Example 6](#example6): pyvo for TAP upload and cross-correlation "
   ]
  },
  {
   "cell_type": "markdown",
   "metadata": {},
   "source": [
    "## To do:\n",
    "<div class=\"alert alert-block alert-danger\">\n",
    "- reorder examples into a coherent scientific narative with a real use case?<br>\n",
    "- replace pyvo with requests upload<br>\n",
    "</div>"
   ]
  },
  {
   "cell_type": "markdown",
   "metadata": {},
   "source": [
    "## Notes:\n",
    "\n",
    "There are a number of ways to use VO services through Python.  From the AstroQuery web page (https://astroquery.readthedocs.io/en/latest/):\n",
    "\n",
    "<div class=\"alert alert-block alert-info\">\"There are two other packages with complimentary functionality as Astroquery: astropy.vo is in the Astropy core and pyvo is an Astropy affiliated package. They are more oriented to general virtual observatory discovery and queries, whereas Astroquery has web service specific interfaces.\"</div>\n",
    "    \n",
    "For this notebook, we will stick with the generic python requests method.  There is as yet no single standardized set of Python tools for accessing VO data.  \n"
   ]
  },
  {
   "cell_type": "code",
   "execution_count": 21,
   "metadata": {
    "collapsed": true
   },
   "outputs": [],
   "source": [
    "import matplotlib\n",
    "import matplotlib.pyplot as plt\n",
    "%matplotlib inline  \n",
    "## There are a number of relatively unimportant warnings that \n",
    "## show up, so for now, suppress them:\n",
    "import warnings\n",
    "warnings.filterwarnings(\"ignore\")"
   ]
  },
  {
   "cell_type": "markdown",
   "metadata": {},
   "source": [
    "<a id=\"example1\"></a>\n",
    "# Example 1:  Using Table Access Protocol\n",
    "\n",
    "The __[IVOA TAP document](http://www.ivoa.net/documents/TAP/20100327/REC-TAP-1.0.html)__ describes the Table Access Protocol (TAP) that consist of an HTTP request to a given TAP service URL formed in a particular language (ADQL in this case) to specify what you wish to search for. \n",
    "\n",
    "## 1.1 A simple example to search a single catalog\n",
    "Here, we will use a HEASARC catalog called 'zcat' that has columns including RA, DEC, and Bmag. The selection criteria match a single source.  "
   ]
  },
  {
   "cell_type": "markdown",
   "metadata": {},
   "source": [
    "### Sending the query"
   ]
  },
  {
   "cell_type": "code",
   "execution_count": 2,
   "metadata": {
    "collapsed": false
   },
   "outputs": [],
   "source": [
    "import requests\n",
    "#  The requests package will convert human-readable parameters \n",
    "#  into the correct HTTP request format.  This is a generic utility,\n",
    "#  and   \n",
    "tap_params = {\n",
    "    \"request\":\"doQuery\",\n",
    "    \"lang\":\"ADQL\",\n",
    "    \"query\":\n",
    "    \"\"\"SELECT * FROM zcat as cat where \n",
    "    cat.RA > 191. and cat.RA < 192 and cat.Dec > 30. and cat.Dec < 31 and cat.Bmag > 14.9\"\"\"\n",
    "    }\n",
    "r = requests.get('https://heasarc.gsfc.nasa.gov/xamin/vo/tap/sync', params=tap_params)\n"
   ]
  },
  {
   "cell_type": "markdown",
   "metadata": {},
   "source": [
    "### Looking at the result"
   ]
  },
  {
   "cell_type": "markdown",
   "metadata": {},
   "source": [
    "The response content is in XML in a VO Table standard:"
   ]
  },
  {
   "cell_type": "code",
   "execution_count": 3,
   "metadata": {
    "collapsed": false
   },
   "outputs": [
    {
     "name": "stdout",
     "output_type": "stream",
     "text": [
      "https://heasarc.gsfc.nasa.gov/xamin/vo/tap/sync?lang=ADQL&query=SELECT+%2A+FROM+zcat+as+cat+where+%0A++++cat.RA+%3E+191.+and+cat.RA+%3C+192+and+cat.Dec+%3E+30.+and+cat.Dec+%3C+31+and+cat.Bmag+%3E+14.9&request=doQuery\n"
     ]
    }
   ],
   "source": [
    "# To see the URL that requests constructed from the parameters given:\n",
    "print r.url\n",
    "### r.content returns type str while r.text returns type unicode.\n",
    "#print r.content"
   ]
  },
  {
   "cell_type": "markdown",
   "metadata": {},
   "source": [
    "### Reading the VO table object\n",
    "(There will be warnings that can be ignored.)"
   ]
  },
  {
   "cell_type": "code",
   "execution_count": 4,
   "metadata": {
    "collapsed": false
   },
   "outputs": [
    {
     "name": "stderr",
     "output_type": "stream",
     "text": [
      "/Users/Shared/Library/Frameworks/Python.framework/Versions/2.7/lib/python2.7/site-packages/astropy/utils/data.py:220: UnicodeWarning: Unicode equal comparison failed to convert both arguments to Unicode - interpreting them as being unequal\n",
      "  if signature[:3] == b'\\x1f\\x8b\\x08':  # gzip\n",
      "/Users/Shared/Library/Frameworks/Python.framework/Versions/2.7/lib/python2.7/site-packages/astropy/utils/data.py:260: UnicodeWarning: Unicode equal comparison failed to convert both arguments to Unicode - interpreting them as being unequal\n",
      "  elif signature[:3] == b'\\xfd7z':  # xz\n",
      "WARNING: W42: None:2:0: W42: No XML namespace specified [astropy.io.votable.exceptions]\n"
     ]
    },
    {
     "data": {
      "text/plain": [
       "<Table masked=True length=1>\n",
       "__row  name          ra         ...      __y_ra_dec           __z_ra_dec    \n",
       "int32 object      float64       ...       float64              float64      \n",
       "----- ------ ------------------ ... -------------------- -------------------\n",
       "44890 N4676A 191.54198643000001 ... -0.84218280700419401 0.51102705631205503"
      ]
     },
     "execution_count": 4,
     "metadata": {},
     "output_type": "execute_result"
    }
   ],
   "source": [
    "from astropy.io import votable \n",
    "import io\n",
    "# Then we convert the resulting XML into a VOTable object.  This parse() expects a file,\n",
    "#  so we use io.StringIO() to create a temporary \"file-like\" object from the \n",
    "#  XML text:\n",
    "vot=votable.parse(io.StringIO(r.text))\n",
    "### Since there could be multiple tables in the XML, \n",
    "table = vot.get_first_table()\n",
    "table"
   ]
  },
  {
   "cell_type": "markdown",
   "metadata": {},
   "source": [
    "## 1.2 Using TAP to find HEASARC services\n",
    "In the above example, we knew the catalog we wanted, the 'zcat'.  This information is in a registry of VO services, which you can browse using the __[NAVO Directory](http://vao.stsci.edu/keyword-search/)__ and entering ID=nasa.heasarc.\n",
    "\n",
    "But you can also find out what HEASARC services are available by querying the registry of services with TAP itself if you prefer. In this example, we will look for Simple Image Access (SIA) services. In this case, the resulting table (by construction in ADQL) contains only the name and description of the SIA service.  "
   ]
  },
  {
   "cell_type": "code",
   "execution_count": 5,
   "metadata": {
    "collapsed": false
   },
   "outputs": [
    {
     "name": "stderr",
     "output_type": "stream",
     "text": [
      "WARNING: W32: None:8:3: W32: Duplicate ID 'value' renamed to 'value_2' to ensure uniqueness [astropy.io.votable.exceptions]\n",
      "WARNING: W33: None:8:3: W33: Column name 'value' renamed to 'value 2' to ensure uniqueness [astropy.io.votable.exceptions]\n"
     ]
    },
    {
     "data": {
      "text/plain": [
       "<Table masked=True length=15>\n",
       "   value                         value_2                      \n",
       "   object                         object                      \n",
       "----------- --------------------------------------------------\n",
       " ascamaster                                ASCA Master Catalog\n",
       "    ascasis                            ASCA SIS Source Catalog\n",
       " chanmaster                               Chandra Observations\n",
       "   numaster                              NuSTAR Master Catalog\n",
       " rassmaster                 ROSAT All-Sky Survey Archival Data\n",
       "     roshri          ROSAT Results Archive Sources for the HRI\n",
       "roshritotal ROSAT Complete Results Archive Sources for the HRI\n",
       "  rosmaster                                ROSAT Archival Data\n",
       "    rospspc         ROSAT Results Archive Sources for the PSPC\n",
       " suzamaster                              Suzaku Master Catalog\n",
       " swiftbalog                           Swift BAT Instrument Log\n",
       " swiftuvlog                          Swift UVOT Instrument Log\n",
       " swiftxrlog                           Swift XRT Instrument Log\n",
       "   tartarus      Tartarus: Reduced ASCA AGN Data (Version 3.1)\n",
       "  xmmmaster             XMM-Newton Master Log & Public Archive"
      ]
     },
     "execution_count": 5,
     "metadata": {},
     "output_type": "execute_result"
    }
   ],
   "source": [
    "tap_params[\"query\"]=\"\"\"\n",
    "    select distinct a.value,b.value\n",
    "       from metainfo a, metainfo b\n",
    "       where\n",
    "         a.type='sialink' and a.relation='table' and\n",
    "         b.type='table' and b.relation='description' and\n",
    "         a.value=b.name\n",
    "       order by a.value\n",
    "       \"\"\"\n",
    "r = requests.get('https://heasarc.gsfc.nasa.gov/xamin/vo/tap/sync', params=tap_params)\n",
    "vot=votable.parse(io.StringIO(r.text))\n",
    "table = vot.get_first_table()\n",
    "table"
   ]
  },
  {
   "cell_type": "markdown",
   "metadata": {},
   "source": [
    "There are similar ways to construct queries for different types of services, e.g., Simple Spectral Access (SIA) Protocol or Cone Search.  See below for examples."
   ]
  },
  {
   "cell_type": "markdown",
   "metadata": {
    "collapsed": true
   },
   "source": [
    "<div class=\"alert alert-block alert-danger\">\n",
    "(Why isn't this the 88 from the NAVO Directory or SkyView?  What's the subset xamin sees?  I think it's only what TomM has gotten around to entering in the right place?)\n",
    "</div>\n",
    "\n",
    "<div class=\"alert alert-block alert-danger\">\n",
    "This would be useful to code as a function, e.g.,<br>\n",
    "astroquery.heasarc.list_sia_services()<br>\n",
    "though it should then include the skyview services instead/in addition?\n",
    "</div>"
   ]
  },
  {
   "cell_type": "markdown",
   "metadata": {},
   "source": [
    "<a id=\"example2\"></a>\n",
    "## Example 2:  Retrieving a HEASARC catalog as VOTable\n",
    "\n",
    "<div class=\"alert alert-block alert-danger\">\n",
    "Maybe move this up?  First introduce VOTable format and the votable package?  then this example, and then the TAP access currently above?</div>\n",
    "\n",
    "HEASARC's __[Browse](https://heasarc.gsfc.nasa.gov/cgi-bin/W3Browse/w3browse.pl)__ can be used interactively to output a VOTable formatted XML result.  It also has a simple VO interface that we can access using the standard python requests package, as in this example:  \n",
    "\n",
    "(Note that this is fetching the entire 'rosmaster' catalog of 11k lines.  Give it a few seconds.)"
   ]
  },
  {
   "cell_type": "code",
   "execution_count": 6,
   "metadata": {
    "collapsed": false
   },
   "outputs": [],
   "source": [
    "params = {'name': 'rosmaster'}\n",
    "r = requests.get('http://heasarc.gsfc.nasa.gov/cgi-bin/W3Browse/getvotable.pl', params=params)\n",
    "#r.text"
   ]
  },
  {
   "cell_type": "code",
   "execution_count": 22,
   "metadata": {
    "collapsed": false
   },
   "outputs": [],
   "source": [
    "vot=votable.parse( io.StringIO(r.text) )\n",
    "table = vot.get_first_table()"
   ]
  },
  {
   "cell_type": "code",
   "execution_count": 8,
   "metadata": {
    "collapsed": false,
    "scrolled": true
   },
   "outputs": [
    {
     "name": "stdout",
     "output_type": "stream",
     "text": [
      "<class 'astropy.io.votable.tree.Table'>\n"
     ]
    },
    {
     "data": {
      "text/plain": [
       "<Table masked=True length=11431>\n",
       "    col1      col2     col3     col4     col5   ... col25 col26 col27 col28\n",
       "              deg      deg      deg      deg    ...  deg    d     d        \n",
       "   str16    float64  float64  float64  float64  ... int16 int32 int32 int16\n",
       "----------- -------- -------- -------- -------- ... ----- ----- ----- -----\n",
       "RH202299N00  49.3200 -85.5400 299.8517 -30.6815 ...   307  2163  2177  2900\n",
       "RH202299A01  49.3200 -85.5400 299.8517 -30.6815 ...   162  2316  2369  2900\n",
       "RP200594N00 151.8800 -85.0800 299.4192 -23.3707 ...    66   648   657  2900\n",
       "RH201328N00 107.9100 -84.4700 296.7740 -26.5072 ...   215   850   851  2900\n",
       "RH400876A01 193.9400 -83.3700 303.0651 -20.4994 ...   299  2699  2733  9999\n",
       "RH400876N00 193.9400 -83.3700 303.0651 -20.4994 ...    85  2543  2543  9999\n",
       "RH400877A02 190.1700 -83.3600 302.6001 -20.4952 ...    90  2893  2895  9999\n",
       "RH400877A01 190.1700 -83.3600 302.6001 -20.4952 ...   260  2733  2733  9999\n",
       "RH400877N00 190.1700 -83.3600 302.6001 -20.4952 ...    81  2543  2543  9999\n",
       "        ...      ...      ...      ...      ... ...   ...   ...   ...   ...\n",
       "RH180091N00 172.0200  85.5500 124.7826  31.2749 ...   272  2158  2158  2900\n",
       "RP900512N00 110.3000  85.7000 127.7445  27.6030 ...   132  1196  1196  3900\n",
       "RP900513N00 114.7000  85.7000 127.6963  27.9300 ...   128  1196  1196  3900\n",
       "RP900161N00 111.7200  85.7500 127.6760  27.7031 ...    12   704   706  3900\n",
       "RH600498A01 111.8000  85.7600 127.6640  27.7078 ...   140  1573  1575  6900\n",
       "RH600498N00 111.8000  85.7600 127.6640  27.7078 ...   336  1406  1410  6900\n",
       "RH800780N00 261.1700  85.8900 118.5825  28.5800 ...   190  2161  2165  5000\n",
       "RH702064N00  35.7700  86.3200 124.4960  23.7300 ...    54  2160  2162  7000\n",
       "RH202532A01  37.9600  89.2600 123.2826  26.4577 ...    47  2529  2530  2900\n",
       "RH202532N00  37.9600  89.2600 123.2826  26.4577 ...   254  2370  2370  2900"
      ]
     },
     "execution_count": 8,
     "metadata": {},
     "output_type": "execute_result"
    }
   ],
   "source": [
    "print type(table)\n",
    "table"
   ]
  },
  {
   "cell_type": "markdown",
   "metadata": {},
   "source": [
    "<a id=\"example3\"></a>\n",
    "## Example 3:   __[HEASARC VO](https://heasarc.gsfc.nasa.gov/docs/archive/vo/instructions.html#_accessing)__  example with SkyView and SIA:\n",
    "\n",
    "This example uses the __[SkyView](https://skyview.gsfc.nasa.gov)__ example from the __[HEASARC VO](https://heasarc.gsfc.nasa.gov/docs/archive/vo/instructions.html#_accessing)__ page.  In this case, the SIA protocol is also used, but the SkyView resources (e.g., \"swiftuvotuint\" in this case) are not listed in the Xamin TAP access above, so you don't see this one there.  You can, however find it from the main NAVO registry:\n",
    "\n"
   ]
  },
  {
   "cell_type": "markdown",
   "metadata": {},
   "source": [
    "## 3.1:  Finding SkyView SIA resources from the NAVO directory with TAP\n",
    "\n",
    "First, we can find out what SIA resources are available through SkyView.  (Note that this is not the same as the HEASARC's SIA service through Xamin above.  More surveys are available through SkyView.)  "
   ]
  },
  {
   "cell_type": "code",
   "execution_count": 9,
   "metadata": {
    "collapsed": false
   },
   "outputs": [
    {
     "data": {
      "text/plain": [
       "<Table masked=True length=88>\n",
       "short_name                ivoid                      cap_type    \n",
       "  object                  object                      object     \n",
       "---------- ------------------------------------ -----------------\n",
       "   1420MHz   ivo://nasa.heasarc/skyview/1420mhz simpleimageaccess\n",
       "     2MASS     ivo://nasa.heasarc/skyview/2mass simpleimageaccess\n",
       "    408MHz    ivo://nasa.heasarc/skyview/408mhz simpleimageaccess\n",
       "     AKARI     ivo://nasa.heasarc/skyview/akari simpleimageaccess\n",
       "      ASCA        ivo://nasa.heasarc/ascamaster simpleimageaccess\n",
       "  ASCA/AGN          ivo://nasa.heasarc/tartarus simpleimageaccess\n",
       "   ASCASIS           ivo://nasa.heasarc/ascasis simpleimageaccess\n",
       "    BATSIG    ivo://nasa.heasarc/skyview/batsig simpleimageaccess\n",
       " CDFS-LESS ivo://nasa.heasarc/skyview/cdfs-less simpleimageaccess\n",
       "   Chandra        ivo://nasa.heasarc/chanmaster simpleimageaccess\n",
       "       ...                                  ...               ...\n",
       " SwiftUVOT        ivo://nasa.heasarc/swiftuvlog simpleimageaccess\n",
       "  SwiftXRT        ivo://nasa.heasarc/swiftxrlog simpleimageaccess\n",
       "      TGSS      ivo://nasa.heasarc/skyview/tgss simpleimageaccess\n",
       "    UKIDSS    ivo://nasa.heasarc/skyview/ukidss simpleimageaccess\n",
       "      VLSS      ivo://nasa.heasarc/skyview/vlss simpleimageaccess\n",
       "     WENSS     ivo://nasa.heasarc/skyview/wenss simpleimageaccess\n",
       "     WFCF1     ivo://nasa.heasarc/skyview/wfcf1 simpleimageaccess\n",
       "      Wise      ivo://nasa.heasarc/skyview/wise simpleimageaccess\n",
       "      WMAP      ivo://nasa.heasarc/skyview/wmap simpleimageaccess\n",
       "       XMM         ivo://nasa.heasarc/xmmmaster simpleimageaccess"
      ]
     },
     "execution_count": 9,
     "metadata": {},
     "output_type": "execute_result"
    }
   ],
   "source": [
    "# Warning:  'query' is bizarrely case-sensitive:\n",
    "tap_params[\"query\"]=\"\"\"\n",
    "    select b.short_name,a.ivoid,a.cap_type from rr.capability a \n",
    "    natural join rr.resource b \n",
    "    where a.cap_type='simpleimageaccess' and a.ivoid like 'ivo://nasa.heasarc%' \n",
    "    order by short_name;\n",
    "    \"\"\"\n",
    "r = requests.post('http://vao.stsci.edu/RegTAP/TapService.aspx/sync', data=tap_params)\n",
    "#print r.url\n",
    "#  Somehow, first few characters are confusing the votable parser.\n",
    "vot=votable.parse(io.StringIO(r.text[3:]))\n",
    "table = vot.get_first_table()\n",
    "table"
   ]
  },
  {
   "cell_type": "markdown",
   "metadata": {},
   "source": [
    "<div class=\"alert alert-block alert-danger\">\n",
    "(Same question as above:  why does this come out with 88 but xamin has far fewer?)</div>\n",
    "<div class=\"alert alert-block alert-danger\">\n",
    "This would be useful as a function, e.g.,<br>\n",
    "astroquery.heasarc.list_sia_services()\n",
    "</div>"
   ]
  },
  {
   "cell_type": "markdown",
   "metadata": {},
   "source": [
    "### 3.2 Using SIA to retrieve an image from SkyView:\n",
    "\n",
    "Now we pick one of these catalogs, SwiftUVOT, and look for an object we are interested in.  This retrieves an image of the Mice interacting galaxies from the Swift UVOT data stored on the HEASARC SkyView server. (See __[the SIA definition](http://www.ivoa.net/documents/WD/SIA/sia-20040524.html)__ for usage.)"
   ]
  },
  {
   "cell_type": "code",
   "execution_count": 23,
   "metadata": {
    "collapsed": false
   },
   "outputs": [],
   "source": [
    "import astropy.coordinates as coord\n",
    "mice_coord=coord.SkyCoord.from_name(\"mice\")\n",
    "pos='{},{}'.format(mice_coord.ra.deg,mice_coord.dec.deg)\n",
    "#  Note that there's currently a bug in the default interpolation \n",
    "#  method with this particular query, so we have to set it to 'LI' here.\n",
    "params = {'survey': 'swiftuvot', 'POS': pos, 'SIZE':'0.07', \"NAXIS\":\"300,300\", \"interpolation\":\"LI\"}\n",
    "r = requests.get('https://skyview.gsfc.nasa.gov/cgi-bin/vo/sia.pl', params=params)\n",
    "vot=votable.parse( io.StringIO(r.text) )"
   ]
  },
  {
   "cell_type": "markdown",
   "metadata": {},
   "source": [
    "Look at what the vot object contains:"
   ]
  },
  {
   "cell_type": "code",
   "execution_count": 24,
   "metadata": {
    "collapsed": false
   },
   "outputs": [],
   "source": [
    "#  The URL that requests constructed from the params:\n",
    "#r.url\n",
    "###  Just look at the fields (and parameters)\n",
    "#for f in vot.iter_fields_and_params():\n",
    "#        print f"
   ]
  },
  {
   "cell_type": "markdown",
   "metadata": {},
   "source": [
    "Extract the fields you're interested in, e.g., the URLs of the images made by skyview.  Note that specifying as we did SwiftUVOT, we get a number of different images, e.g., UVOT U, V, B, W1, W2, etc.  For each survey, there are two URLs, first the FITS IMAGE and second the JPEG:"
   ]
  },
  {
   "cell_type": "code",
   "execution_count": 25,
   "metadata": {
    "collapsed": false
   },
   "outputs": [
    {
     "name": "stdout",
     "output_type": "stream",
     "text": [
      "[u'Survey', u'Ra', u'Dec', u'Dim', u'Size', u'Scale', u'Format', u'PixFlags', u'URL', u'LogicalName']\n",
      "https://skyview.gsfc.nasa.gov/cgi-bin/images?position=191.5445833%2C30.7272222&survey=swiftuvotuint&pixels=300%2C300&sampler=LI&size=0.07%2C0.07&projection=Tan&coordinates=J2000.0&requestID=skv1512050300256&return=FITS\n",
      "https://skyview.gsfc.nasa.gov/cgi-bin/images?position=191.5445833%2C30.7272222&survey=swiftuvotuint&pixels=300%2C300&sampler=LI&size=0.07%2C0.07&projection=Tan&coordinates=J2000.0&requestID=skv1512050300256&nofits=1&quicklook=jpeg&return=jpeg\n"
     ]
    }
   ],
   "source": [
    "table = vot.get_first_table()\n",
    "print [f.ID for f in table.fields]\n",
    "###  The data is a numpy record array that you can access like this, for example:\n",
    "#print table.array[4][8]\n",
    "#  Or like this\n",
    "print table.array[4]['URL']\n",
    "### To download the FITS image itself:\n",
    "print table.array[5]['URL']"
   ]
  },
  {
   "cell_type": "markdown",
   "metadata": {},
   "source": [
    "### Resulting image\n",
    "You can display it in python by\n",
    "(give it ~10 seconds to appear)\n"
   ]
  },
  {
   "cell_type": "code",
   "execution_count": 26,
   "metadata": {
    "collapsed": false
   },
   "outputs": [
    {
     "data": {
      "text/html": [
       "<img src=\"https://skyview.gsfc.nasa.gov/cgi-bin/images?position=191.5445833%2C30.7272222&survey=swiftuvotuint&pixels=300%2C300&sampler=LI&size=0.07%2C0.07&projection=Tan&coordinates=J2000.0&requestID=skv1512050300256&nofits=1&quicklook=jpeg&return=jpeg\"/>"
      ],
      "text/plain": [
       "<IPython.core.display.Image object>"
      ]
     },
     "metadata": {},
     "output_type": "display_data"
    }
   ],
   "source": [
    "from IPython.display import Image, display\n",
    "#  Note that there are bugs with some of these datasets, \n",
    "#  since they are new in SkyView.  Selecting the U-band image.\n",
    "display(Image(url=table.array['URL'][5]))"
   ]
  },
  {
   "cell_type": "markdown",
   "metadata": {},
   "source": [
    "Or download the FITS image and display it with:\n",
    "\n",
    "(This sometimes errors off with a time out message.  Just try it again.)"
   ]
  },
  {
   "cell_type": "code",
   "execution_count": 29,
   "metadata": {
    "collapsed": false
   },
   "outputs": [
    {
     "name": "stdout",
     "output_type": "stream",
     "text": [
      "Downloading https://skyview.gsfc.nasa.gov/cgi-bin/images?position=191.5445833%2C30.7272222&survey=swiftuvotuint&pixels=300%2C300&sampler=LI&size=0.07%2C0.07&projection=Tan&coordinates=J2000.0&requestID=skv1512050300256&return=FITS [Done]\n"
     ]
    },
    {
     "data": {
      "text/plain": [
       "<matplotlib.image.AxesImage at 0x116eba110>"
      ]
     },
     "execution_count": 29,
     "metadata": {},
     "output_type": "execute_result"
    },
    {
     "data": {
      "image/png": "[encoded data removed]",
      "text/plain": [
       "<matplotlib.figure.Figure at 0x1136e4b90>"
      ]
     },
     "metadata": {},
     "output_type": "display_data"
    }
   ],
   "source": [
    "import astropy.io.fits as fits\n",
    "hdu_list=fits.open(table.array['URL'][4])\n",
    "plt.imshow(hdu_list[0].data, cmap='gray', origin='lower')"
   ]
  },
  {
   "cell_type": "markdown",
   "metadata": {},
   "source": [
    "<div class=\"alert alert-block alert-danger\">\n",
    "Need a note on why these look like they have different noise properties?<br><br>\n",
    "And why does it so frequently time out?\n",
    "</div>"
   ]
  },
  {
   "cell_type": "markdown",
   "metadata": {},
   "source": [
    "### A related example with multiple VO interfaces\n",
    "A very similar example uses the SkyView SIA protocol to retrieve an image from a different survey, SDSS, which is not held on the HEASARC SkyView server but at MAST.  In this case, the user is unaware of where the data come from, which is the point.  But under the hood, SkyView is using SIA to get the data from MAST.  \n",
    "\n",
    "(Again, it will take a few seconds for the image to appear.)"
   ]
  },
  {
   "cell_type": "code",
   "execution_count": 16,
   "metadata": {
    "collapsed": false
   },
   "outputs": [],
   "source": [
    "params['survey']='sdssg'\n",
    "r = requests.get('https://skyview.gsfc.nasa.gov/cgi-bin/vo/sia.pl', params=params)"
   ]
  },
  {
   "cell_type": "code",
   "execution_count": 17,
   "metadata": {
    "collapsed": false
   },
   "outputs": [
    {
     "data": {
      "text/html": [
       "<img src=\"https://skyview.gsfc.nasa.gov/cgi-bin/images?position=191.5445833%2C30.7272222&survey=sdssg&pixels=300%2C300&sampler=LI&size=0.07%2C0.07&projection=Tan&coordinates=J2000.0&requestID=skv1512050184645&nofits=1&quicklook=jpeg&return=jpeg\"/>"
      ],
      "text/plain": [
       "<IPython.core.display.Image object>"
      ]
     },
     "metadata": {},
     "output_type": "display_data"
    }
   ],
   "source": [
    "vot=votable.parse( io.StringIO( r.text) )\n",
    "table = vot.get_first_table()\n",
    "#fitslink=table.array['URL'][0]\n",
    "#print fitslink\n",
    "display(Image(url=table.array['URL'][1]))"
   ]
  },
  {
   "cell_type": "markdown",
   "metadata": {},
   "source": [
    "<a id=\"example4\"></a>\n",
    "# Example 4:  HEASARC spectra retrieval\n",
    "In addition to images, there are some spectra that can be retrieved from the HEASARC via the VO's Simple Spectral Access (SSA) Protocol. \n",
    "\n",
    "## 4.1 To see a list of available catalogs:\n",
    "Currently, HEASARC has four catalogs that allow access to spectra through SSA.  "
   ]
  },
  {
   "cell_type": "code",
   "execution_count": 18,
   "metadata": {
    "collapsed": false
   },
   "outputs": [
    {
     "data": {
      "text/plain": [
       "<Table masked=True length=4>\n",
       "  value               value_2            \n",
       "  object               object            \n",
       "---------- ------------------------------\n",
       "chanmaster           Chandra Observations\n",
       "    intbsc INTEGRAL Bright Source Catalog\n",
       "swiftbalog       Swift BAT Instrument Log\n",
       "swiftxrlog       Swift XRT Instrument Log"
      ]
     },
     "execution_count": 18,
     "metadata": {},
     "output_type": "execute_result"
    }
   ],
   "source": [
    "tap_params[\"query\"]=\"\"\"\n",
    "    select distinct a.value,b.value\n",
    "       from metainfo a, metainfo b\n",
    "       where\n",
    "        a.type='ssalink' and a.relation='table' and\n",
    "        b.type='table' and b.relation='description' and\n",
    "        a.value=b.name\n",
    "    order by a.value\n",
    "    \"\"\"\n",
    "r = requests.get('https://heasarc.gsfc.nasa.gov/xamin/vo/tap/sync', params=tap_params)\n",
    "vot=votable.parse(io.StringIO(r.text))\n",
    "table = vot.get_first_table()\n",
    "table"
   ]
  },
  {
   "cell_type": "markdown",
   "metadata": {},
   "source": [
    "<div class=\"alert alert-block alert-danger\">\n",
    "This would be useful as a function, e.g.,<br>\n",
    "astroquery.heasarc.list_ssa_services()\n",
    "</div>"
   ]
  },
  {
   "cell_type": "markdown",
   "metadata": {},
   "source": [
    "## 4.2 We can then search for the available Chandra spectra in a given region:"
   ]
  },
  {
   "cell_type": "code",
   "execution_count": 30,
   "metadata": {
    "collapsed": false
   },
   "outputs": [],
   "source": [
    "params = {'table': 'chanmaster',\"POS\":\"187.27,2.05\",\"SIZE\":\".01\", \"REQUEST\":\"queryData\"}\n",
    "r = requests.get('https://heasarc.nasa.gov/xamin/vo/ssa', params=params)\n",
    "spec_vot=votable.parse(io.StringIO(r.text))\n",
    "spec_table = spec_vot.get_first_table()"
   ]
  },
  {
   "cell_type": "code",
   "execution_count": 31,
   "metadata": {
    "collapsed": false
   },
   "outputs": [
    {
     "name": "stdout",
     "output_type": "stream",
     "text": [
      "obsid\n",
      "status\n",
      "name\n",
      "ra\n",
      "dec\n",
      "time\n",
      "detector\n",
      "grating\n",
      "exposure\n",
      "type\n",
      "pi\n",
      "public_date\n",
      "SSA_datalength\n",
      "SSA_datamodel\n",
      "SSA_title\n",
      "SSA_instrument\n",
      "SSA_publisher\n",
      "SSA_tmid\n",
      "SSA_stop_time\n",
      "SSA_start_time\n",
      "SSA_duration\n",
      "SSA_bandpass\n",
      "SSA_wavelength_max\n",
      "SSA_wavelength_min\n",
      "SSA_bandwidth\n",
      "SSA_ra\n",
      "SSA_dec\n",
      "SSA_coord_obs\n",
      "SSA_fov\n",
      "SSA_reference\n",
      "SSA_format\n"
     ]
    }
   ],
   "source": [
    "for f in spec_table.fields:\n",
    "        print f.ID"
   ]
  },
  {
   "cell_type": "code",
   "execution_count": 32,
   "metadata": {
    "collapsed": false
   },
   "outputs": [
    {
     "name": "stdout",
     "output_type": "stream",
     "text": [
      "[ 'https://heasarc.gsfc.nasa.gov/FTP/chandra/data/science/ao08/cat7/7364/primary/acisf07364N004_pha2.fits.gz'\n",
      " 'https://heasarc.gsfc.nasa.gov/FTP/chandra/data/science/ao08/cat7/7365/primary/acisf07365N002_pha2.fits.gz'\n",
      " 'https://heasarc.gsfc.nasa.gov/FTP/chandra/data/cal/ao01/cat7/459/primary/acisf00459N004_pha2.fits.gz']\n"
     ]
    }
   ],
   "source": [
    "print spec_table.array[0:3]['SSA_reference']"
   ]
  },
  {
   "cell_type": "markdown",
   "metadata": {},
   "source": [
    "## 4.3  Download a spectrum and plot it:\n"
   ]
  },
  {
   "cell_type": "code",
   "execution_count": 33,
   "metadata": {
    "collapsed": false
   },
   "outputs": [
    {
     "name": "stdout",
     "output_type": "stream",
     "text": [
      "ColDefs(\n",
      "    name = 'SPEC_NUM'; format = '1I'; null = 0\n",
      "    name = 'TG_M'; format = '1I'; null = 99\n",
      "    name = 'TG_PART'; format = '1I'\n",
      "    name = 'TG_SRCID'; format = '1I'; null = 0\n",
      "    name = 'X'; format = '1E'; unit = 'pixel'\n",
      "    name = 'Y'; format = '1E'; unit = 'pixel'\n",
      "    name = 'CHANNEL'; format = '8192I'; null = 0\n",
      "    name = 'COUNTS'; format = '8192I'; unit = 'count'; null = -1\n",
      "    name = 'STAT_ERR'; format = '8192E'; unit = 'count'\n",
      "    name = 'BACKGROUND_UP'; format = '8192I'; unit = 'count'; null = -1\n",
      "    name = 'BACKGROUND_DOWN'; format = '8192I'; unit = 'count'; null = -1\n",
      "    name = 'BIN_LO'; format = '8192D'; unit = 'angstrom'\n",
      "    name = 'BIN_HI'; format = '8192D'; unit = 'angstrom'\n",
      ")\n"
     ]
    },
    {
     "data": {
      "image/png": "[encoded data removed]",
      "text/plain": [
       "<matplotlib.figure.Figure at 0x11676cd10>"
      ]
     },
     "metadata": {},
     "output_type": "display_data"
    }
   ],
   "source": [
    "from astropy.table import Table\n",
    "hdu_list=fits.open(spec_table.array[0]['SSA_reference'])\n",
    "#hdu_list.info()\n",
    "print hdu_list[1].columns\n",
    "table = Table(hdu_list[1].data)\n",
    "pha = plt.plot( table['CHANNEL'][8],table['COUNTS'][8])"
   ]
  },
  {
   "cell_type": "markdown",
   "metadata": {},
   "source": [
    "<div class=\"alert alert-block alert-danger\">\n",
    "Better way to plot this?</div>"
   ]
  },
  {
   "cell_type": "markdown",
   "metadata": {
    "collapsed": true
   },
   "source": [
    "<a id=\"example5\"></a>\n",
    "# Example 5:  Search a cone\n",
    "The __[Simple Cone Search (SCS) protocol](http://www.ivoa.net/documents/latest/ConeSearch.html)__ is used to search a given table with a given position and radius, getting again a VOTable XML result.  "
   ]
  },
  {
   "cell_type": "markdown",
   "metadata": {},
   "source": [
    "## 5.1 Find SCS services for HEASARC\n",
    "As above, first we use the TAP to find out what catalogs are available from HEASARC for cone searches:\n"
   ]
  },
  {
   "cell_type": "code",
   "execution_count": 34,
   "metadata": {
    "collapsed": false
   },
   "outputs": [
    {
     "data": {
      "text/plain": [
       "<Table masked=True length=910>\n",
       "   name                        value                     \n",
       "  object                       object                    \n",
       "---------- ----------------------------------------------\n",
       "        a1                 HEAO 1 A1 X-Ray Source Catalog\n",
       "   a1point                          HEAO 1 A1 Lightcurves\n",
       " a2lcpoint                  HEAO 1 A2 Pointed Lightcurves\n",
       "  a2lcscan                  HEAO 1 A2 Scanned Lightcurves\n",
       "     a2led                          HEAO 1 A2 LED Catalog\n",
       "     a2pic                   HEAO 1 A2 Piccinotti Catalog\n",
       "   a2point                     HEAO 1 A2 Pointing Catalog\n",
       "a2specback                   HEAO 1 A2 Spectra Background\n",
       " a2spectra                              HEAO 1 A2 Spectra\n",
       "        a3                      HEAO 1 A3 MC LASS Catalog\n",
       "       ...                                            ...\n",
       "xteasmlong XTE All-Sky Monitor Long-Term Observed Sources\n",
       " xteassagn            XTE All-Sky Slew Survey AGN Catalog\n",
       " xteasscat                XTE All-Sky Slew Survey Catalog\n",
       "  xteindex                       XTE Target Index Catalog\n",
       " xtemaster                             XTE Master Catalog\n",
       "  xtemlcat                XTE Mission-Long Source Catalog\n",
       "   xteslew                  XTE Archived Public Slew Data\n",
       "      xwas                   XMM-Newton Wide Angle Survey\n",
       "      zcat       CfA Redshift Catalog (June 1995 Version)\n",
       "zwclusters                                Zwicky Clusters"
      ]
     },
     "execution_count": 34,
     "metadata": {},
     "output_type": "execute_result"
    }
   ],
   "source": [
    "tap_params[\"query\"]=\"\"\"\n",
    "    select a.name,b.value\n",
    "      from metainfo a, metainfo b\n",
    "      where\n",
    "         a.type='table' and b.type='table' and\n",
    "         a.relation='defaultSearchRadius' and\n",
    "         b.relation='description' and\n",
    "         a.name=b.name\n",
    "      order by name    \n",
    "      \"\"\"\n",
    "r = requests.get('https://heasarc.gsfc.nasa.gov/xamin/vo/tap/sync', params=tap_params)\n",
    "vot=votable.parse(io.StringIO(r.text))\n",
    "table = vot.get_first_table()\n",
    "table"
   ]
  },
  {
   "cell_type": "code",
   "execution_count": null,
   "metadata": {
    "collapsed": true
   },
   "outputs": [],
   "source": []
  },
  {
   "cell_type": "markdown",
   "metadata": {},
   "source": [
    "## 5.2 Then perform a cone search on the catalog of interest:\n",
    "In the case of a cone search, the standard specifies \"RA\", \"DEC\", \"SR\", etc. but not how the specific catalog/table is specified.  The normal way one does this is to query the registry and find the URL specific to the catalog, which in this case ends with something like \"?table=zcat&\".  For this example, we'll simply add that to the requests parameters.  "
   ]
  },
  {
   "cell_type": "code",
   "execution_count": 36,
   "metadata": {
    "collapsed": false
   },
   "outputs": [
    {
     "data": {
      "text/plain": [
       "<Table masked=True length=5>\n",
       "   name       ra      dec     bmag  ... redshift class Search_Offset\n",
       "             deg      deg           ...                             \n",
       "  object   float64  float64 float32 ... float64  int32    float64   \n",
       "---------- -------- ------- ------- ... -------- ----- -------------\n",
       " 0037+0829  9.97192 8.76280      -- ...       --  9999       12.7313\n",
       "00357+0831  9.57248 8.79145   17.00 ...       --  9999       22.4024\n",
       " 0037+0836 10.08085 8.88882   16.50 ...       --  9999       11.2726\n",
       "00370+0841  9.90662 8.96785   15.20 ...       --  6200        0.1685\n",
       "00371+0843  9.92291 9.00089   15.00 ...       --  6200        2.3460"
      ]
     },
     "execution_count": 36,
     "metadata": {},
     "output_type": "execute_result"
    }
   ],
   "source": [
    "params = {'table': 'zcat', 'RA': '9.90704', 'DEC':'8.96507', 'SR':'0.5'}\n",
    "r = requests.get('https://heasarc.gsfc.nasa.gov/cgi-bin/vo/cone/coneGet.pl', params=params)\n",
    "vot=votable.parse(io.StringIO(r.text))\n",
    "table = vot.get_first_table()\n",
    "table"
   ]
  },
  {
   "cell_type": "markdown",
   "metadata": {},
   "source": [
    "<a id=\"pvo\"></a>\n",
    "# Example 6:  Using the TAP for cross-correlation with an uploaded table\n",
    "\n",
    "First create a table following the example in http://docs.astropy.org/en/stable/io/votable/:"
   ]
  },
  {
   "cell_type": "code",
   "execution_count": 42,
   "metadata": {
    "collapsed": false
   },
   "outputs": [
    {
     "data": {
      "text/plain": [
       "<Table masked=True length=2>\n",
       "    name         ra          dec    \n",
       "   object      object       object  \n",
       "----------- ------------ -----------\n",
       "12406+3040S 190.76628151 30.38544343\n",
       " A1257+3514 194.88469528 34.98035413"
      ]
     },
     "execution_count": 42,
     "metadata": {},
     "output_type": "execute_result"
    }
   ],
   "source": [
    "##  Create a table with only two objects in it:\n",
    "from astropy.io.votable.tree import VOTableFile, Resource, Table, Field\n",
    "\n",
    "# Create a new VOTable file...\n",
    "vot = VOTableFile()\n",
    "\n",
    "# ...with one resource...\n",
    "resource = Resource()\n",
    "vot.resources.append(resource)\n",
    "\n",
    "# ... with one table\n",
    "mytable = Table(vot)\n",
    "resource.tables.append(mytable)\n",
    "\n",
    "# Define some fields\n",
    "mytable.fields.extend([\n",
    "        Field(vot, name=\"name\",  datatype=\"char\", arraysize=\"*\"),\n",
    "        Field(vot, name=\"ra\",  datatype=\"double\", arraysize=\"*\"),\n",
    "        Field(vot, name=\"dec\", datatype=\"double\", arraysize=\"*\")])\n",
    "\n",
    "# Now, use those field definitions to create the numpy record arrays, with\n",
    "# the given number of rows\n",
    "mytable.create_arrays(2)\n",
    "\n",
    "# Now table.array can be filled with data\n",
    "#  Two of the sources that matched above.\n",
    "mytable.array[0] = (\"12406+3040S\",190.76628151, 30.385443429999999)\n",
    "mytable.array[1] = (\"A1257+3514\",194.88469527999999,34.980354130000002)\n",
    "\n",
    "# Now write the whole thing to a file.\n",
    "# Note, we have to use the top-level votable file object\n",
    "vot.to_xml(\"new_votable.xml\")\n",
    "mytable"
   ]
  },
  {
   "cell_type": "markdown",
   "metadata": {},
   "source": [
    "<div class=\"alert alert-block alert-danger\">\n",
    "Why does that take so many lines and can it be simplified?</div>"
   ]
  },
  {
   "cell_type": "markdown",
   "metadata": {},
   "source": [
    "We can then hand this table to a service and reference it in the ADQL.  \n",
    "\n",
    "In this simple example, we first run the above query that found all the soruces in a given region with a given magnitude from the zcat.   "
   ]
  },
  {
   "cell_type": "code",
   "execution_count": 62,
   "metadata": {
    "collapsed": false
   },
   "outputs": [
    {
     "data": {
      "text/plain": [
       "<Table masked=True length=36>\n",
       "__row     name    ...      __y_ra_dec           __z_ra_dec    \n",
       "int32    object   ...       float64              float64      \n",
       "----- ----------- ... -------------------- -------------------\n",
       "44471  12388+3024 ... -0.85095294249416598 0.50190152660460496\n",
       "44638 12406+3040S ... -0.84745741923795403 0.50581461750528101\n",
       "44639 12406+3040N ... -0.84745741923795403 0.50581461750528101\n",
       "44753  12523+3048 ... -0.83694373047007298 0.50797744806688205\n",
       "44876  12543+3059 ... -0.83355555309067597 0.51073960747015601\n",
       "44890      N4676A ... -0.84218280700419401 0.51102705631205503\n",
       "44900  12472+3101 ... -0.83938774592399301 0.51121065877984095\n",
       "44968  12480+3107 ... -0.83786663998140898 0.51271298684336897\n",
       "45008  12466+3111 ... -0.83841224172975004 0.51370627736774599\n",
       "45120  12514+3122 ... -0.83265960327019894    0.51663830598047\n",
       "  ...         ... ...                  ...                 ...\n",
       "46935       N4737 ... -0.80729422207647505 0.56128689176181301\n",
       "46989   1244+3433 ... -0.80935943574608304 0.56321548647696096\n",
       "47042  12420+3440 ... -0.80976478817611197 0.56481785481893698\n",
       "47050   1244+3440 ... -0.80798943956868796 0.56509740054611901\n",
       "47052   1244+3441 ... -0.80803435873374096 0.56513307205542096\n",
       "47078   1244+3443 ... -0.80698640521537501 0.56581562943577601\n",
       "47086   1246+3445 ... -0.80581670382827697 0.56608412834080801\n",
       "47154   1253+3455 ... -0.79799745960686397 0.56850909934826599\n",
       "47272  12466+3508 ... -0.80182952752979997 0.57161172213631795\n",
       "47331  A1257+3514 ... -0.79185520086501104 0.57329552759514002"
      ]
     },
     "execution_count": 62,
     "metadata": {},
     "output_type": "execute_result"
    }
   ],
   "source": [
    "tap_params[\"query\"]=\"\"\"SELECT * FROM zcat as cat where cat.RA > 190. and cat.RA < 195 and cat.Dec > 30. and cat.Dec < 35 and cat.Bmag > 14.9\"\"\"\n",
    "r = requests.get('https://heasarc.gsfc.nasa.gov/xamin/vo/tap/sync', params=tap_params )\n",
    "vot=votable.parse(io.StringIO(r.text))\n",
    "table = vot.get_first_table()\n",
    "table"
   ]
  },
  {
   "cell_type": "markdown",
   "metadata": {},
   "source": [
    "The two sources in our custom-made table are simply two of these.  \n",
    "\n",
    "We can then do a trivial cross-correlation between the zcat contents and our own table, in this case simply asking for the subset of sources above that happen to have names in our table:"
   ]
  },
  {
   "cell_type": "code",
   "execution_count": 79,
   "metadata": {
    "collapsed": false
   },
   "outputs": [
    {
     "name": "stdout",
     "output_type": "stream",
     "text": [
      "{'lang': 'ADQL', 'query': 'SELECT * FROM zcat as cat where cat.RA > 190. and cat.RA < 195 and cat.Dec > 30. and cat.Dec < 35 and cat.Bmag > 14.9', 'request': 'doQuery', 'mytable': <open file 'new_votable.xml', mode 'rb' at 0x113f3bd20>, 'file': ('mytable', <open file 'new_votable.xml', mode 'rb' at 0x113f3bb70>)}\n"
     ]
    }
   ],
   "source": [
    "print tap_params"
   ]
  },
  {
   "cell_type": "code",
   "execution_count": 88,
   "metadata": {
    "collapsed": false
   },
   "outputs": [
    {
     "data": {
      "text/plain": [
       "<Table masked=True length=2>\n",
       "__row     name            ra         ...        ra_2              dec_2       \n",
       "int32    object        float64       ...       object             object      \n",
       "----- ----------- ------------------ ... ------------------ ------------------\n",
       "44638 12406+3040S       190.76628151 ...       190.76628151 30.385443429999999\n",
       "47331  A1257+3514 194.88469527999999 ... 194.88469527999999 34.980354130000002"
      ]
     },
     "execution_count": 88,
     "metadata": {},
     "output_type": "execute_result"
    }
   ],
   "source": [
    "## These are defined in the TAP standard:\n",
    "cc_params={'lang': 'ADQL', 'request': 'doQuery','upload':'mytable,param:tab1'}\n",
    "## This is your ADQL query, where \"mytable\" here has to match what you specified in the upload parameter \n",
    "cc_params[\"query\"]=\"\"\"SELECT * FROM zcat cat, tap_upload.mytable mt where cat.RA > 190. and cat.RA < 195 \n",
    "    and cat.Dec > 30. and cat.Dec < 35 and cat.Bmag > 14.9 and cat.name = mt.name\"\"\"\n",
    "## The name you give here (tab1) matches what's in the cc_params\n",
    "files={'tab1':open('new_votable.xml', 'rb')}\n",
    "r = requests.post('https://heasarc.gsfc.nasa.gov/xamin/vo/tap/sync',data=cc_params,stream=True,files=files)\n",
    "#r.text\n",
    "vot=votable.parse(io.StringIO(r.text))\n",
    "table = vot.get_first_table()\n",
    "table"
   ]
  },
  {
   "cell_type": "markdown",
   "metadata": {},
   "source": [
    "For a mores sophisticated example, we can use the ADQL function *contains* to find sources in rosmaster catalog that are within a specified distance from each source in the uploaded table.  "
   ]
  },
  {
   "cell_type": "code",
   "execution_count": null,
   "metadata": {
    "collapsed": true
   },
   "outputs": [],
   "source": []
  },
  {
   "cell_type": "code",
   "execution_count": null,
   "metadata": {
    "collapsed": true
   },
   "outputs": [],
   "source": []
  },
  {
   "cell_type": "code",
   "execution_count": null,
   "metadata": {
    "collapsed": true
   },
   "outputs": [],
   "source": []
  },
  {
   "cell_type": "code",
   "execution_count": null,
   "metadata": {
    "collapsed": true
   },
   "outputs": [],
   "source": []
  },
  {
   "cell_type": "code",
   "execution_count": null,
   "metadata": {
    "collapsed": true
   },
   "outputs": [],
   "source": []
  },
  {
   "cell_type": "code",
   "execution_count": null,
   "metadata": {
    "collapsed": true
   },
   "outputs": [],
   "source": []
  }
 ],
 "metadata": {
  "kernelspec": {
   "display_name": "Python 2",
   "language": "python",
   "name": "python2"
  },
  "language_info": {
   "codemirror_mode": {
    "name": "ipython",
    "version": 2
   },
   "file_extension": ".py",
   "mimetype": "text/x-python",
   "name": "python",
   "nbconvert_exporter": "python",
   "pygments_lexer": "ipython2",
   "version": "2.7.12"
  }
 },
 "nbformat": 4,
 "nbformat_minor": 1
}
